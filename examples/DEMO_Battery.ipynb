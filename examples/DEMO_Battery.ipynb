{
 "cells": [
  {
   "cell_type": "code",
   "execution_count": null,
   "id": "fede0880",
   "metadata": {},
   "outputs": [],
   "source": [
    "# using ElectricGrid\n",
    "using Interpolations\n",
    "\n",
    "using PlotlyJS\n",
    "# using .LookupTables"
   ]
  },
  {
   "cell_type": "code",
   "execution_count": null,
   "id": "435093de",
   "metadata": {},
   "outputs": [],
   "source": [
    "using BenchmarkTools"
   ]
  },
  {
   "cell_type": "code",
   "execution_count": null,
   "id": "d9e14323",
   "metadata": {},
   "outputs": [],
   "source": [
    "x = collect(0:0.1:1)\n",
    "y = vec([293.15 313.15])\n",
    "grid = [0.010342 0.0012244;\n",
    "0.0067316 0.0011396;\n",
    "0.0051156 0.0012661;\n",
    "0.0043447 0.0012265;\n",
    "0.0038826 0.0011163;\n",
    "0.0034226 0.0009968;\n",
    "0.003346 0.0011458;\n",
    "0.0033222 0.001345;\n",
    "0.0033201 0.0013091;\n",
    "0.0032886 0.0010986;\n",
    "0.0028114 0.0010309];"
   ]
  },
  {
   "cell_type": "code",
   "execution_count": null,
   "id": "d81b93ae",
   "metadata": {},
   "outputs": [],
   "source": [
    "@benchmark itp = LinearInterpolation((x,y), grid)"
   ]
  },
  {
   "cell_type": "code",
   "execution_count": null,
   "id": "3f83cd6a",
   "metadata": {},
   "outputs": [],
   "source": [
    "itp = LinearInterpolation((x,y), grid)"
   ]
  },
  {
   "cell_type": "code",
   "execution_count": null,
   "id": "2f8321e0",
   "metadata": {},
   "outputs": [],
   "source": [
    "@benchmark itp(0.5, 300)"
   ]
  },
  {
   "cell_type": "markdown",
   "id": "bdd4ad4a",
   "metadata": {},
   "source": [
    "## Define Battery moduls"
   ]
  },
  {
   "cell_type": "code",
   "execution_count": null,
   "id": "9407981b",
   "metadata": {},
   "outputs": [],
   "source": [
    "Base.@kwdef mutable struct battery_module\n",
    "     R = [0.010342 0.0012244;\n",
    "        0.0067316 0.0011396;\n",
    "        0.0051156 0.0012661;\n",
    "        0.0043447 0.0012265;\n",
    "        0.0038826 0.0011163;\n",
    "        0.0034226 0.0009968;\n",
    "        0.003346 0.0011458;\n",
    "        0.0033222 0.001345;\n",
    "        0.0033201 0.0013091;\n",
    "        0.0032886 0.0010986;\n",
    "        0.0028114 0.0010309]     # Resistance for n-th RC pair\n",
    "#     R = [0.02 0.04;\n",
    "#         0.04 0.08;\n",
    "#         0.06 0.12;\n",
    "#         0.08 0.16;\n",
    "#         0.10 0.20;\n",
    "#         0.12 0.24;\n",
    "#         0.14 0.28;\n",
    "#         0.16 0.32;\n",
    "#         0.18 0.36;\n",
    "#         0.2 0.40;\n",
    "#         0.22 0.44]\n",
    "    C = [2287.7 11897;\n",
    "        6122 24515;\n",
    "        18460 42098;\n",
    "        20975 44453;\n",
    "        15254 33098;\n",
    "        10440 24492;\n",
    "        13903 32975;\n",
    "        16694 40007;\n",
    "        15784 35937;\n",
    "        12165 26430;\n",
    "        9118 24795]   # Capacitance for n-th RC pair\n",
    "#     C = R*10000\n",
    "end;"
   ]
  },
  {
   "cell_type": "code",
   "execution_count": null,
   "id": "719b2c57",
   "metadata": {},
   "outputs": [],
   "source": [
    "Base.@kwdef mutable struct battery_block\n",
    "    battery_module::battery_module\n",
    "    T = 273.15    # temperature offset\n",
    "    n = 3                      # number of RC pairs\n",
    "    R_0 = 0.016                  # series resistance\n",
    "    V_0 = [3.5042 3.5136;\n",
    "        3.5573 3.5646;\n",
    "        3.6009 3.6153;\n",
    "        3.6393 3.6565;\n",
    "        3.6742 3.6889;\n",
    "        3.7121 3.7214;\n",
    "        3.7937 3.8078;\n",
    "        3.8753 3.8945;\n",
    "        3.97 3.9859;\n",
    "        4.0764 4.0821;\n",
    "        4.1924 4.193]          # Battery open-circuit voltage\n",
    "    Q = 0                      # Current Ladung in A*s\n",
    "    Q_0 = n*26*3600              # Nominal Ladung\n",
    "    SOC = 0                    # State of Charge (SOC)\n",
    "    SOC_BP = vec([0 0.1 0.2 0.3 0.4 0.5 0.6 0.7 0.8 0.9 1])\n",
    "    T_BP = vec([293.15 313.15])\n",
    "    tau = 1e-4\n",
    "    mode = nothing\n",
    "    V = 0\n",
    "    LT_V0 = LinearInterpolation((SOC_BP,T_BP), V_0)\n",
    "    LT_R = LinearInterpolation((SOC_BP,T_BP), battery_module.R)\n",
    "    I_limit = 1\n",
    "    P_1h = nothing\n",
    "end;"
   ]
  },
  {
   "cell_type": "code",
   "execution_count": null,
   "id": "2bdc0ed3",
   "metadata": {},
   "outputs": [],
   "source": [
    "function update(self::battery_block, I_batt, T)\n",
    "    \n",
    "    T_ = self.T + T\n",
    "    \n",
    "    self.Q = clamp(self.Q - I_batt * self.tau, 0, self.Q_0) # Clamp \n",
    "    self.SOC = clamp(self.Q/self.Q_0, 0, 1)\n",
    "    \n",
    "    if sign(I_batt) == -1\n",
    "        self.mode = \"charge\"\n",
    "    else\n",
    "        self.mode = \"discharge\"\n",
    "    end\n",
    "    \n",
    "    P_1h = self.Q/3600 * self.LT_V0(self.SOC, T_)\n",
    "    \n",
    "    I_batt = clamp(I_batt, -self.I_limit, self.I_limit) # Current limitation\n",
    "    \n",
    "    self.V = self.LT_V0(self.SOC, T_) - self.n * self.LT_R(self.SOC, T_) * I_batt - self.R_0 * I_batt \n",
    "    \n",
    "end"
   ]
  },
  {
   "cell_type": "code",
   "execution_count": null,
   "id": "ce6fbaae",
   "metadata": {},
   "outputs": [],
   "source": [
    "Cell = battery_module();"
   ]
  },
  {
   "cell_type": "code",
   "execution_count": null,
   "id": "078b5ac2",
   "metadata": {},
   "outputs": [],
   "source": [
    "Battery = battery_block(battery_module=Cell);"
   ]
  },
  {
   "cell_type": "markdown",
   "id": "3748c1a9",
   "metadata": {},
   "source": [
    "### Test"
   ]
  },
  {
   "cell_type": "code",
   "execution_count": null,
   "id": "42ee6a77",
   "metadata": {},
   "outputs": [],
   "source": [
    "SOC_load = []\n",
    "Voltage_load = []\n",
    "Current_load = []\n",
    "\n",
    "SOC_discharge = []\n",
    "Voltage_discharge = []\n",
    "Current_discharge = []"
   ]
  },
  {
   "cell_type": "code",
   "execution_count": null,
   "id": "c9e39acd",
   "metadata": {},
   "outputs": [],
   "source": [
    "Ts = 1e-4\n",
    "I_s = 5"
   ]
  },
  {
   "cell_type": "code",
   "execution_count": null,
   "id": "b50686f2",
   "metadata": {
    "scrolled": true
   },
   "outputs": [],
   "source": [
    "for i in 1:10e8\n",
    "    I_in = -I_s\n",
    "\n",
    "    update(Battery, I_in, 20)\n",
    "\n",
    "    append!(SOC_load, Battery.SOC)\n",
    "    append!(Current_load, I_in)\n",
    "    append!(Voltage_load, Battery.V)\n",
    "    \n",
    "    # println(\"Mode: $(Battery.mode)\")\n",
    "    # println(\"State of Charge $(Battery.SOC)\")\n",
    "    # println(\"Output Voltage $(Battery.V)\")\n",
    "end\n",
    "\n",
    "for i in 1:10e8\n",
    "    I_in = I_s\n",
    "\n",
    "    update(Battery, I_in, 20)\n",
    "\n",
    "    append!(SOC_discharge, Battery.SOC)\n",
    "    append!(Current_discharge, I_in)\n",
    "    append!(Voltage_discharge, Battery.V)\n",
    "    \n",
    "end"
   ]
  },
  {
   "cell_type": "code",
   "execution_count": null,
   "id": "9631d7d1",
   "metadata": {},
   "outputs": [],
   "source": [
    "size(SOC_load)"
   ]
  },
  {
   "cell_type": "code",
   "execution_count": null,
   "id": "de5ee680",
   "metadata": {},
   "outputs": [],
   "source": [
    "size(SOC_load[1:1000:end])"
   ]
  },
  {
   "cell_type": "code",
   "execution_count": null,
   "id": "d2bcc47e",
   "metadata": {},
   "outputs": [],
   "source": [
    "plot([scatter(x=SOC_load[1:100000:end], y=Voltage_load[1:100000:end], mode=\"markers\", name=\"Charge\"),\n",
    "scatter(x=SOC_discharge[1:100000:end], y=Voltage_discharge[1:100000:end], mode=\"markers\", name=\"Discharge\")])"
   ]
  },
  {
   "cell_type": "code",
   "execution_count": null,
   "id": "b295575d",
   "metadata": {},
   "outputs": [],
   "source": [
    "plot([scatter(x=SOC_load, y=Current_load, mode=\"markers\", name=\"Charge\"),\n",
    "      scatter(x=SOC_discharge, y=Current_discharge, mode=\"markers\", name=\"Discharge\")])"
   ]
  },
  {
   "cell_type": "code",
   "execution_count": null,
   "id": "94bccdf0",
   "metadata": {},
   "outputs": [],
   "source": []
  },
  {
   "cell_type": "code",
   "execution_count": null,
   "id": "a3a3d53a",
   "metadata": {},
   "outputs": [],
   "source": []
  }
 ],
 "metadata": {
  "@webio": {
   "lastCommId": null,
   "lastKernelId": null
  },
  "kernelspec": {
   "display_name": "Julia 1.8.5",
   "language": "julia",
   "name": "julia-1.8"
  },
  "language_info": {
   "file_extension": ".jl",
   "mimetype": "application/julia",
   "name": "julia",
   "version": "1.8.5"
  }
 },
 "nbformat": 4,
 "nbformat_minor": 5
}
