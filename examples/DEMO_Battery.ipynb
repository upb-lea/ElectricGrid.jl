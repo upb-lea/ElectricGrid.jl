{
 "cells": [
  {
   "cell_type": "code",
   "execution_count": 1,
   "id": "fede0880",
   "metadata": {},
   "outputs": [
    {
     "data": {
      "application/vnd.webio.node+json": {
       "children": [],
       "instanceArgs": {
        "namespace": "html",
        "tag": "div"
       },
       "nodeType": "DOM",
       "props": {},
       "type": "node"
      },
      "text/html": [
       "<div style=\"padding: 1em; background-color: #f8d6da; border: 1px solid #f5c6cb; font-weight: bold;\">\n",
       "<p>The WebIO Jupyter extension was not detected. See the\n",
       "<a href=\"https://juliagizmos.github.io/WebIO.jl/latest/providers/ijulia/\" target=\"_blank\">\n",
       "    WebIO Jupyter integration documentation\n",
       "</a>\n",
       "for more information.\n",
       "</div>\n"
      ],
      "text/plain": [
       "WebIO._IJuliaInit()"
      ]
     },
     "metadata": {
      "application/vnd.webio.node+json": {
       "kernelId": "d6f18dc3-311a-446e-8cb6-1fdc24848e62"
      }
     },
     "output_type": "display_data"
    }
   ],
   "source": [
    "using ElectricGrid\n",
    "using Interpolations\n",
    "\n",
    "using PlotlyJS\n",
    "# using .LookupTables"
   ]
  },
  {
   "cell_type": "code",
   "execution_count": 2,
   "id": "435093de",
   "metadata": {},
   "outputs": [],
   "source": [
    "using BenchmarkTools"
   ]
  },
  {
   "cell_type": "code",
   "execution_count": 3,
   "id": "d9e14323",
   "metadata": {},
   "outputs": [],
   "source": [
    "x = collect(0:0.1:1)\n",
    "y = vec([293.15 313.15])\n",
    "grid = [0.010342 0.0012244;\n",
    "0.0067316 0.0011396;\n",
    "0.0051156 0.0012661;\n",
    "0.0043447 0.0012265;\n",
    "0.0038826 0.0011163;\n",
    "0.0034226 0.0009968;\n",
    "0.003346 0.0011458;\n",
    "0.0033222 0.001345;\n",
    "0.0033201 0.0013091;\n",
    "0.0032886 0.0010986;\n",
    "0.0028114 0.0010309];"
   ]
  },
  {
   "cell_type": "code",
   "execution_count": 4,
   "id": "d81b93ae",
   "metadata": {},
   "outputs": [
    {
     "data": {
      "text/plain": [
       "BenchmarkTools.Trial: 10000 samples with 178 evaluations.\n",
       " Range \u001b[90m(\u001b[39m\u001b[36m\u001b[1mmin\u001b[22m\u001b[39m … \u001b[35mmax\u001b[39m\u001b[90m):  \u001b[39m\u001b[36m\u001b[1m608.427 ns\u001b[22m\u001b[39m … \u001b[35m224.287 μs\u001b[39m  \u001b[90m┊\u001b[39m GC \u001b[90m(\u001b[39mmin … max\u001b[90m): \u001b[39m 0.00% … 99.38%\n",
       " Time  \u001b[90m(\u001b[39m\u001b[34m\u001b[1mmedian\u001b[22m\u001b[39m\u001b[90m):     \u001b[39m\u001b[34m\u001b[1m  1.067 μs               \u001b[22m\u001b[39m\u001b[90m┊\u001b[39m GC \u001b[90m(\u001b[39mmedian\u001b[90m):    \u001b[39m 0.00%\n",
       " Time  \u001b[90m(\u001b[39m\u001b[32m\u001b[1mmean\u001b[22m\u001b[39m ± \u001b[32mσ\u001b[39m\u001b[90m):   \u001b[39m\u001b[32m\u001b[1m  1.323 μs\u001b[22m\u001b[39m ± \u001b[32m  5.948 μs\u001b[39m  \u001b[90m┊\u001b[39m GC \u001b[90m(\u001b[39mmean ± σ\u001b[90m):  \u001b[39m17.19% ±  3.83%\n",
       "\n",
       "  \u001b[39m \u001b[39m▄\u001b[39m▂\u001b[39m \u001b[39m \u001b[39m \u001b[39m \u001b[39m \u001b[39m \u001b[39m \u001b[39m \u001b[39m█\u001b[34m▆\u001b[39m\u001b[39m▃\u001b[39m▃\u001b[39m \u001b[39m \u001b[39m \u001b[39m \u001b[32m \u001b[39m\u001b[39m \u001b[39m \u001b[39m \u001b[39m \u001b[39m \u001b[39m \u001b[39m \u001b[39m \u001b[39m \u001b[39m \u001b[39m \u001b[39m \u001b[39m \u001b[39m \u001b[39m \u001b[39m \u001b[39m \u001b[39m \u001b[39m \u001b[39m \u001b[39m \u001b[39m \u001b[39m \u001b[39m \u001b[39m \u001b[39m \u001b[39m \u001b[39m \u001b[39m \u001b[39m \u001b[39m \u001b[39m \u001b[39m \u001b[39m \u001b[39m \u001b[39m \u001b[39m \u001b[39m \u001b[39m \u001b[39m \u001b[39m \u001b[39m \u001b[39m \n",
       "  \u001b[39m▇\u001b[39m█\u001b[39m█\u001b[39m▆\u001b[39m▃\u001b[39m▂\u001b[39m▂\u001b[39m▂\u001b[39m▂\u001b[39m▆\u001b[39m█\u001b[39m█\u001b[34m█\u001b[39m\u001b[39m█\u001b[39m█\u001b[39m█\u001b[39m▅\u001b[39m▄\u001b[39m▃\u001b[32m▃\u001b[39m\u001b[39m▂\u001b[39m▂\u001b[39m▂\u001b[39m▂\u001b[39m▂\u001b[39m▂\u001b[39m▂\u001b[39m▁\u001b[39m▂\u001b[39m▁\u001b[39m▁\u001b[39m▁\u001b[39m▁\u001b[39m▂\u001b[39m▁\u001b[39m▁\u001b[39m▁\u001b[39m▁\u001b[39m▁\u001b[39m▁\u001b[39m▁\u001b[39m▁\u001b[39m▁\u001b[39m▁\u001b[39m▁\u001b[39m▁\u001b[39m▁\u001b[39m▁\u001b[39m▁\u001b[39m▁\u001b[39m▁\u001b[39m▁\u001b[39m▁\u001b[39m▁\u001b[39m▁\u001b[39m▁\u001b[39m▁\u001b[39m▁\u001b[39m▁\u001b[39m▁\u001b[39m▁\u001b[39m \u001b[39m▂\n",
       "  608 ns\u001b[90m           Histogram: frequency by time\u001b[39m         2.93 μs \u001b[0m\u001b[1m<\u001b[22m\n",
       "\n",
       " Memory estimate\u001b[90m: \u001b[39m\u001b[33m1.88 KiB\u001b[39m, allocs estimate\u001b[90m: \u001b[39m\u001b[33m16\u001b[39m."
      ]
     },
     "execution_count": 4,
     "metadata": {},
     "output_type": "execute_result"
    }
   ],
   "source": [
    "@benchmark itp = LinearInterpolation((x,y), grid)"
   ]
  },
  {
   "cell_type": "code",
   "execution_count": 5,
   "id": "3f83cd6a",
   "metadata": {},
   "outputs": [
    {
     "data": {
      "text/plain": [
       "11×2 extrapolate(interpolate((::Vector{Float64},::Vector{Float64}), ::Matrix{Float64}, Gridded(Linear())), Throw()) with element type Float64:\n",
       " 0.010342   0.0012244\n",
       " 0.0067316  0.0011396\n",
       " 0.0051156  0.0012661\n",
       " 0.0043447  0.0012265\n",
       " 0.0038826  0.0011163\n",
       " 0.0034226  0.0009968\n",
       " 0.003346   0.0011458\n",
       " 0.0033222  0.001345\n",
       " 0.0033201  0.0013091\n",
       " 0.0032886  0.0010986\n",
       " 0.0028114  0.0010309"
      ]
     },
     "execution_count": 5,
     "metadata": {},
     "output_type": "execute_result"
    }
   ],
   "source": [
    "itp = LinearInterpolation((x,y), grid)"
   ]
  },
  {
   "cell_type": "code",
   "execution_count": 6,
   "id": "2f8321e0",
   "metadata": {},
   "outputs": [
    {
     "data": {
      "text/plain": [
       "BenchmarkTools.Trial: 10000 samples with 995 evaluations.\n",
       " Range \u001b[90m(\u001b[39m\u001b[36m\u001b[1mmin\u001b[22m\u001b[39m … \u001b[35mmax\u001b[39m\u001b[90m):  \u001b[39m\u001b[36m\u001b[1m32.764 ns\u001b[22m\u001b[39m … \u001b[35m117.889 ns\u001b[39m  \u001b[90m┊\u001b[39m GC \u001b[90m(\u001b[39mmin … max\u001b[90m): \u001b[39m0.00% … 0.00%\n",
       " Time  \u001b[90m(\u001b[39m\u001b[34m\u001b[1mmedian\u001b[22m\u001b[39m\u001b[90m):     \u001b[39m\u001b[34m\u001b[1m37.286 ns               \u001b[22m\u001b[39m\u001b[90m┊\u001b[39m GC \u001b[90m(\u001b[39mmedian\u001b[90m):    \u001b[39m0.00%\n",
       " Time  \u001b[90m(\u001b[39m\u001b[32m\u001b[1mmean\u001b[22m\u001b[39m ± \u001b[32mσ\u001b[39m\u001b[90m):   \u001b[39m\u001b[32m\u001b[1m38.261 ns\u001b[22m\u001b[39m ± \u001b[32m  3.928 ns\u001b[39m  \u001b[90m┊\u001b[39m GC \u001b[90m(\u001b[39mmean ± σ\u001b[90m):  \u001b[39m0.00% ± 0.00%\n",
       "\n",
       "  \u001b[39m \u001b[39m▁\u001b[39m▁\u001b[39m▁\u001b[39m▁\u001b[39m▁\u001b[39m▂\u001b[39m▂\u001b[39m▃\u001b[39m▆\u001b[39m█\u001b[39m█\u001b[34m█\u001b[39m\u001b[39m▇\u001b[39m▅\u001b[32m▅\u001b[39m\u001b[39m▄\u001b[39m▄\u001b[39m▃\u001b[39m▂\u001b[39m▂\u001b[39m▃\u001b[39m▃\u001b[39m▃\u001b[39m▃\u001b[39m▂\u001b[39m▃\u001b[39m▂\u001b[39m▂\u001b[39m▂\u001b[39m▁\u001b[39m▁\u001b[39m▁\u001b[39m▁\u001b[39m \u001b[39m▁\u001b[39m \u001b[39m \u001b[39m \u001b[39m \u001b[39m \u001b[39m \u001b[39m \u001b[39m \u001b[39m \u001b[39m \u001b[39m \u001b[39m \u001b[39m \u001b[39m \u001b[39m \u001b[39m \u001b[39m \u001b[39m \u001b[39m \u001b[39m \u001b[39m \u001b[39m \u001b[39m \u001b[39m \u001b[39m \u001b[39m▃\n",
       "  \u001b[39m▇\u001b[39m█\u001b[39m█\u001b[39m█\u001b[39m█\u001b[39m█\u001b[39m█\u001b[39m█\u001b[39m█\u001b[39m█\u001b[39m█\u001b[39m█\u001b[34m█\u001b[39m\u001b[39m█\u001b[39m█\u001b[32m█\u001b[39m\u001b[39m█\u001b[39m█\u001b[39m█\u001b[39m█\u001b[39m█\u001b[39m█\u001b[39m█\u001b[39m█\u001b[39m█\u001b[39m█\u001b[39m█\u001b[39m█\u001b[39m█\u001b[39m█\u001b[39m█\u001b[39m█\u001b[39m█\u001b[39m█\u001b[39m▇\u001b[39m█\u001b[39m▇\u001b[39m▆\u001b[39m█\u001b[39m▇\u001b[39m▆\u001b[39m▆\u001b[39m▆\u001b[39m▅\u001b[39m▅\u001b[39m▅\u001b[39m▅\u001b[39m▅\u001b[39m▆\u001b[39m▆\u001b[39m▅\u001b[39m▅\u001b[39m▅\u001b[39m▄\u001b[39m▅\u001b[39m▆\u001b[39m▆\u001b[39m▅\u001b[39m▁\u001b[39m▃\u001b[39m \u001b[39m█\n",
       "  32.8 ns\u001b[90m       \u001b[39m\u001b[90mHistogram: \u001b[39m\u001b[90m\u001b[1mlog(\u001b[22m\u001b[39m\u001b[90mfrequency\u001b[39m\u001b[90m\u001b[1m)\u001b[22m\u001b[39m\u001b[90m by time\u001b[39m      54.8 ns \u001b[0m\u001b[1m<\u001b[22m\n",
       "\n",
       " Memory estimate\u001b[90m: \u001b[39m\u001b[33m16 bytes\u001b[39m, allocs estimate\u001b[90m: \u001b[39m\u001b[33m1\u001b[39m."
      ]
     },
     "execution_count": 6,
     "metadata": {},
     "output_type": "execute_result"
    }
   ],
   "source": [
    "@benchmark itp(0.5, 300)"
   ]
  },
  {
   "cell_type": "markdown",
   "id": "bdd4ad4a",
   "metadata": {},
   "source": [
    "## Define Battery moduls"
   ]
  },
  {
   "cell_type": "code",
   "execution_count": 7,
   "id": "9407981b",
   "metadata": {},
   "outputs": [],
   "source": [
    "Base.@kwdef mutable struct battery_module\n",
    "     R = [0.010342 0.0012244;\n",
    "        0.0067316 0.0011396;\n",
    "        0.0051156 0.0012661;\n",
    "        0.0043447 0.0012265;\n",
    "        0.0038826 0.0011163;\n",
    "        0.0034226 0.0009968;\n",
    "        0.003346 0.0011458;\n",
    "        0.0033222 0.001345;\n",
    "        0.0033201 0.0013091;\n",
    "        0.0032886 0.0010986;\n",
    "        0.0028114 0.0010309]     # Resistance for n-th RC pair\n",
    "#     R = [0.02 0.04;\n",
    "#         0.04 0.08;\n",
    "#         0.06 0.12;\n",
    "#         0.08 0.16;\n",
    "#         0.10 0.20;\n",
    "#         0.12 0.24;\n",
    "#         0.14 0.28;\n",
    "#         0.16 0.32;\n",
    "#         0.18 0.36;\n",
    "#         0.2 0.40;\n",
    "#         0.22 0.44]\n",
    "    C = [2287.7 11897;\n",
    "        6122 24515;\n",
    "        18460 42098;\n",
    "        20975 44453;\n",
    "        15254 33098;\n",
    "        10440 24492;\n",
    "        13903 32975;\n",
    "        16694 40007;\n",
    "        15784 35937;\n",
    "        12165 26430;\n",
    "        9118 24795]   # Capacitance for n-th RC pair\n",
    "#     C = R*10000\n",
    "end;"
   ]
  },
  {
   "cell_type": "code",
   "execution_count": 8,
   "id": "719b2c57",
   "metadata": {},
   "outputs": [],
   "source": [
    "Base.@kwdef mutable struct battery_block\n",
    "    battery_module::battery_module\n",
    "    T = 273.15    # temperature offset\n",
    "    n = 3                      # number of RC pairs\n",
    "    R_0 = 0.016                  # series resistance\n",
    "    V_0 = [3.5042 3.5136;\n",
    "        3.5573 3.5646;\n",
    "        3.6009 3.6153;\n",
    "        3.6393 3.6565;\n",
    "        3.6742 3.6889;\n",
    "        3.7121 3.7214;\n",
    "        3.7937 3.8078;\n",
    "        3.8753 3.8945;\n",
    "        3.97 3.9859;\n",
    "        4.0764 4.0821;\n",
    "        4.1924 4.193]          # Battery open-circuit voltage\n",
    "    Q = 0                      # Current Ladung in A*s\n",
    "    Q_0 = n*26*3600              # Nominal Ladung\n",
    "    SOC = 0                    # State of Charge (SOC)\n",
    "    SOC_BP = vec([0 0.1 0.2 0.3 0.4 0.5 0.6 0.7 0.8 0.9 1])\n",
    "    T_BP = vec([293.15 313.15])\n",
    "    tau = 1 #0.1e-3\n",
    "    mode = nothing\n",
    "    V = 0\n",
    "    LT_V0 = LinearInterpolation((SOC_BP,T_BP), V_0)\n",
    "    LT_R = LinearInterpolation((SOC_BP,T_BP), battery_module.R)\n",
    "    I_limit = 15\n",
    "    P_1h = nothing\n",
    "end;"
   ]
  },
  {
   "cell_type": "code",
   "execution_count": 9,
   "id": "2bdc0ed3",
   "metadata": {},
   "outputs": [
    {
     "data": {
      "text/plain": [
       "update (generic function with 1 method)"
      ]
     },
     "execution_count": 9,
     "metadata": {},
     "output_type": "execute_result"
    }
   ],
   "source": [
    "function update(self::battery_block, I_batt, T)\n",
    "    \n",
    "    T_ = self.T + T\n",
    "    \n",
    "    self.Q = clamp(self.Q - I_batt * self.tau, 0, self.Q_0) # Clamp \n",
    "    self.SOC = clamp(self.Q/self.Q_0, 0, 1)\n",
    "    \n",
    "    if sign(I_batt) == -1\n",
    "        self.mode = \"charge\"\n",
    "    else\n",
    "        self.mode = \"discharge\"\n",
    "    end\n",
    "    \n",
    "    P_1h = self.Q/3600 * self.LT_V0(self.SOC, T_)\n",
    "    \n",
    "    I_batt = clamp(I_batt, -self.I_limit, self.I_limit) # Current limitation\n",
    "    \n",
    "    self.V = self.LT_V0(self.SOC, T_) - self.n * self.LT_R(self.SOC, T_) * I_batt - self.R_0 * I_batt \n",
    "    \n",
    "end"
   ]
  },
  {
   "cell_type": "code",
   "execution_count": 10,
   "id": "ce6fbaae",
   "metadata": {},
   "outputs": [],
   "source": [
    "Cell = battery_module();"
   ]
  },
  {
   "cell_type": "code",
   "execution_count": 11,
   "id": "078b5ac2",
   "metadata": {},
   "outputs": [],
   "source": [
    "Battery = battery_block(battery_module=Cell);"
   ]
  },
  {
   "cell_type": "markdown",
   "id": "3748c1a9",
   "metadata": {},
   "source": [
    "### Test"
   ]
  },
  {
   "cell_type": "code",
   "execution_count": 12,
   "id": "42ee6a77",
   "metadata": {},
   "outputs": [
    {
     "data": {
      "text/plain": [
       "Any[]"
      ]
     },
     "execution_count": 12,
     "metadata": {},
     "output_type": "execute_result"
    }
   ],
   "source": [
    "SOC_load = []\n",
    "Voltage_load = []\n",
    "Current_load = []\n",
    "\n",
    "SOC_discharge = []\n",
    "Voltage_discharge = []\n",
    "Current_discharge = []"
   ]
  },
  {
   "cell_type": "code",
   "execution_count": 13,
   "id": "c9e39acd",
   "metadata": {},
   "outputs": [
    {
     "data": {
      "text/plain": [
       "0.05"
      ]
     },
     "execution_count": 13,
     "metadata": {},
     "output_type": "execute_result"
    }
   ],
   "source": [
    "Ts = 1e-4\n",
    "I_s = .05"
   ]
  },
  {
   "cell_type": "code",
   "execution_count": 14,
   "id": "b50686f2",
   "metadata": {
    "scrolled": true
   },
   "outputs": [],
   "source": [
    "for i in 1:1000000*6\n",
    "    I_in = -I_s\n",
    "\n",
    "    update(Battery, I_in, 20)\n",
    "\n",
    "    append!(SOC_load, Battery.SOC)\n",
    "    append!(Current_load, I_in)\n",
    "    append!(Voltage_load, Battery.V)\n",
    "    \n",
    "    # println(\"Mode: $(Battery.mode)\")\n",
    "    # println(\"State of Charge $(Battery.SOC)\")\n",
    "    # println(\"Output Voltage $(Battery.V)\")\n",
    "end\n",
    "\n",
    "for i in 1:1000000*6\n",
    "    I_in = I_s\n",
    "\n",
    "    update(Battery, I_in, 20)\n",
    "\n",
    "    append!(SOC_discharge, Battery.SOC)\n",
    "    append!(Current_discharge, I_in)\n",
    "    append!(Voltage_discharge, Battery.V)\n",
    "    \n",
    "end"
   ]
  },
  {
   "cell_type": "code",
   "execution_count": 15,
   "id": "9631d7d1",
   "metadata": {},
   "outputs": [
    {
     "data": {
      "text/plain": [
       "(6000000,)"
      ]
     },
     "execution_count": 15,
     "metadata": {},
     "output_type": "execute_result"
    }
   ],
   "source": [
    "size(SOC_load)"
   ]
  },
  {
   "cell_type": "code",
   "execution_count": 16,
   "id": "de5ee680",
   "metadata": {},
   "outputs": [
    {
     "data": {
      "text/plain": [
       "(6000,)"
      ]
     },
     "execution_count": 16,
     "metadata": {},
     "output_type": "execute_result"
    }
   ],
   "source": [
    "size(SOC_load[1:1000:end])"
   ]
  },
  {
   "cell_type": "code",
   "execution_count": 17,
   "id": "d2bcc47e",
   "metadata": {},
   "outputs": [
    {
     "data": {
      "application/vnd.plotly.v1+json": {
       "config": {
        "editable": false,
        "responsive": true,
        "scrollZoom": true,
        "showLink": false,
        "staticPlot": false
       },
       "data": [
        {
         "mode": "markers",
         "name": "Charge",
         "type": "scatter",
         "x": [
          1.7806267806267808e-07,
          0.01780644586897943,
          0.03561271367519489,
          0.05341898148120358,
          0.07122524928721229,
          0.08903151709322098,
          0.10683778489922967,
          0.1246440527058167,
          0.14245032051312095,
          0.16025658832042525,
          0.1780628561277295,
          0.19586912393503378,
          0.21367539174233804,
          0.2314816595496423,
          0.24928792735694655,
          0.2670941951642508,
          0.2849004629715551,
          0.30270673077885935,
          0.3205129985861636,
          0.3383192663934679,
          0.35612553420077214,
          0.3739318020080764,
          0.3917380698153807,
          0.40954433762268494,
          0.4273506054299892,
          0.44515687323729347,
          0.46296314104459774,
          0.4807694088478307,
          0.49857567664995267,
          0.5163819444520746,
          0.5341882122541965,
          0.5519944800563186,
          0.5698007478584405,
          0.5876070156605625,
          0.6054132834626844,
          0.6232195512648064,
          0.6410258190669283,
          0.6588320868690503,
          0.6766383546711723,
          0.6944446224732942,
          0.7122508902754162,
          0.7300571580775381,
          0.7478634258796601,
          0.7656696936817821,
          0.7834759614839041,
          0.801282229286026,
          0.819088497088148,
          0.8368947648902699,
          0.8547010326923918,
          0.8725073004945139,
          0.8903135682966358,
          0.9081198360987578,
          0.9259261039008797,
          0.9437323717030017,
          0.9615386395051236,
          0.9793449073072457,
          0.9971511751093676,
          1,
          1,
          1
         ],
         "y": [
          3.506551393586966,
          3.5159100901681803,
          3.525268786749349,
          3.534627483330409,
          3.5439861799114696,
          3.55334487649253,
          3.5620744394254684,
          3.5697948097959773,
          3.5775151801667975,
          3.5852355505376163,
          3.592955920908436,
          3.6006762912792563,
          3.6077028768898165,
          3.6145198934500424,
          3.621336910010268,
          3.628153926570494,
          3.6349709431307193,
          3.6416944778713827,
          3.647896522921601,
          3.6540985679718196,
          3.660300613022038,
          3.6665026580722566,
          3.672704703122475,
          3.679193108366038,
          3.6859293975402188,
          3.6926656867144008,
          3.6994019758885814,
          3.706138265061223,
          3.712874554233443,
          3.726779174387475,
          3.741307042973837,
          3.755834911560197,
          3.770362780146558,
          3.7848906487329197,
          3.799418946051331,
          3.813948224894102,
          3.8284775037368726,
          3.8430067825796437,
          3.857536061422415,
          3.8720653402651855,
          3.8881998845005152,
          3.9050623640193804,
          3.9219248435382466,
          3.9387873230571127,
          3.9556498025759788,
          3.972662246374998,
          3.991607273970302,
          4.010552301565607,
          4.02949732916091,
          4.0484423567562144,
          4.067387384351518,
          4.08710648769588,
          4.107749012619848,
          4.128391537543817,
          4.149034062467785,
          4.169676587391754,
          4.190319112315723,
          4.19362171,
          4.19362171,
          4.19362171
         ]
        },
        {
         "mode": "markers",
         "name": "Discharge",
         "type": "scatter",
         "x": [
          0.999999821937322,
          0.9821935541352,
          0.964387286333078,
          0.9465810185309561,
          0.9287747507288341,
          0.9109684829267122,
          0.8931622151245903,
          0.8753559473224682,
          0.8575496795203463,
          0.8397434117182243,
          0.8219371439161024,
          0.8041308761139804,
          0.7863246083118585,
          0.7685183405097364,
          0.7507120727076145,
          0.7329058049054925,
          0.7150995371033706,
          0.6972932693012487,
          0.6794870014991267,
          0.6616807336970048,
          0.6438744658948827,
          0.6260681980927608,
          0.6082619302906388,
          0.5904556624885169,
          0.5726493946863949,
          0.554843126884273,
          0.5370368590821509,
          0.519230591280029,
          0.5014243234779071,
          0.4836180556757851,
          0.4658117878733812,
          0.4480055200660769,
          0.43019925225877265,
          0.4123929844514684,
          0.3945867166441641,
          0.37678044883685985,
          0.3589741810295556,
          0.3411679132222513,
          0.32336164541494705,
          0.30555537760764273,
          0.28774910980033847,
          0.2699428419930342,
          0.25213657418572993,
          0.2343303063784257,
          0.21652403857112143,
          0.19871777076381716,
          0.1809115029565129,
          0.1631052351492086,
          0.14529896734190434,
          0.12749269953460007,
          0.10968643172780576,
          0.09188016392179707,
          0.07407389611578838,
          0.056267628309779695,
          0.038461360503771004,
          0.020655092697607357,
          0.0028488248912949855,
          0,
          0,
          0
         ],
         "y": [
          4.191178083319836,
          4.170510066942882,
          4.149842050565928,
          4.129174034188973,
          4.10850601781202,
          4.087838001435065,
          4.067830983807228,
          4.048884273519618,
          4.029937563232006,
          4.010990852944395,
          3.9920441426567836,
          3.9730974323691717,
          3.9557513459938467,
          3.938888754295493,
          3.92202616259714,
          3.9051635708987873,
          3.888300979200434,
          3.871792881119533,
          3.8572623309092413,
          3.842731780698949,
          3.828201230488657,
          3.8136706802783653,
          3.7991401300680727,
          3.78460882394625,
          3.770076863479548,
          3.755544903012846,
          3.7410129425461442,
          3.7264809820794422,
          3.7119490216127398,
          3.7045665495595386,
          3.697805687737644,
          3.6910448259138886,
          3.6842839640901333,
          3.6775231022663784,
          3.670924621891455,
          3.664697892012175,
          3.6584711621328956,
          3.6522444322536156,
          3.646017702374336,
          3.6397909724950557,
          3.633129786846448,
          3.626271589730664,
          3.6194133926148804,
          3.6125551954990964,
          3.6056969983833125,
          3.598770499929356,
          3.5909638047722066,
          3.583157109615057,
          3.5753504144579074,
          3.5675437193007573,
          3.5597370241438315,
          3.5511346532582095,
          3.541583093429289,
          3.532031533600368,
          3.522479973771447,
          3.512928413942443,
          3.5033768541133585,
          3.5018487,
          3.5018487,
          3.5018487
         ]
        }
       ],
       "frames": [],
       "layout": {
        "margin": {
         "b": 50,
         "l": 50,
         "r": 50,
         "t": 60
        },
        "template": {
         "data": {
          "bar": [
           {
            "error_x": {
             "color": "#2a3f5f"
            },
            "error_y": {
             "color": "#2a3f5f"
            },
            "marker": {
             "line": {
              "color": "#E5ECF6",
              "width": 0.5
             }
            },
            "type": "bar"
           }
          ],
          "barpolar": [
           {
            "marker": {
             "line": {
              "color": "#E5ECF6",
              "width": 0.5
             }
            },
            "type": "barpolar"
           }
          ],
          "carpet": [
           {
            "aaxis": {
             "endlinecolor": "#2a3f5f",
             "gridcolor": "white",
             "linecolor": "white",
             "minorgridcolor": "white",
             "startlinecolor": "#2a3f5f"
            },
            "baxis": {
             "endlinecolor": "#2a3f5f",
             "gridcolor": "white",
             "linecolor": "white",
             "minorgridcolor": "white",
             "startlinecolor": "#2a3f5f"
            },
            "type": "carpet"
           }
          ],
          "choropleth": [
           {
            "colorbar": {
             "outlinewidth": 0,
             "ticks": ""
            },
            "type": "choropleth"
           }
          ],
          "contour": [
           {
            "colorbar": {
             "outlinewidth": 0,
             "ticks": ""
            },
            "colorscale": [
             [
              0,
              "#0d0887"
             ],
             [
              0.1111111111111111,
              "#46039f"
             ],
             [
              0.2222222222222222,
              "#7201a8"
             ],
             [
              0.3333333333333333,
              "#9c179e"
             ],
             [
              0.4444444444444444,
              "#bd3786"
             ],
             [
              0.5555555555555556,
              "#d8576b"
             ],
             [
              0.6666666666666666,
              "#ed7953"
             ],
             [
              0.7777777777777778,
              "#fb9f3a"
             ],
             [
              0.8888888888888888,
              "#fdca26"
             ],
             [
              1,
              "#f0f921"
             ]
            ],
            "type": "contour"
           }
          ],
          "contourcarpet": [
           {
            "colorbar": {
             "outlinewidth": 0,
             "ticks": ""
            },
            "type": "contourcarpet"
           }
          ],
          "heatmap": [
           {
            "colorbar": {
             "outlinewidth": 0,
             "ticks": ""
            },
            "colorscale": [
             [
              0,
              "#0d0887"
             ],
             [
              0.1111111111111111,
              "#46039f"
             ],
             [
              0.2222222222222222,
              "#7201a8"
             ],
             [
              0.3333333333333333,
              "#9c179e"
             ],
             [
              0.4444444444444444,
              "#bd3786"
             ],
             [
              0.5555555555555556,
              "#d8576b"
             ],
             [
              0.6666666666666666,
              "#ed7953"
             ],
             [
              0.7777777777777778,
              "#fb9f3a"
             ],
             [
              0.8888888888888888,
              "#fdca26"
             ],
             [
              1,
              "#f0f921"
             ]
            ],
            "type": "heatmap"
           }
          ],
          "heatmapgl": [
           {
            "colorbar": {
             "outlinewidth": 0,
             "ticks": ""
            },
            "colorscale": [
             [
              0,
              "#0d0887"
             ],
             [
              0.1111111111111111,
              "#46039f"
             ],
             [
              0.2222222222222222,
              "#7201a8"
             ],
             [
              0.3333333333333333,
              "#9c179e"
             ],
             [
              0.4444444444444444,
              "#bd3786"
             ],
             [
              0.5555555555555556,
              "#d8576b"
             ],
             [
              0.6666666666666666,
              "#ed7953"
             ],
             [
              0.7777777777777778,
              "#fb9f3a"
             ],
             [
              0.8888888888888888,
              "#fdca26"
             ],
             [
              1,
              "#f0f921"
             ]
            ],
            "type": "heatmapgl"
           }
          ],
          "histogram": [
           {
            "marker": {
             "colorbar": {
              "outlinewidth": 0,
              "ticks": ""
             }
            },
            "type": "histogram"
           }
          ],
          "histogram2d": [
           {
            "colorbar": {
             "outlinewidth": 0,
             "ticks": ""
            },
            "colorscale": [
             [
              0,
              "#0d0887"
             ],
             [
              0.1111111111111111,
              "#46039f"
             ],
             [
              0.2222222222222222,
              "#7201a8"
             ],
             [
              0.3333333333333333,
              "#9c179e"
             ],
             [
              0.4444444444444444,
              "#bd3786"
             ],
             [
              0.5555555555555556,
              "#d8576b"
             ],
             [
              0.6666666666666666,
              "#ed7953"
             ],
             [
              0.7777777777777778,
              "#fb9f3a"
             ],
             [
              0.8888888888888888,
              "#fdca26"
             ],
             [
              1,
              "#f0f921"
             ]
            ],
            "type": "histogram2d"
           }
          ],
          "histogram2dcontour": [
           {
            "colorbar": {
             "outlinewidth": 0,
             "ticks": ""
            },
            "colorscale": [
             [
              0,
              "#0d0887"
             ],
             [
              0.1111111111111111,
              "#46039f"
             ],
             [
              0.2222222222222222,
              "#7201a8"
             ],
             [
              0.3333333333333333,
              "#9c179e"
             ],
             [
              0.4444444444444444,
              "#bd3786"
             ],
             [
              0.5555555555555556,
              "#d8576b"
             ],
             [
              0.6666666666666666,
              "#ed7953"
             ],
             [
              0.7777777777777778,
              "#fb9f3a"
             ],
             [
              0.8888888888888888,
              "#fdca26"
             ],
             [
              1,
              "#f0f921"
             ]
            ],
            "type": "histogram2dcontour"
           }
          ],
          "mesh3d": [
           {
            "colorbar": {
             "outlinewidth": 0,
             "ticks": ""
            },
            "type": "mesh3d"
           }
          ],
          "parcoords": [
           {
            "line": {
             "colorbar": {
              "outlinewidth": 0,
              "ticks": ""
             }
            },
            "type": "parcoords"
           }
          ],
          "pie": [
           {
            "automargin": true,
            "type": "pie"
           }
          ],
          "scatter": [
           {
            "marker": {
             "colorbar": {
              "outlinewidth": 0,
              "ticks": ""
             }
            },
            "type": "scatter"
           }
          ],
          "scatter3d": [
           {
            "line": {
             "colorbar": {
              "outlinewidth": 0,
              "ticks": ""
             }
            },
            "marker": {
             "colorbar": {
              "outlinewidth": 0,
              "ticks": ""
             }
            },
            "type": "scatter3d"
           }
          ],
          "scattercarpet": [
           {
            "marker": {
             "colorbar": {
              "outlinewidth": 0,
              "ticks": ""
             }
            },
            "type": "scattercarpet"
           }
          ],
          "scattergeo": [
           {
            "marker": {
             "colorbar": {
              "outlinewidth": 0,
              "ticks": ""
             }
            },
            "type": "scattergeo"
           }
          ],
          "scattergl": [
           {
            "marker": {
             "colorbar": {
              "outlinewidth": 0,
              "ticks": ""
             }
            },
            "type": "scattergl"
           }
          ],
          "scattermapbox": [
           {
            "marker": {
             "colorbar": {
              "outlinewidth": 0,
              "ticks": ""
             }
            },
            "type": "scattermapbox"
           }
          ],
          "scatterpolar": [
           {
            "marker": {
             "colorbar": {
              "outlinewidth": 0,
              "ticks": ""
             }
            },
            "type": "scatterpolar"
           }
          ],
          "scatterpolargl": [
           {
            "marker": {
             "colorbar": {
              "outlinewidth": 0,
              "ticks": ""
             }
            },
            "type": "scatterpolargl"
           }
          ],
          "scatterternary": [
           {
            "marker": {
             "colorbar": {
              "outlinewidth": 0,
              "ticks": ""
             }
            },
            "type": "scatterternary"
           }
          ],
          "surface": [
           {
            "colorbar": {
             "outlinewidth": 0,
             "ticks": ""
            },
            "colorscale": [
             [
              0,
              "#0d0887"
             ],
             [
              0.1111111111111111,
              "#46039f"
             ],
             [
              0.2222222222222222,
              "#7201a8"
             ],
             [
              0.3333333333333333,
              "#9c179e"
             ],
             [
              0.4444444444444444,
              "#bd3786"
             ],
             [
              0.5555555555555556,
              "#d8576b"
             ],
             [
              0.6666666666666666,
              "#ed7953"
             ],
             [
              0.7777777777777778,
              "#fb9f3a"
             ],
             [
              0.8888888888888888,
              "#fdca26"
             ],
             [
              1,
              "#f0f921"
             ]
            ],
            "type": "surface"
           }
          ],
          "table": [
           {
            "cells": {
             "fill": {
              "color": "#EBF0F8"
             },
             "line": {
              "color": "white"
             }
            },
            "header": {
             "fill": {
              "color": "#C8D4E3"
             },
             "line": {
              "color": "white"
             }
            },
            "type": "table"
           }
          ]
         },
         "layout": {
          "annotationdefaults": {
           "arrowcolor": "#2a3f5f",
           "arrowhead": 0,
           "arrowwidth": 1
          },
          "autotypenumbers": "strict",
          "coloraxis": {
           "colorbar": {
            "outlinewidth": 0,
            "ticks": ""
           }
          },
          "colorscale": {
           "diverging": [
            [
             0,
             "#8e0152"
            ],
            [
             0.1,
             "#c51b7d"
            ],
            [
             0.2,
             "#de77ae"
            ],
            [
             0.3,
             "#f1b6da"
            ],
            [
             0.4,
             "#fde0ef"
            ],
            [
             0.5,
             "#f7f7f7"
            ],
            [
             0.6,
             "#e6f5d0"
            ],
            [
             0.7,
             "#b8e186"
            ],
            [
             0.8,
             "#7fbc41"
            ],
            [
             0.9,
             "#4d9221"
            ],
            [
             1,
             "#276419"
            ]
           ],
           "sequential": [
            [
             0,
             "#0d0887"
            ],
            [
             0.1111111111111111,
             "#46039f"
            ],
            [
             0.2222222222222222,
             "#7201a8"
            ],
            [
             0.3333333333333333,
             "#9c179e"
            ],
            [
             0.4444444444444444,
             "#bd3786"
            ],
            [
             0.5555555555555556,
             "#d8576b"
            ],
            [
             0.6666666666666666,
             "#ed7953"
            ],
            [
             0.7777777777777778,
             "#fb9f3a"
            ],
            [
             0.8888888888888888,
             "#fdca26"
            ],
            [
             1,
             "#f0f921"
            ]
           ],
           "sequentialminus": [
            [
             0,
             "#0d0887"
            ],
            [
             0.1111111111111111,
             "#46039f"
            ],
            [
             0.2222222222222222,
             "#7201a8"
            ],
            [
             0.3333333333333333,
             "#9c179e"
            ],
            [
             0.4444444444444444,
             "#bd3786"
            ],
            [
             0.5555555555555556,
             "#d8576b"
            ],
            [
             0.6666666666666666,
             "#ed7953"
            ],
            [
             0.7777777777777778,
             "#fb9f3a"
            ],
            [
             0.8888888888888888,
             "#fdca26"
            ],
            [
             1,
             "#f0f921"
            ]
           ]
          },
          "colorway": [
           "#636efa",
           "#EF553B",
           "#00cc96",
           "#ab63fa",
           "#FFA15A",
           "#19d3f3",
           "#FF6692",
           "#B6E880",
           "#FF97FF",
           "#FECB52"
          ],
          "font": {
           "color": "#2a3f5f"
          },
          "geo": {
           "bgcolor": "white",
           "lakecolor": "white",
           "landcolor": "#E5ECF6",
           "showlakes": true,
           "showland": true,
           "subunitcolor": "white"
          },
          "hoverlabel": {
           "align": "left"
          },
          "hovermode": "closest",
          "mapbox": {
           "style": "light"
          },
          "paper_bgcolor": "white",
          "plot_bgcolor": "#E5ECF6",
          "polar": {
           "angularaxis": {
            "gridcolor": "white",
            "linecolor": "white",
            "ticks": ""
           },
           "bgcolor": "#E5ECF6",
           "radialaxis": {
            "gridcolor": "white",
            "linecolor": "white",
            "ticks": ""
           }
          },
          "scene": {
           "xaxis": {
            "backgroundcolor": "#E5ECF6",
            "gridcolor": "white",
            "gridwidth": 2,
            "linecolor": "white",
            "showbackground": true,
            "ticks": "",
            "zerolinecolor": "white"
           },
           "yaxis": {
            "backgroundcolor": "#E5ECF6",
            "gridcolor": "white",
            "gridwidth": 2,
            "linecolor": "white",
            "showbackground": true,
            "ticks": "",
            "zerolinecolor": "white"
           },
           "zaxis": {
            "backgroundcolor": "#E5ECF6",
            "gridcolor": "white",
            "gridwidth": 2,
            "linecolor": "white",
            "showbackground": true,
            "ticks": "",
            "zerolinecolor": "white"
           }
          },
          "shapedefaults": {
           "line": {
            "color": "#2a3f5f"
           }
          },
          "ternary": {
           "aaxis": {
            "gridcolor": "white",
            "linecolor": "white",
            "ticks": ""
           },
           "baxis": {
            "gridcolor": "white",
            "linecolor": "white",
            "ticks": ""
           },
           "bgcolor": "#E5ECF6",
           "caxis": {
            "gridcolor": "white",
            "linecolor": "white",
            "ticks": ""
           }
          },
          "title": {
           "x": 0.05
          },
          "xaxis": {
           "automargin": true,
           "gridcolor": "white",
           "linecolor": "white",
           "ticks": "",
           "title": {
            "standoff": 15
           },
           "zerolinecolor": "white",
           "zerolinewidth": 2
          },
          "yaxis": {
           "automargin": true,
           "gridcolor": "white",
           "linecolor": "white",
           "ticks": "",
           "title": {
            "standoff": 15
           },
           "zerolinecolor": "white",
           "zerolinewidth": 2
          }
         }
        }
       }
      },
      "text/html": [
       "<div\n",
       "    class=\"webio-mountpoint\"\n",
       "    data-webio-mountpoint=\"6416252542154208946\"\n",
       ">\n",
       "    <script>\n",
       "    (function(){\n",
       "    // Some integrations (namely, IJulia/Jupyter) use an alternate render pathway than\n",
       "    // just putting the html on the page. If WebIO isn't defined, then it's pretty likely\n",
       "    // that we're in one of those situations and the integration just isn't installed\n",
       "    // correctly.\n",
       "    if (typeof window.WebIO === \"undefined\") {\n",
       "        document\n",
       "            .querySelector('[data-webio-mountpoint=\"6416252542154208946\"]')\n",
       "            .innerHTML = (\n",
       "                '<div style=\"padding: 1em; background-color: #f8d6da; border: 1px solid #f5c6cb; font-weight: bold;\">' +\n",
       "                '<p><strong>WebIO not detected.</strong></p>' +\n",
       "                '<p>Please read ' +\n",
       "                '<a href=\"https://juliagizmos.github.io/WebIO.jl/latest/troubleshooting/not-detected/\" target=\"_blank\">the troubleshooting guide</a> ' +\n",
       "                'for more information on how to resolve this issue.</p>' +\n",
       "                '<p><a href=\"https://juliagizmos.github.io/WebIO.jl/latest/troubleshooting/not-detected/\" target=\"_blank\">https://juliagizmos.github.io/WebIO.jl/latest/troubleshooting/not-detected/</a></p>' +\n",
       "                '</div>'\n",
       "            );\n",
       "        return;\n",
       "    }\n",
       "    WebIO.mount(\n",
       "        document.querySelector('[data-webio-mountpoint=\"6416252542154208946\"]'),\n",
       "        {\"props\":{},\"nodeType\":\"Scope\",\"type\":\"node\",\"instanceArgs\":{\"imports\":{\"data\":[{\"name\":\"Plotly\",\"type\":\"js\",\"url\":\"\\/assetserver\\/d962df6074ca639255443f30d3714066b6761a33-plotly.min.js\"},{\"name\":null,\"type\":\"js\",\"url\":\"\\/assetserver\\/353f15aae83056f5f70af8ddbdb07962af480be7-plotly_webio.bundle.js\"}],\"type\":\"async_block\"},\"id\":\"13299440138236796068\",\"handlers\":{\"_toImage\":[\"(function (options){return this.Plotly.toImage(this.plotElem,options).then((function (data){return WebIO.setval({\\\"name\\\":\\\"image\\\",\\\"scope\\\":\\\"13299440138236796068\\\",\\\"id\\\":\\\"9661886545173881124\\\",\\\"type\\\":\\\"observable\\\"},data)}))})\"],\"__get_gd_contents\":[\"(function (prop){prop==\\\"data\\\" ? (WebIO.setval({\\\"name\\\":\\\"__gd_contents\\\",\\\"scope\\\":\\\"13299440138236796068\\\",\\\"id\\\":\\\"5437472133812246732\\\",\\\"type\\\":\\\"observable\\\"},this.plotElem.data)) : undefined; return prop==\\\"layout\\\" ? (WebIO.setval({\\\"name\\\":\\\"__gd_contents\\\",\\\"scope\\\":\\\"13299440138236796068\\\",\\\"id\\\":\\\"5437472133812246732\\\",\\\"type\\\":\\\"observable\\\"},this.plotElem.layout)) : undefined})\"],\"_downloadImage\":[\"(function (options){return this.Plotly.downloadImage(this.plotElem,options)})\"],\"_commands\":[\"(function (args){var fn=args.shift(); var elem=this.plotElem; var Plotly=this.Plotly; args.unshift(elem); return Plotly[fn].apply(this,args)})\"]},\"systemjs_options\":null,\"mount_callbacks\":[\"function () {\\n    var handler = ((function (Plotly,PlotlyWebIO){PlotlyWebIO.init(WebIO); var gd=this.dom.querySelector(\\\"#plot-12816128-f51e-4041-8bf2-652eb0c0010b\\\"); this.plotElem=gd; this.Plotly=Plotly; (window.Blink!==undefined) ? (gd.style.width=\\\"100%\\\", gd.style.height=\\\"100vh\\\", gd.style.marginLeft=\\\"0%\\\", gd.style.marginTop=\\\"0vh\\\") : undefined; window.onresize=(function (){return Plotly.Plots.resize(gd)}); Plotly.newPlot(gd,[{\\\"mode\\\":\\\"markers\\\",\\\"y\\\":[3.506551393586966,3.5159100901681803,3.525268786749349,3.534627483330409,3.5439861799114696,3.55334487649253,3.5620744394254684,3.5697948097959773,3.5775151801667975,3.5852355505376163,3.592955920908436,3.6006762912792563,3.6077028768898165,3.6145198934500424,3.621336910010268,3.628153926570494,3.6349709431307193,3.6416944778713827,3.647896522921601,3.6540985679718196,3.660300613022038,3.6665026580722566,3.672704703122475,3.679193108366038,3.6859293975402188,3.6926656867144008,3.6994019758885814,3.706138265061223,3.712874554233443,3.726779174387475,3.741307042973837,3.755834911560197,3.770362780146558,3.7848906487329197,3.799418946051331,3.813948224894102,3.8284775037368726,3.8430067825796437,3.857536061422415,3.8720653402651855,3.8881998845005152,3.9050623640193804,3.9219248435382466,3.9387873230571127,3.9556498025759788,3.972662246374998,3.991607273970302,4.010552301565607,4.02949732916091,4.0484423567562144,4.067387384351518,4.08710648769588,4.107749012619848,4.128391537543817,4.149034062467785,4.169676587391754,4.190319112315723,4.19362171,4.19362171,4.19362171],\\\"type\\\":\\\"scatter\\\",\\\"name\\\":\\\"Charge\\\",\\\"x\\\":[1.7806267806267808e-7,0.01780644586897943,0.03561271367519489,0.05341898148120358,0.07122524928721229,0.08903151709322098,0.10683778489922967,0.1246440527058167,0.14245032051312095,0.16025658832042525,0.1780628561277295,0.19586912393503378,0.21367539174233804,0.2314816595496423,0.24928792735694655,0.2670941951642508,0.2849004629715551,0.30270673077885935,0.3205129985861636,0.3383192663934679,0.35612553420077214,0.3739318020080764,0.3917380698153807,0.40954433762268494,0.4273506054299892,0.44515687323729347,0.46296314104459774,0.4807694088478307,0.49857567664995267,0.5163819444520746,0.5341882122541965,0.5519944800563186,0.5698007478584405,0.5876070156605625,0.6054132834626844,0.6232195512648064,0.6410258190669283,0.6588320868690503,0.6766383546711723,0.6944446224732942,0.7122508902754162,0.7300571580775381,0.7478634258796601,0.7656696936817821,0.7834759614839041,0.801282229286026,0.819088497088148,0.8368947648902699,0.8547010326923918,0.8725073004945139,0.8903135682966358,0.9081198360987578,0.9259261039008797,0.9437323717030017,0.9615386395051236,0.9793449073072457,0.9971511751093676,1.0,1.0,1.0]},{\\\"mode\\\":\\\"markers\\\",\\\"y\\\":[4.191178083319836,4.170510066942882,4.149842050565928,4.129174034188973,4.10850601781202,4.087838001435065,4.067830983807228,4.048884273519618,4.029937563232006,4.010990852944395,3.9920441426567836,3.9730974323691717,3.9557513459938467,3.938888754295493,3.92202616259714,3.9051635708987873,3.888300979200434,3.871792881119533,3.8572623309092413,3.842731780698949,3.828201230488657,3.8136706802783653,3.7991401300680727,3.78460882394625,3.770076863479548,3.755544903012846,3.7410129425461442,3.7264809820794422,3.7119490216127398,3.7045665495595386,3.697805687737644,3.6910448259138886,3.6842839640901333,3.6775231022663784,3.670924621891455,3.664697892012175,3.6584711621328956,3.6522444322536156,3.646017702374336,3.6397909724950557,3.633129786846448,3.626271589730664,3.6194133926148804,3.6125551954990964,3.6056969983833125,3.598770499929356,3.5909638047722066,3.583157109615057,3.5753504144579074,3.5675437193007573,3.5597370241438315,3.5511346532582095,3.541583093429289,3.532031533600368,3.522479973771447,3.512928413942443,3.5033768541133585,3.5018487,3.5018487,3.5018487],\\\"type\\\":\\\"scatter\\\",\\\"name\\\":\\\"Discharge\\\",\\\"x\\\":[0.999999821937322,0.9821935541352,0.964387286333078,0.9465810185309561,0.9287747507288341,0.9109684829267122,0.8931622151245903,0.8753559473224682,0.8575496795203463,0.8397434117182243,0.8219371439161024,0.8041308761139804,0.7863246083118585,0.7685183405097364,0.7507120727076145,0.7329058049054925,0.7150995371033706,0.6972932693012487,0.6794870014991267,0.6616807336970048,0.6438744658948827,0.6260681980927608,0.6082619302906388,0.5904556624885169,0.5726493946863949,0.554843126884273,0.5370368590821509,0.519230591280029,0.5014243234779071,0.4836180556757851,0.4658117878733812,0.4480055200660769,0.43019925225877265,0.4123929844514684,0.3945867166441641,0.37678044883685985,0.3589741810295556,0.3411679132222513,0.32336164541494705,0.30555537760764273,0.28774910980033847,0.2699428419930342,0.25213657418572993,0.2343303063784257,0.21652403857112143,0.19871777076381716,0.1809115029565129,0.1631052351492086,0.14529896734190434,0.12749269953460007,0.10968643172780576,0.09188016392179707,0.07407389611578838,0.056267628309779695,0.038461360503771004,0.020655092697607357,0.0028488248912949855,0.0,0.0,0.0]}],{\\\"template\\\":{\\\"layout\\\":{\\\"coloraxis\\\":{\\\"colorbar\\\":{\\\"ticks\\\":\\\"\\\",\\\"outlinewidth\\\":0}},\\\"xaxis\\\":{\\\"gridcolor\\\":\\\"white\\\",\\\"zerolinewidth\\\":2,\\\"title\\\":{\\\"standoff\\\":15},\\\"ticks\\\":\\\"\\\",\\\"zerolinecolor\\\":\\\"white\\\",\\\"automargin\\\":true,\\\"linecolor\\\":\\\"white\\\"},\\\"hovermode\\\":\\\"closest\\\",\\\"paper_bgcolor\\\":\\\"white\\\",\\\"geo\\\":{\\\"showlakes\\\":true,\\\"showland\\\":true,\\\"landcolor\\\":\\\"#E5ECF6\\\",\\\"bgcolor\\\":\\\"white\\\",\\\"subunitcolor\\\":\\\"white\\\",\\\"lakecolor\\\":\\\"white\\\"},\\\"colorscale\\\":{\\\"sequential\\\":[[0.0,\\\"#0d0887\\\"],[0.1111111111111111,\\\"#46039f\\\"],[0.2222222222222222,\\\"#7201a8\\\"],[0.3333333333333333,\\\"#9c179e\\\"],[0.4444444444444444,\\\"#bd3786\\\"],[0.5555555555555556,\\\"#d8576b\\\"],[0.6666666666666666,\\\"#ed7953\\\"],[0.7777777777777778,\\\"#fb9f3a\\\"],[0.8888888888888888,\\\"#fdca26\\\"],[1.0,\\\"#f0f921\\\"]],\\\"diverging\\\":[[0,\\\"#8e0152\\\"],[0.1,\\\"#c51b7d\\\"],[0.2,\\\"#de77ae\\\"],[0.3,\\\"#f1b6da\\\"],[0.4,\\\"#fde0ef\\\"],[0.5,\\\"#f7f7f7\\\"],[0.6,\\\"#e6f5d0\\\"],[0.7,\\\"#b8e186\\\"],[0.8,\\\"#7fbc41\\\"],[0.9,\\\"#4d9221\\\"],[1,\\\"#276419\\\"]],\\\"sequentialminus\\\":[[0.0,\\\"#0d0887\\\"],[0.1111111111111111,\\\"#46039f\\\"],[0.2222222222222222,\\\"#7201a8\\\"],[0.3333333333333333,\\\"#9c179e\\\"],[0.4444444444444444,\\\"#bd3786\\\"],[0.5555555555555556,\\\"#d8576b\\\"],[0.6666666666666666,\\\"#ed7953\\\"],[0.7777777777777778,\\\"#fb9f3a\\\"],[0.8888888888888888,\\\"#fdca26\\\"],[1.0,\\\"#f0f921\\\"]]},\\\"yaxis\\\":{\\\"gridcolor\\\":\\\"white\\\",\\\"zerolinewidth\\\":2,\\\"title\\\":{\\\"standoff\\\":15},\\\"ticks\\\":\\\"\\\",\\\"zerolinecolor\\\":\\\"white\\\",\\\"automargin\\\":true,\\\"linecolor\\\":\\\"white\\\"},\\\"shapedefaults\\\":{\\\"line\\\":{\\\"color\\\":\\\"#2a3f5f\\\"}},\\\"hoverlabel\\\":{\\\"align\\\":\\\"left\\\"},\\\"mapbox\\\":{\\\"style\\\":\\\"light\\\"},\\\"polar\\\":{\\\"angularaxis\\\":{\\\"gridcolor\\\":\\\"white\\\",\\\"ticks\\\":\\\"\\\",\\\"linecolor\\\":\\\"white\\\"},\\\"bgcolor\\\":\\\"#E5ECF6\\\",\\\"radialaxis\\\":{\\\"gridcolor\\\":\\\"white\\\",\\\"ticks\\\":\\\"\\\",\\\"linecolor\\\":\\\"white\\\"}},\\\"autotypenumbers\\\":\\\"strict\\\",\\\"font\\\":{\\\"color\\\":\\\"#2a3f5f\\\"},\\\"ternary\\\":{\\\"baxis\\\":{\\\"gridcolor\\\":\\\"white\\\",\\\"ticks\\\":\\\"\\\",\\\"linecolor\\\":\\\"white\\\"},\\\"bgcolor\\\":\\\"#E5ECF6\\\",\\\"caxis\\\":{\\\"gridcolor\\\":\\\"white\\\",\\\"ticks\\\":\\\"\\\",\\\"linecolor\\\":\\\"white\\\"},\\\"aaxis\\\":{\\\"gridcolor\\\":\\\"white\\\",\\\"ticks\\\":\\\"\\\",\\\"linecolor\\\":\\\"white\\\"}},\\\"annotationdefaults\\\":{\\\"arrowhead\\\":0,\\\"arrowwidth\\\":1,\\\"arrowcolor\\\":\\\"#2a3f5f\\\"},\\\"plot_bgcolor\\\":\\\"#E5ECF6\\\",\\\"title\\\":{\\\"x\\\":0.05},\\\"scene\\\":{\\\"xaxis\\\":{\\\"gridcolor\\\":\\\"white\\\",\\\"gridwidth\\\":2,\\\"backgroundcolor\\\":\\\"#E5ECF6\\\",\\\"ticks\\\":\\\"\\\",\\\"showbackground\\\":true,\\\"zerolinecolor\\\":\\\"white\\\",\\\"linecolor\\\":\\\"white\\\"},\\\"zaxis\\\":{\\\"gridcolor\\\":\\\"white\\\",\\\"gridwidth\\\":2,\\\"backgroundcolor\\\":\\\"#E5ECF6\\\",\\\"ticks\\\":\\\"\\\",\\\"showbackground\\\":true,\\\"zerolinecolor\\\":\\\"white\\\",\\\"linecolor\\\":\\\"white\\\"},\\\"yaxis\\\":{\\\"gridcolor\\\":\\\"white\\\",\\\"gridwidth\\\":2,\\\"backgroundcolor\\\":\\\"#E5ECF6\\\",\\\"ticks\\\":\\\"\\\",\\\"showbackground\\\":true,\\\"zerolinecolor\\\":\\\"white\\\",\\\"linecolor\\\":\\\"white\\\"}},\\\"colorway\\\":[\\\"#636efa\\\",\\\"#EF553B\\\",\\\"#00cc96\\\",\\\"#ab63fa\\\",\\\"#FFA15A\\\",\\\"#19d3f3\\\",\\\"#FF6692\\\",\\\"#B6E880\\\",\\\"#FF97FF\\\",\\\"#FECB52\\\"]},\\\"data\\\":{\\\"barpolar\\\":[{\\\"type\\\":\\\"barpolar\\\",\\\"marker\\\":{\\\"line\\\":{\\\"color\\\":\\\"#E5ECF6\\\",\\\"width\\\":0.5}}}],\\\"carpet\\\":[{\\\"aaxis\\\":{\\\"gridcolor\\\":\\\"white\\\",\\\"endlinecolor\\\":\\\"#2a3f5f\\\",\\\"minorgridcolor\\\":\\\"white\\\",\\\"startlinecolor\\\":\\\"#2a3f5f\\\",\\\"linecolor\\\":\\\"white\\\"},\\\"type\\\":\\\"carpet\\\",\\\"baxis\\\":{\\\"gridcolor\\\":\\\"white\\\",\\\"endlinecolor\\\":\\\"#2a3f5f\\\",\\\"minorgridcolor\\\":\\\"white\\\",\\\"startlinecolor\\\":\\\"#2a3f5f\\\",\\\"linecolor\\\":\\\"white\\\"}}],\\\"scatterpolar\\\":[{\\\"type\\\":\\\"scatterpolar\\\",\\\"marker\\\":{\\\"colorbar\\\":{\\\"ticks\\\":\\\"\\\",\\\"outlinewidth\\\":0}}}],\\\"parcoords\\\":[{\\\"line\\\":{\\\"colorbar\\\":{\\\"ticks\\\":\\\"\\\",\\\"outlinewidth\\\":0}},\\\"type\\\":\\\"parcoords\\\"}],\\\"scatter\\\":[{\\\"type\\\":\\\"scatter\\\",\\\"marker\\\":{\\\"colorbar\\\":{\\\"ticks\\\":\\\"\\\",\\\"outlinewidth\\\":0}}}],\\\"histogram2dcontour\\\":[{\\\"colorbar\\\":{\\\"ticks\\\":\\\"\\\",\\\"outlinewidth\\\":0},\\\"type\\\":\\\"histogram2dcontour\\\",\\\"colorscale\\\":[[0.0,\\\"#0d0887\\\"],[0.1111111111111111,\\\"#46039f\\\"],[0.2222222222222222,\\\"#7201a8\\\"],[0.3333333333333333,\\\"#9c179e\\\"],[0.4444444444444444,\\\"#bd3786\\\"],[0.5555555555555556,\\\"#d8576b\\\"],[0.6666666666666666,\\\"#ed7953\\\"],[0.7777777777777778,\\\"#fb9f3a\\\"],[0.8888888888888888,\\\"#fdca26\\\"],[1.0,\\\"#f0f921\\\"]]}],\\\"contour\\\":[{\\\"colorbar\\\":{\\\"ticks\\\":\\\"\\\",\\\"outlinewidth\\\":0},\\\"type\\\":\\\"contour\\\",\\\"colorscale\\\":[[0.0,\\\"#0d0887\\\"],[0.1111111111111111,\\\"#46039f\\\"],[0.2222222222222222,\\\"#7201a8\\\"],[0.3333333333333333,\\\"#9c179e\\\"],[0.4444444444444444,\\\"#bd3786\\\"],[0.5555555555555556,\\\"#d8576b\\\"],[0.6666666666666666,\\\"#ed7953\\\"],[0.7777777777777778,\\\"#fb9f3a\\\"],[0.8888888888888888,\\\"#fdca26\\\"],[1.0,\\\"#f0f921\\\"]]}],\\\"scattercarpet\\\":[{\\\"type\\\":\\\"scattercarpet\\\",\\\"marker\\\":{\\\"colorbar\\\":{\\\"ticks\\\":\\\"\\\",\\\"outlinewidth\\\":0}}}],\\\"mesh3d\\\":[{\\\"colorbar\\\":{\\\"ticks\\\":\\\"\\\",\\\"outlinewidth\\\":0},\\\"type\\\":\\\"mesh3d\\\"}],\\\"surface\\\":[{\\\"colorbar\\\":{\\\"ticks\\\":\\\"\\\",\\\"outlinewidth\\\":0},\\\"type\\\":\\\"surface\\\",\\\"colorscale\\\":[[0.0,\\\"#0d0887\\\"],[0.1111111111111111,\\\"#46039f\\\"],[0.2222222222222222,\\\"#7201a8\\\"],[0.3333333333333333,\\\"#9c179e\\\"],[0.4444444444444444,\\\"#bd3786\\\"],[0.5555555555555556,\\\"#d8576b\\\"],[0.6666666666666666,\\\"#ed7953\\\"],[0.7777777777777778,\\\"#fb9f3a\\\"],[0.8888888888888888,\\\"#fdca26\\\"],[1.0,\\\"#f0f921\\\"]]}],\\\"scattermapbox\\\":[{\\\"type\\\":\\\"scattermapbox\\\",\\\"marker\\\":{\\\"colorbar\\\":{\\\"ticks\\\":\\\"\\\",\\\"outlinewidth\\\":0}}}],\\\"scattergeo\\\":[{\\\"type\\\":\\\"scattergeo\\\",\\\"marker\\\":{\\\"colorbar\\\":{\\\"ticks\\\":\\\"\\\",\\\"outlinewidth\\\":0}}}],\\\"histogram\\\":[{\\\"type\\\":\\\"histogram\\\",\\\"marker\\\":{\\\"colorbar\\\":{\\\"ticks\\\":\\\"\\\",\\\"outlinewidth\\\":0}}}],\\\"pie\\\":[{\\\"type\\\":\\\"pie\\\",\\\"automargin\\\":true}],\\\"choropleth\\\":[{\\\"colorbar\\\":{\\\"ticks\\\":\\\"\\\",\\\"outlinewidth\\\":0},\\\"type\\\":\\\"choropleth\\\"}],\\\"heatmapgl\\\":[{\\\"colorbar\\\":{\\\"ticks\\\":\\\"\\\",\\\"outlinewidth\\\":0},\\\"type\\\":\\\"heatmapgl\\\",\\\"colorscale\\\":[[0.0,\\\"#0d0887\\\"],[0.1111111111111111,\\\"#46039f\\\"],[0.2222222222222222,\\\"#7201a8\\\"],[0.3333333333333333,\\\"#9c179e\\\"],[0.4444444444444444,\\\"#bd3786\\\"],[0.5555555555555556,\\\"#d8576b\\\"],[0.6666666666666666,\\\"#ed7953\\\"],[0.7777777777777778,\\\"#fb9f3a\\\"],[0.8888888888888888,\\\"#fdca26\\\"],[1.0,\\\"#f0f921\\\"]]}],\\\"bar\\\":[{\\\"type\\\":\\\"bar\\\",\\\"error_y\\\":{\\\"color\\\":\\\"#2a3f5f\\\"},\\\"error_x\\\":{\\\"color\\\":\\\"#2a3f5f\\\"},\\\"marker\\\":{\\\"line\\\":{\\\"color\\\":\\\"#E5ECF6\\\",\\\"width\\\":0.5}}}],\\\"heatmap\\\":[{\\\"colorbar\\\":{\\\"ticks\\\":\\\"\\\",\\\"outlinewidth\\\":0},\\\"type\\\":\\\"heatmap\\\",\\\"colorscale\\\":[[0.0,\\\"#0d0887\\\"],[0.1111111111111111,\\\"#46039f\\\"],[0.2222222222222222,\\\"#7201a8\\\"],[0.3333333333333333,\\\"#9c179e\\\"],[0.4444444444444444,\\\"#bd3786\\\"],[0.5555555555555556,\\\"#d8576b\\\"],[0.6666666666666666,\\\"#ed7953\\\"],[0.7777777777777778,\\\"#fb9f3a\\\"],[0.8888888888888888,\\\"#fdca26\\\"],[1.0,\\\"#f0f921\\\"]]}],\\\"contourcarpet\\\":[{\\\"colorbar\\\":{\\\"ticks\\\":\\\"\\\",\\\"outlinewidth\\\":0},\\\"type\\\":\\\"contourcarpet\\\"}],\\\"table\\\":[{\\\"type\\\":\\\"table\\\",\\\"header\\\":{\\\"line\\\":{\\\"color\\\":\\\"white\\\"},\\\"fill\\\":{\\\"color\\\":\\\"#C8D4E3\\\"}},\\\"cells\\\":{\\\"line\\\":{\\\"color\\\":\\\"white\\\"},\\\"fill\\\":{\\\"color\\\":\\\"#EBF0F8\\\"}}}],\\\"scatter3d\\\":[{\\\"line\\\":{\\\"colorbar\\\":{\\\"ticks\\\":\\\"\\\",\\\"outlinewidth\\\":0}},\\\"type\\\":\\\"scatter3d\\\",\\\"marker\\\":{\\\"colorbar\\\":{\\\"ticks\\\":\\\"\\\",\\\"outlinewidth\\\":0}}}],\\\"scattergl\\\":[{\\\"type\\\":\\\"scattergl\\\",\\\"marker\\\":{\\\"colorbar\\\":{\\\"ticks\\\":\\\"\\\",\\\"outlinewidth\\\":0}}}],\\\"histogram2d\\\":[{\\\"colorbar\\\":{\\\"ticks\\\":\\\"\\\",\\\"outlinewidth\\\":0},\\\"type\\\":\\\"histogram2d\\\",\\\"colorscale\\\":[[0.0,\\\"#0d0887\\\"],[0.1111111111111111,\\\"#46039f\\\"],[0.2222222222222222,\\\"#7201a8\\\"],[0.3333333333333333,\\\"#9c179e\\\"],[0.4444444444444444,\\\"#bd3786\\\"],[0.5555555555555556,\\\"#d8576b\\\"],[0.6666666666666666,\\\"#ed7953\\\"],[0.7777777777777778,\\\"#fb9f3a\\\"],[0.8888888888888888,\\\"#fdca26\\\"],[1.0,\\\"#f0f921\\\"]]}],\\\"scatterternary\\\":[{\\\"type\\\":\\\"scatterternary\\\",\\\"marker\\\":{\\\"colorbar\\\":{\\\"ticks\\\":\\\"\\\",\\\"outlinewidth\\\":0}}}],\\\"scatterpolargl\\\":[{\\\"type\\\":\\\"scatterpolargl\\\",\\\"marker\\\":{\\\"colorbar\\\":{\\\"ticks\\\":\\\"\\\",\\\"outlinewidth\\\":0}}}]}},\\\"margin\\\":{\\\"l\\\":50,\\\"b\\\":50,\\\"r\\\":50,\\\"t\\\":60}},{\\\"showLink\\\":false,\\\"editable\\\":false,\\\"responsive\\\":true,\\\"staticPlot\\\":false,\\\"scrollZoom\\\":true}); gd.on(\\\"plotly_hover\\\",(function (data){var filtered_data=WebIO.PlotlyCommands.filterEventData(gd,data,\\\"hover\\\"); return !(filtered_data.isnil) ? (WebIO.setval({\\\"name\\\":\\\"hover\\\",\\\"scope\\\":\\\"13299440138236796068\\\",\\\"id\\\":\\\"4852296652077675592\\\",\\\"type\\\":\\\"observable\\\"},filtered_data.out)) : undefined})); gd.on(\\\"plotly_unhover\\\",(function (){return WebIO.setval({\\\"name\\\":\\\"hover\\\",\\\"scope\\\":\\\"13299440138236796068\\\",\\\"id\\\":\\\"4852296652077675592\\\",\\\"type\\\":\\\"observable\\\"},{})})); gd.on(\\\"plotly_selected\\\",(function (data){var filtered_data=WebIO.PlotlyCommands.filterEventData(gd,data,\\\"selected\\\"); return !(filtered_data.isnil) ? (WebIO.setval({\\\"name\\\":\\\"selected\\\",\\\"scope\\\":\\\"13299440138236796068\\\",\\\"id\\\":\\\"5483921627470111851\\\",\\\"type\\\":\\\"observable\\\"},filtered_data.out)) : undefined})); gd.on(\\\"plotly_deselect\\\",(function (){return WebIO.setval({\\\"name\\\":\\\"selected\\\",\\\"scope\\\":\\\"13299440138236796068\\\",\\\"id\\\":\\\"5483921627470111851\\\",\\\"type\\\":\\\"observable\\\"},{})})); gd.on(\\\"plotly_relayout\\\",(function (data){var filtered_data=WebIO.PlotlyCommands.filterEventData(gd,data,\\\"relayout\\\"); return !(filtered_data.isnil) ? (WebIO.setval({\\\"name\\\":\\\"relayout\\\",\\\"scope\\\":\\\"13299440138236796068\\\",\\\"id\\\":\\\"7160615541358101961\\\",\\\"type\\\":\\\"observable\\\"},filtered_data.out)) : undefined})); return gd.on(\\\"plotly_click\\\",(function (data){var filtered_data=WebIO.PlotlyCommands.filterEventData(gd,data,\\\"click\\\"); return !(filtered_data.isnil) ? (WebIO.setval({\\\"name\\\":\\\"click\\\",\\\"scope\\\":\\\"13299440138236796068\\\",\\\"id\\\":\\\"5209816623385656134\\\",\\\"type\\\":\\\"observable\\\"},filtered_data.out)) : undefined}))}));\\n    (WebIO.importBlock({\\\"data\\\":[{\\\"name\\\":\\\"Plotly\\\",\\\"type\\\":\\\"js\\\",\\\"url\\\":\\\"\\/assetserver\\/d962df6074ca639255443f30d3714066b6761a33-plotly.min.js\\\"},{\\\"name\\\":null,\\\"type\\\":\\\"js\\\",\\\"url\\\":\\\"\\/assetserver\\/353f15aae83056f5f70af8ddbdb07962af480be7-plotly_webio.bundle.js\\\"}],\\\"type\\\":\\\"async_block\\\"})).then((imports) => handler.apply(this, imports));\\n}\\n\"],\"observables\":{\"_toImage\":{\"sync\":false,\"id\":\"15315721718905660076\",\"value\":{}},\"hover\":{\"sync\":false,\"id\":\"4852296652077675592\",\"value\":{}},\"selected\":{\"sync\":false,\"id\":\"5483921627470111851\",\"value\":{}},\"__gd_contents\":{\"sync\":false,\"id\":\"5437472133812246732\",\"value\":{}},\"click\":{\"sync\":false,\"id\":\"5209816623385656134\",\"value\":{}},\"image\":{\"sync\":true,\"id\":\"9661886545173881124\",\"value\":\"\"},\"__get_gd_contents\":{\"sync\":false,\"id\":\"7046218395894130631\",\"value\":\"\"},\"_downloadImage\":{\"sync\":false,\"id\":\"1058769786158722013\",\"value\":{}},\"relayout\":{\"sync\":false,\"id\":\"7160615541358101961\",\"value\":{}},\"_commands\":{\"sync\":false,\"id\":\"16143815826554181400\",\"value\":[]}}},\"children\":[{\"props\":{\"id\":\"plot-12816128-f51e-4041-8bf2-652eb0c0010b\"},\"nodeType\":\"DOM\",\"type\":\"node\",\"instanceArgs\":{\"namespace\":\"html\",\"tag\":\"div\"},\"children\":[]}]},\n",
       "        window,\n",
       "    );\n",
       "    })()\n",
       "    </script>\n",
       "</div>\n"
      ],
      "text/plain": [
       "data: [\n",
       "  \"scatter with fields mode, name, type, x, and y\",\n",
       "  \"scatter with fields mode, name, type, x, and y\"\n",
       "]\n",
       "\n",
       "layout: \"layout with fields margin and template\"\n",
       "\n"
      ]
     },
     "execution_count": 17,
     "metadata": {},
     "output_type": "execute_result"
    }
   ],
   "source": [
    "plot([scatter(x=SOC_load[1:100000:end], y=Voltage_load[1:100000:end], mode=\"markers\", name=\"Charge\"),\n",
    "scatter(x=SOC_discharge[1:100000:end], y=Voltage_discharge[1:100000:end], mode=\"markers\", name=\"Discharge\")])"
   ]
  },
  {
   "cell_type": "code",
   "execution_count": null,
   "id": "b295575d",
   "metadata": {},
   "outputs": [],
   "source": [
    "plot([scatter(x=SOC_load, y=Current_load, mode=\"markers\", name=\"Charge\"),\n",
    "      scatter(x=SOC_discharge, y=Current_discharge, mode=\"markers\", name=\"Discharge\")])"
   ]
  },
  {
   "cell_type": "code",
   "execution_count": null,
   "id": "94bccdf0",
   "metadata": {},
   "outputs": [],
   "source": []
  },
  {
   "cell_type": "code",
   "execution_count": null,
   "id": "a3a3d53a",
   "metadata": {},
   "outputs": [],
   "source": []
  }
 ],
 "metadata": {
  "@webio": {
   "lastCommId": "47a0940cb89e466a8084555b795c936e",
   "lastKernelId": "d6f18dc3-311a-446e-8cb6-1fdc24848e62"
  },
  "kernelspec": {
   "display_name": "Julia 1.8.5",
   "language": "julia",
   "name": "julia-1.8"
  },
  "language_info": {
   "file_extension": ".jl",
   "mimetype": "application/julia",
   "name": "julia",
   "version": "1.8.5"
  }
 },
 "nbformat": 4,
 "nbformat_minor": 5
}
