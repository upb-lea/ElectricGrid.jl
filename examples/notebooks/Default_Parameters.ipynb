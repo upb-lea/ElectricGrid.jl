{
 "cells": [
  {
   "cell_type": "markdown",
   "metadata": {},
   "source": [
    "# __Default Parameters__\n",
    "\n",
    "There are a number of default values automatically loaded if they are not specified by the user. These may be altered by provided a dictionary to the \"parameters\" dictionary containing the following variables."
   ]
  },
  {
   "cell_type": "markdown",
   "metadata": {},
   "source": [
    "_______________________________________________________________________________\n",
    "## Default Grid Values\n",
    "\n",
    "| Property | Default Value | Unit | Description |\n",
    "| --- | --- | --- | --- |\n",
    "| phase | 3 |   | number of phases* |\n",
    "| v_rms | 230.0 | V | global nominal voltage root mean square reference |\n",
    "| f_grid | 50.0 | Hz | global nominal frequency reference |\n",
    "| ramp_end | 2/f_grid | s | The time interval for the sources to ramp up their set-points |\n",
    "| process_start | 2/f_grid | s | The point in time where changes to reference real and imaginary powers take effect, i.e. when sources in PQ or VSG mode accept \"p_set\" and \"q_set\" |\n",
    "| Δfmax | 0.5 | % | The drop (increase) in source frequency that causes a 100% increase (decrease) in real power (from rated) - determines frequency droop coefficients |\n",
    "| ΔEmax | 5 | % | The drop (increase) in voltage over the capacitor nearest to a source that causes a 100% increase (decrease) in imaginary power (from rated)  - determines voltage droop coefficients|\n",
    "\n",
    "#### Note\n",
    "*Only 3 phase systems are currently supported for sources that are classically controlled.\n"
   ]
  },
  {
   "attachments": {},
   "cell_type": "markdown",
   "metadata": {},
   "source": [
    "_______________________________________________________________________________\n",
    "## Default Source Values\n",
    "\n",
    "| Property | Default Value | Unit | Description |\n",
    "| --- | --- | --- | --- |\n",
    "| pwr |  | VA | rated apparent power |\n",
    "| control_type | \"classic\" |  | The inner control structure. Either PI control (\"classic\") or Reinforment Learning (\"RL\") |\n",
    "| mode | \"Synchronverter\" | | The higher level control functions.  |\n",
    "| p_set | 0.0 | W | real power set point |\n",
    "| q_set | 0.0 | VA | imaginary power set point |\n",
    "| v_pu_set | 1.0 | per unit | nominal voltage set point |\n",
    "| fltr | \"LCL\" | \"L\", \"LC\", or \"LCL\" | The topology of the inverter's filter |\n",
    "| v_rip | 0.01537 |  |  | \n",
    "| i_rip | 0.15 |  |  |\n",
    "| vdc | 800.0 | V |  |\n",
    "| pf | 0.8 |  | power factor |\n",
    "| Dp | * | N⋅m⋅s/rad | frequency droop coefficient |\n",
    "| Dq | * | VA/V | voltage droop coefficient |\n",
    "| I_kp | * | V/A | current proportional gain |\n",
    "| I_ki | * | V/A⋅s | current integral gain |\n",
    "| V_kp | * | A/V | voltage proportional gain |\n",
    "| V_ki | * | A/V⋅s | voltage integral gain |\n",
    "| v_δ_set | 0.0 | degrees | reference angle for \"Swing\" mode |\n",
    "| τv | 0.002 | s | time constant of the voltage loop |\n",
    "| τf | 0.002 | s | time constant of the frequency loop |\n",
    "| Observer | false | true, or false | activate the discrete Luenberger observer (i.e. estimator) for sources with LCL filters |\n",
    "| L1 | * | H |  |\n",
    "| R1 | * | Ω  |  |\n",
    "| L2 | * | F |  |\n",
    "| R2 | * | Ω |  |\n",
    "| C | * | F |  |\n",
    "| R_C | * | Ω |  |\n",
    "| γ | p_set | W | stochastic process asymptotic mean |\n",
    "| std_asy | pwr / 8 | W | stochastic process asymptotic standard deviation |\n",
    "| X₀ | p_set | W | stochastic process initial starting values |\n",
    "| σ | 0.0 | W | brownian motion scale i.e. ∝ diffusion, volatility parameter |\n",
    "| Δt | 1/f_grid | s | stochastic process time step |\n",
    "| k | 0 | 0,1, or 2 | stochastic process interpolation degree |\n",
    "\n",
    "## Note\n",
    "*These values are automatically calculated from others.\n"
   ]
  }
 ],
 "metadata": {
  "@webio": {
   "lastCommId": "a96918ec90b34d9d8b0351fe23df1b9a",
   "lastKernelId": "a5ee4210-b2b9-40fa-86ed-8e65ef64374c"
  },
  "kernelspec": {
   "display_name": "Julia 1.8.5",
   "language": "julia",
   "name": "julia-1.8"
  },
  "language_info": {
   "file_extension": ".jl",
   "mimetype": "application/julia",
   "name": "julia",
   "version": "1.8.5"
  },
  "vscode": {
   "interpreter": {
    "hash": "77fa586337b96eece9c55e46754526368717afeb3fb3c8ebd1dc061a7e168173"
   }
  }
 },
 "nbformat": 4,
 "nbformat_minor": 2
}
