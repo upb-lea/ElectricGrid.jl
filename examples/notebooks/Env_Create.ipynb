{
 "cells": [
  {
   "cell_type": "markdown",
   "id": "1aa1010c",
   "metadata": {},
   "source": [
    "# How to build an environment using ElectricGrid"
   ]
  },
  {
   "attachments": {},
   "cell_type": "markdown",
   "id": "22d57658",
   "metadata": {},
   "source": [
    "This notebook is intended to show the functionality of the `ElectricGridEnv` which creates an environment for simulation of power electronics-driven microgrids with ad-hoc data generation. It can be used to train and test reinforcement learing agents (e.g., from [juliareinforcementlearning.jl](https://juliareinforcementlearning.org/)), in particular for autonomous grid operation.\n",
    "These agents can learn to handle different control tasks and can be compared to classical control approaches. In this notebook, the following topics are covered:\n",
    "\n",
    "- ### Create an enviroment, \n",
    "- ### Setup an RL-env, \n",
    "- ### Detailed parameterisation."
   ]
  },
  {
   "attachments": {},
   "cell_type": "markdown",
   "id": "ba5e5ae4",
   "metadata": {},
   "source": [
    "## Create an Enviroment "
   ]
  },
  {
   "attachments": {},
   "cell_type": "markdown",
   "id": "1eabf77a",
   "metadata": {},
   "source": [
    "In the following, we will create an environment consisting of an electrical power grid with two sources `num_sources = 2` (which could be for example an inverter fed by a PV plant or a wind turbine or battery) - supplying one load `num_sources = 1`.\n",
    "An easy example is shown in the figure below, where a load (household) is supplied by 2 sources (inverters, fed PV plant and wind turbine) via two cables.\n",
    "\n",
    "![](figures/ExampleGrid.png \"\")\n",
    "\n",
    "For better visuablilty, a partially visible electrical circuit is displayed in the background as single phase diagram (by default a three-phase four wire system is created).\n",
    "If it is not defined during the initialization of the env, all parameters (connections between the different sources and loads, parameters of the electric components,...) are drawn randomly, while a few are set to fixed values per default.\n",
    "One of the latter would be for example the stepsize `ts`. \n",
    "The most important parameters will be investigated during this notebook.\n",
    "After the initialization a step-wise interaction with the environment is possible.\n"
   ]
  },
  {
   "attachments": {},
   "cell_type": "markdown",
   "id": "f1549593",
   "metadata": {},
   "source": [
    "To use ElectricGrid.jl, the `ElectricGrid` package has to be loaded:"
   ]
  },
  {
   "cell_type": "code",
   "execution_count": 19,
   "id": "cf020ca8",
   "metadata": {},
   "outputs": [],
   "source": [
    "using ElectricGrid"
   ]
  },
  {
   "cell_type": "code",
   "execution_count": 20,
   "id": "937a199a",
   "metadata": {},
   "outputs": [
    {
     "data": {
      "text/markdown": [
       "# ElectricGridEnv\n",
       "\n",
       "## Traits\n",
       "\n",
       "| Trait Type        |                                            Value |\n",
       "|:----------------- | ------------------------------------------------:|\n",
       "| NumAgentStyle     |          ReinforcementLearningBase.SingleAgent() |\n",
       "| DynamicStyle      |           ReinforcementLearningBase.Simultaneous |\n",
       "| InformationStyle  | ReinforcementLearningBase.ImperfectInformation() |\n",
       "| ChanceStyle       |           ReinforcementLearningBase.Stochastic() |\n",
       "| RewardStyle       |           ReinforcementLearningBase.StepReward() |\n",
       "| UtilityStyle      |           ReinforcementLearningBase.GeneralSum() |\n",
       "| ActionStyle       |     ReinforcementLearningBase.MinimalActionSet() |\n",
       "| StateStyle        |     ReinforcementLearningBase.Observation{Any}() |\n",
       "| DefaultStateStyle |     ReinforcementLearningBase.Observation{Any}() |\n",
       "\n",
       "## Is Environment Terminated?\n",
       "\n",
       "No\n",
       "\n",
       "## State Space\n",
       "\n",
       "`ReinforcementLearningBase.Space{Vector{IntervalSets.ClosedInterval{Float64}}}(IntervalSets.ClosedInterval{Float64}[-1.0..1.0, -1.0..1.0, -1.0..1.0, -1.0..1.0, -1.0..1.0, -1.0..1.0, -1.0..1.0, -1.0..1.0, -1.0..1.0, -1.0..1.0, -1.0..1.0, -1.0..1.0, -1.0..1.0, -1.0..1.0, -1.0..1.0, -1.0..1.0, -1.0..1.0, -1.0..1.0, -1.0..1.0, -1.0..1.0, -1.0..1.0, -1.0..1.0, -1.0..1.0, -1.0..1.0, -1.0..1.0, -1.0..1.0, -1.0..1.0, -1.0..1.0, -1.0..1.0, -1.0..1.0, -1.0..1.0, -1.0..1.0, -1.0..1.0])`\n",
       "\n",
       "## Action Space\n",
       "\n",
       "`ReinforcementLearningBase.Space{Vector{IntervalSets.ClosedInterval{Float64}}}(IntervalSets.ClosedInterval{Float64}[-1.0..1.0, -1.0..1.0, -1.0..1.0, -1.0..1.0, -1.0..1.0, -1.0..1.0])`\n",
       "\n",
       "## Current State\n",
       "\n",
       "```\n",
       "[0.0, 0.0, 0.0, 0.0, 0.0, 0.0, 0.0, 0.0, 0.0, 0.0, 0.0, 0.0, 0.0, 0.0, 0.0, 0.0, 0.0, 0.0, 0.0, 0.0, 0.0, 0.0, 0.0, 0.0, 0.0, 0.0, 0.0, 0.0, 0.0, 0.0, 0.0, 0.0, 0.0]\n",
       "```\n"
      ],
      "text/plain": [
       "# ElectricGridEnv\n",
       "\n",
       "## Traits\n",
       "\n",
       "| Trait Type        |                                            Value |\n",
       "|:----------------- | ------------------------------------------------:|\n",
       "| NumAgentStyle     |          ReinforcementLearningBase.SingleAgent() |\n",
       "| DynamicStyle      |           ReinforcementLearningBase.Simultaneous |\n",
       "| InformationStyle  | ReinforcementLearningBase.ImperfectInformation() |\n",
       "| ChanceStyle       |           ReinforcementLearningBase.Stochastic() |\n",
       "| RewardStyle       |           ReinforcementLearningBase.StepReward() |\n",
       "| UtilityStyle      |           ReinforcementLearningBase.GeneralSum() |\n",
       "| ActionStyle       |     ReinforcementLearningBase.MinimalActionSet() |\n",
       "| StateStyle        |     ReinforcementLearningBase.Observation{Any}() |\n",
       "| DefaultStateStyle |     ReinforcementLearningBase.Observation{Any}() |\n",
       "\n",
       "## Is Environment Terminated?\n",
       "\n",
       "No\n",
       "\n",
       "## State Space\n",
       "\n",
       "`ReinforcementLearningBase.Space{Vector{IntervalSets.ClosedInterval{Float64}}}(IntervalSets.ClosedInterval{Float64}[-1.0..1.0, -1.0..1.0, -1.0..1.0, -1.0..1.0, -1.0..1.0, -1.0..1.0, -1.0..1.0, -1.0..1.0, -1.0..1.0, -1.0..1.0, -1.0..1.0, -1.0..1.0, -1.0..1.0, -1.0..1.0, -1.0..1.0, -1.0..1.0, -1.0..1.0, -1.0..1.0, -1.0..1.0, -1.0..1.0, -1.0..1.0, -1.0..1.0, -1.0..1.0, -1.0..1.0, -1.0..1.0, -1.0..1.0, -1.0..1.0, -1.0..1.0, -1.0..1.0, -1.0..1.0, -1.0..1.0, -1.0..1.0, -1.0..1.0])`\n",
       "\n",
       "## Action Space\n",
       "\n",
       "`ReinforcementLearningBase.Space{Vector{IntervalSets.ClosedInterval{Float64}}}(IntervalSets.ClosedInterval{Float64}[-1.0..1.0, -1.0..1.0, -1.0..1.0, -1.0..1.0, -1.0..1.0, -1.0..1.0])`\n",
       "\n",
       "## Current State\n",
       "\n",
       "```\n",
       "[0.0, 0.0, 0.0, 0.0, 0.0, 0.0, 0.0, 0.0, 0.0, 0.0, 0.0, 0.0, 0.0, 0.0, 0.0, 0.0, 0.0, 0.0, 0.0, 0.0, 0.0, 0.0, 0.0, 0.0, 0.0, 0.0, 0.0, 0.0, 0.0, 0.0, 0.0, 0.0, 0.0]\n",
       "```\n"
      ]
     },
     "metadata": {},
     "output_type": "display_data"
    }
   ],
   "source": [
    "env = ElectricGridEnv(num_sources = 2, num_loads = 1)"
   ]
  },
  {
   "attachments": {},
   "cell_type": "markdown",
   "id": "822ae85f",
   "metadata": {},
   "source": [
    "The initialisation provides some information about the created env since it is conform to the interface like described in [juliareinforcementlearning.jl/env](https://juliareinforcementlearning.org/docs/How_to_write_a_customized_environment/).\n",
    "\n",
    "\n",
    "Some information is, for example:\n",
    "\n",
    " - is the environment terminated (`done`) which can happen in response to a limit violation or by reaching the number of interactions manually defined in the experiment,\n",
    " - the range of the inputs (`Action Space`) the environment accepts,\n",
    " - the range of the state (`State Space`) the environment returns,\n",
    " - the `Current State` of the environment.\n",
    "\n",
    "\n",
    "In the following, the most important parts of the `ElectricGridEnv` will be investigated in detail. For this purpose, we will take a closer look at the generated `env`.\n",
    "\n",
    "For better readability, the first five of the `Current State` of the environment are shown:"
   ]
  },
  {
   "cell_type": "code",
   "execution_count": 21,
   "id": "9fdd5b29",
   "metadata": {},
   "outputs": [
    {
     "data": {
      "text/plain": [
       "5-element Vector{Float64}:\n",
       " 0.0\n",
       " 0.0\n",
       " 0.0\n",
       " 0.0\n",
       " 0.0"
      ]
     },
     "metadata": {},
     "output_type": "display_data"
    }
   ],
   "source": [
    "env.state[1:5]"
   ]
  },
  {
   "attachments": {},
   "cell_type": "markdown",
   "id": "69cbc0da",
   "metadata": {},
   "source": [
    "Since we have not yet interacted with the env, the `Current State` is still the initial - which by default is zero.\n",
    "To learn how to interact with the environment applying differnt actions, see `Env_Interaction_DEMO.ipynb`.\n",
    "\n",
    "\n",
    "If the state is not zero, the reset method can be used which sets the state to the internally defined `x0` (which consists of zeros per default).\n",
    "If we do not want start from zero, we could set `x0` in the initialisation of the env:"
   ]
  },
  {
   "cell_type": "code",
   "execution_count": 22,
   "id": "ed8f10b4",
   "metadata": {},
   "outputs": [
    {
     "data": {
      "text/plain": [
       "5-element Vector{Float64}:\n",
       " 0.1\n",
       " 0.1\n",
       " 0.1\n",
       " 0.1\n",
       " 0.1"
      ]
     },
     "metadata": {},
     "output_type": "display_data"
    }
   ],
   "source": [
    "env.x0 = 0.1 * ones(length(env.state_space))\n",
    "reset!(env)\n",
    "env.state[1:5]"
   ]
  },
  {
   "cell_type": "markdown",
   "id": "07f346cc",
   "metadata": {},
   "source": [
    "The `Action Space` defines how many actions can be applied to the env:"
   ]
  },
  {
   "cell_type": "code",
   "execution_count": 23,
   "id": "27c74e37",
   "metadata": {},
   "outputs": [
    {
     "data": {
      "text/plain": [
       "6"
      ]
     },
     "metadata": {},
     "output_type": "display_data"
    }
   ],
   "source": [
    "n_a = length(env.action_space)"
   ]
  },
  {
   "attachments": {},
   "cell_type": "markdown",
   "id": "975110c2",
   "metadata": {},
   "source": [
    "Since per default the env produces a three-phase system we need one action per phase per source. Like shown in the figure above, we have 2 sources (with 3 phases each) leading to 6 actions in total.\n",
    "\n",
    "\n",
    "Till now, we have investigated the difference between states and actions. \n",
    "To get a little bit more intuition about what the different states are, the `state_ids` and `action_ids` can be investigated:"
   ]
  },
  {
   "cell_type": "code",
   "execution_count": 24,
   "id": "ddc6fbc9",
   "metadata": {},
   "outputs": [
    {
     "data": {
      "text/plain": [
       "5-element Vector{String}:\n",
       " \"source1_i_L1_a\"\n",
       " \"source1_v_C_filt_a\"\n",
       " \"source1_i_L2_a\"\n",
       " \"source1_v_C_cables_a\"\n",
       " \"source2_i_L1_a\""
      ]
     },
     "metadata": {},
     "output_type": "display_data"
    }
   ],
   "source": [
    "env.state_ids[1:5] # First 5 states"
   ]
  },
  {
   "cell_type": "markdown",
   "id": "15505673",
   "metadata": {},
   "source": [
    "The labels define to which source the state belongs and what it is. \n",
    "For example the first state is called `\"source1_i_L1_a\"`. That tells, it belongs to the first source (in the picture above the PV plant) and represents the current `i` through the incductor `L1` of phase `a`.\n",
    "For example, this information can be used to control the current through the filter inductance (or to learn this control task).\n",
    "\n",
    "Analogously, this can apply to the `action_ids`:"
   ]
  },
  {
   "cell_type": "code",
   "execution_count": 25,
   "id": "57470fe5",
   "metadata": {},
   "outputs": [
    {
     "data": {
      "text/plain": [
       "4-element Vector{String}:\n",
       " \"source1_u_a\"\n",
       " \"source2_u_a\"\n",
       " \"source1_u_b\"\n",
       " \"source2_u_b\""
      ]
     },
     "metadata": {},
     "output_type": "display_data"
    }
   ],
   "source": [
    "env.action_ids[1:4] # First 4 actions"
   ]
  },
  {
   "attachments": {},
   "cell_type": "markdown",
   "id": "6e989372",
   "metadata": {},
   "source": [
    "For example, `\"source1_u_a\"` belongs to the first source and represents the action `u` applied to phase `a`.\n",
    "\n",
    "All states of phase `a` of the example in the figure above (PV, wind turbine and houshold) are labeled in the circuit below (currents in red, voltages in green).\n",
    "Hint: since the parameters of the elctirc grid (e.g., the filter-types,...) are drawn randomly, if not pre-defined, the `state-ids` could differ after every execution.\n",
    "In the subsequent section of this notebook, it is explained how the parameters of the env can be pre-defined to create reproducable experiments.\n",
    "\n",
    "![](figures/S2_L1_states.png \"\")\n",
    "\n",
    "If we investigate the `State Space` of the env, we'll see that it ranges from -1.0..1.0:"
   ]
  },
  {
   "cell_type": "code",
   "execution_count": 26,
   "id": "a0419b99",
   "metadata": {},
   "outputs": [
    {
     "data": {
      "text/plain": [
       "ReinforcementLearningBase.Space{Vector{IntervalSets.ClosedInterval{Float64}}}(IntervalSets.ClosedInterval{Float64}[-1.0..1.0, -1.0..1.0, -1.0..1.0, -1.0..1.0, -1.0..1.0, -1.0..1.0, -1.0..1.0, -1.0..1.0, -1.0..1.0, -1.0..1.0  …  -1.0..1.0, -1.0..1.0, -1.0..1.0, -1.0..1.0, -1.0..1.0, -1.0..1.0, -1.0..1.0, -1.0..1.0, -1.0..1.0, -1.0..1.0])"
      ]
     },
     "metadata": {},
     "output_type": "display_data"
    }
   ],
   "source": [
    "env.state_space"
   ]
  },
  {
   "cell_type": "markdown",
   "id": "8e7973f0",
   "metadata": {},
   "source": [
    "That means, the current `\"source1_i_L1_a\"` through the filter inductor in the example is normalized by the maximal current allowed to flow through the inductor.\n",
    "If this parameter is not pre-defined it is set per default based on the filter layout happening in the env.\n",
    "\n",
    "\n",
    "\n",
    "All (technical) parameters needed for the simulation are defined in the parameter dict (for detailed information see below and Default_Parameters.ipynb).\n",
    "It can be investigated by:"
   ]
  },
  {
   "cell_type": "code",
   "execution_count": 27,
   "id": "b375692f",
   "metadata": {},
   "outputs": [
    {
     "data": {
      "text/plain": [
       "Dict{Any, Any} with 4 entries:\n",
       "  \"source\" => Any[Dict{Any, Any}(\"L1\"=>0.0136613, \"C\"=>3.85308e-6, \"mode\"=>\"Syn…\n",
       "  \"grid\"   => Dict{Any, Any}(\"f_grid\"=>50, \"Δfmax\"=>0.5, \"fs\"=>10000.0, \"proces…\n",
       "  \"load\"   => Any[Dict{Any, Any}(\"Z\"=>30.8104-20.2905im, \"C\"=>6.62171e-5, \"i_li…\n",
       "  \"cable\"  => Any[Dict{Any, Any}(\"Cb\"=>4.0e-7, \"Lb\"=>0.000264, \"Rb\"=>0.722, \"C\"…"
      ]
     },
     "metadata": {},
     "output_type": "display_data"
    }
   ],
   "source": [
    "env.nc.parameters"
   ]
  },
  {
   "cell_type": "markdown",
   "id": "82e36955",
   "metadata": {},
   "source": [
    "The limit of the filter inductor current can be found using:"
   ]
  },
  {
   "cell_type": "code",
   "execution_count": 28,
   "id": "bb4e6731",
   "metadata": {},
   "outputs": [
    {
     "data": {
      "text/plain": [
       "16.18093320793015"
      ]
     },
     "metadata": {},
     "output_type": "display_data"
    }
   ],
   "source": [
    "env.nc.parameters[\"source\"][1][\"i_limit\"]"
   ]
  },
  {
   "attachments": {},
   "cell_type": "markdown",
   "id": "08e1d5e0",
   "metadata": {},
   "source": [
    "Which returns the current limit (belonging to the inductor) of source one.\n",
    "The voltage limit for normalization is depending on the filter capacitor and can be found using `env.nc.parameters[\"source\"][1][\"v_limit\"]`.\n",
    "The same concept holds for the cables and loads (parametrisation can be found in the parameter dict, too).\n",
    "\n",
    "Since the `Action Space` is defined in a range -1.0..1.0, the actions are \"normalized\" by the DC-link voltage of the specific source. \n",
    "In the simulation the chosen action is multiplied by half of the DC-link voltage (and can be interpreted as modulation index in an electrical engineering context).\n",
    "The DC-link voltage can be found in (or set via) the parameter dict, too:"
   ]
  },
  {
   "cell_type": "code",
   "execution_count": 29,
   "id": "8b4c3fce",
   "metadata": {},
   "outputs": [
    {
     "data": {
      "text/plain": [
       "800"
      ]
     },
     "metadata": {},
     "output_type": "display_data"
    }
   ],
   "source": [
    "env.nc.parameters[\"source\"][1][\"vdc\"]"
   ]
  },
  {
   "cell_type": "markdown",
   "id": "28bd0fdd",
   "metadata": {},
   "source": [
    "The following figure shows the physical parameters of our example grid, which are also included in the parameter dict.\n",
    "\n",
    "![](figures/S2_L1_parameters.png)"
   ]
  },
  {
   "cell_type": "markdown",
   "id": "31e034f1",
   "metadata": {},
   "source": [
    "## Setting Parameters\n",
    "\n",
    "The wanted setting of the simulation can be adjusted using the parameter dict. As shown above, there are 4 keys: `\"grid\"`, `\"source\"`, `\"cable\"` and `\"load\"`. The most important parameters will be explained in the following:\n"
   ]
  },
  {
   "attachments": {},
   "cell_type": "markdown",
   "id": "866acdb8",
   "metadata": {},
   "source": [
    "### Grid\n",
    "Defines the basic setting of the whole electrical power grid. The most important parameters are:\n",
    "\n",
    "- `\"f_grid\"`: grid frequency (frequency of the voltage sinusoidal signal) (default: 50 Hz)\n",
    "- `\"phases\"`: number of phases in the electric power grid (exclusive neutral). (default: 3)\n",
    "- `\"fs\"`: sample frequency of the simulation. Every step the environment if simulated `ts = 1/fs` s forward (default: 10 kHz)\n",
    "- `\"v_rms\"`: root mean square value of the basic grid voltage (default: 230 V)\n",
    "- ...\n"
   ]
  },
  {
   "cell_type": "code",
   "execution_count": 30,
   "id": "825fab26",
   "metadata": {},
   "outputs": [
    {
     "data": {
      "text/plain": [
       "Dict{Any, Any} with 9 entries:\n",
       "  \"f_grid\"        => 50\n",
       "  \"Δfmax\"         => 0.5\n",
       "  \"fs\"            => 10000.0\n",
       "  \"process_start\" => 0.04\n",
       "  \"phase\"         => 3\n",
       "  \"ramp_end\"      => 0.04\n",
       "  \"ΔEmax\"         => 5\n",
       "  \"pwr\"           => 25000.0\n",
       "  \"v_rms\"         => 230"
      ]
     },
     "metadata": {},
     "output_type": "display_data"
    }
   ],
   "source": [
    "env.nc.parameters[\"grid\"]"
   ]
  },
  {
   "cell_type": "markdown",
   "id": "d37031fa",
   "metadata": {},
   "source": [
    "### Source\n",
    "Here, a list with all sources of the network can be found. Each source is in turn stored as a dict."
   ]
  },
  {
   "cell_type": "code",
   "execution_count": 31,
   "id": "fcfee150",
   "metadata": {},
   "outputs": [
    {
     "data": {
      "text/plain": [
       "2-element Vector{Any}:\n",
       " Dict{Any, Any}(\"L1\" => 0.013661303012524098, \"C\" => 3.853076021710845e-6, \"mode\" => \"Synchronverter\", \"fltr\" => \"LCL\", \"pwr\" => 5000.0, \"source_type\" => \"ideal\", \"L2\" => 0.0018682721747552546, \"R_C\" => 19.848195021426452, \"std_asy\" => 1250.0, \"σ\" => 0.0…)\n",
       " Dict{Any, Any}(\"L1\" => 0.0034153257531310244, \"C\" => 1.541230408684338e-5, \"mode\" => \"Synchronverter\", \"fltr\" => \"LC\", \"pwr\" => 20000.0, \"source_type\" => \"ideal\", \"R_C\" => 4.962048755356613, \"std_asy\" => 5000.0, \"σ\" => 0.0, \"i_limit\" => 69.57801279409964…)"
      ]
     },
     "metadata": {},
     "output_type": "display_data"
    }
   ],
   "source": [
    "env.nc.parameters[\"source\"]"
   ]
  },
  {
   "attachments": {},
   "cell_type": "markdown",
   "id": "d5a6bfdc",
   "metadata": {},
   "source": [
    "A selection of the most important parameters that can be defined and configured via the parameter dict is given in the following:\n",
    "\n",
    "- `\"pwr\"`: maximum apparent power of the source (default: random)\n",
    "- `\"source_type\"`: type of the electric component sitting on the DC side, e.g., ideal (constant `vdc`), PV,... (default: ideal)\n",
    "- `\"control_type\"`: defines whether the source is classically controlled or RL controlled (default = \"classic\")\n",
    "- `\"mode\"`: allows to specify which control mode the source (default = \"Droop\", and classic control_type) (for more information, see Classic_Controllers_Notebook.iypnb)\n",
    "- `\"vdc\"`: DC-link voltage, fixed if `\"source_type\"` is ideal (drawn random $U$[690, 800] V), otherwise drawn from function\n",
    "- `\"fltr\"`: Filter type [L, LC, LCL] (default: random)\n",
    "- `\"i_limit\"`: maximal allowed current flowing through the inductor(s) (default: calculated based on filter parameters)\n",
    "- `\"v_limit\"`: maximal allowed voltage across the capacitor (default: calculated based on filter parameters).\n",
    "- ...\n",
    "\n",
    "The parameters of the first source are for example:"
   ]
  },
  {
   "cell_type": "code",
   "execution_count": 32,
   "id": "55b057c8",
   "metadata": {},
   "outputs": [
    {
     "data": {
      "text/plain": [
       "Dict{Any, Any} with 30 entries:\n",
       "  \"L1\"           => 0.0136613\n",
       "  \"C\"            => 3.85308e-6\n",
       "  \"mode\"         => \"Synchronverter\"\n",
       "  \"fltr\"         => \"LCL\"\n",
       "  \"pwr\"          => 5000.0\n",
       "  \"source_type\"  => \"ideal\"\n",
       "  \"L2\"           => 0.00186827\n",
       "  \"R_C\"          => 19.8482\n",
       "  \"std_asy\"      => 1250.0\n",
       "  \"σ\"            => 0.0\n",
       "  \"i_limit\"      => 16.1809\n",
       "  \"v_rip\"        => 0.01537\n",
       "  \"v_δ_set\"      => 0.0\n",
       "  \"vdc\"          => 800\n",
       "  \"τv\"           => 0.002\n",
       "  \"k\"            => 0\n",
       "  \"control_type\" => \"classic\"\n",
       "  \"v_pu_set\"     => 1.0\n",
       "  \"τf\"           => 0.002\n",
       "  ⋮              => ⋮"
      ]
     },
     "metadata": {},
     "output_type": "display_data"
    }
   ],
   "source": [
    "env.nc.parameters[\"source\"][1]"
   ]
  },
  {
   "cell_type": "markdown",
   "id": "f50d2ec5",
   "metadata": {},
   "source": [
    "### Load\n",
    "Here, a list with all loads of the network can be found. Each load is in turn stored as a dict."
   ]
  },
  {
   "cell_type": "code",
   "execution_count": 33,
   "id": "1ab14142",
   "metadata": {},
   "outputs": [
    {
     "data": {
      "text/plain": [
       "1-element Vector{Any}:\n",
       " Dict{Any, Any}(\"Z\" => 30.810416720148737 - 20.290520943696418im, \"C\" => 6.621712200521118e-5, \"i_limit\" => 7.93520867195961, \"L\" => 0.5400536745930773, \"R\" => 44.172950693840335, \"pwr\" => 4301.7972275892525, \"pf\" => -0.8351617216610295, \"impedance\" => \"RLC\")"
      ]
     },
     "metadata": {},
     "output_type": "display_data"
    }
   ],
   "source": [
    "env.nc.parameters[\"load\"]"
   ]
  },
  {
   "cell_type": "markdown",
   "id": "c9d8ac58",
   "metadata": {},
   "source": [
    "Defines passive loads which can be pluged/connected to the grid. All combinations of the passive components of a resistor, inductor and capacitor (\"impedance\") can be chosen:\n",
    "\n",
    "- `\"impedance\"`: type/circuit of the load (can be something out of [RLC, RL, RC, LC, R, L, C]). Components will be connected in parallel (default: random)\n",
    "- `\"pwr\"`: apparant power drawn from the load assuming fixed vrms grid voltage and frequency and the number of phases (see parameters of \"grid\")\n",
    "- `\"pf\"`: power factor resulting from chosen parameters\n",
    "- `\"Z\"`: impedance resulting from chosen parameters\n",
    "- `\"R\"`: load resistance\n",
    "- ...\n",
    "\n",
    "\n",
    "The parameters of the load, since only one is defined, are for example:"
   ]
  },
  {
   "cell_type": "code",
   "execution_count": 34,
   "id": "54c895f2",
   "metadata": {},
   "outputs": [
    {
     "data": {
      "text/plain": [
       "Dict{Any, Any} with 8 entries:\n",
       "  \"Z\"         => 30.8104-20.2905im\n",
       "  \"C\"         => 6.62171e-5\n",
       "  \"i_limit\"   => 7.93521\n",
       "  \"L\"         => 0.540054\n",
       "  \"R\"         => 44.173\n",
       "  \"pwr\"       => 4301.8\n",
       "  \"pf\"        => -0.835162\n",
       "  \"impedance\" => \"RLC\""
      ]
     },
     "metadata": {},
     "output_type": "display_data"
    }
   ],
   "source": [
    "env.nc.parameters[\"load\"][1]"
   ]
  },
  {
   "cell_type": "markdown",
   "id": "8675c0d9",
   "metadata": {},
   "source": [
    "### Cable\n",
    "Here, a list with all cables of the network can be found. Each cable is in turn stored as a dict."
   ]
  },
  {
   "cell_type": "code",
   "execution_count": 35,
   "id": "5b6b3dde",
   "metadata": {},
   "outputs": [
    {
     "data": {
      "text/plain": [
       "2-element Vector{Any}:\n",
       " Dict{Any, Any}(\"Cb\" => 4.0e-7, \"Lb\" => 0.000264, \"Rb\" => 0.722, \"C\" => 0.0004, \"i_limit\" => 1.0e13, \"v_limit\" => 374.05948724768365, \"len\" => 1.0, \"L\" => 0.00025, \"R\" => 0.208)\n",
       " Dict{Any, Any}(\"Cb\" => 4.0e-7, \"Lb\" => 0.000264, \"Rb\" => 0.722, \"C\" => 0.0004, \"i_limit\" => 1.0e13, \"v_limit\" => 374.05948724768365, \"len\" => 1.0, \"L\" => 0.00025, \"R\" => 0.208)"
      ]
     },
     "metadata": {},
     "output_type": "display_data"
    }
   ],
   "source": [
    "env.nc.parameters[\"cable\"]"
   ]
  },
  {
   "attachments": {},
   "cell_type": "markdown",
   "id": "94e91c4f",
   "metadata": {},
   "source": [
    "The cables are modelled using PI-models like shown in the figure above.\n",
    "If no parameters are defined they are automatically designed based on the power flowing through the cable.\n",
    "\n",
    "\n",
    "- `\"len\"`: length of the cable (default: random [1m, 1km])\n",
    "- `\"i_limit\"`: maximal allowed current flowing through the inductor (default: calculated based on power flow and inductance)\n",
    "- `\"v_limit\"`: since the capacitance is added to the one (if) defined in the source, the limit for the voltage can be found in the source parameter dict\n",
    "- `\"Cb\"`: cable capacity coatings (default: 0.4 µF/km)\n",
    "- `\"Lb\"`: cable operating inductor (default: 0.264 mH/km)\n",
    "- `\"Rb\"`: cable AC resistor (default: 0.722 Ohm/km)\n",
    "- `\"C\"`: cable capacity (default: `\"len\"`*`\"Cb\"`)\n",
    "- `\"L\"`: cable inductance (default: `\"len\"`*`\"Lb\"`)\n",
    "- `\"R\"`: cable resistance (default: `\"len\"`*`\"Rb\"`)\n",
    "\n",
    "The parameters of the first cable are for example:"
   ]
  },
  {
   "cell_type": "code",
   "execution_count": 36,
   "id": "026200f7",
   "metadata": {},
   "outputs": [
    {
     "data": {
      "text/plain": [
       "Dict{Any, Any} with 9 entries:\n",
       "  \"Cb\"      => 4.0e-7\n",
       "  \"Lb\"      => 0.000264\n",
       "  \"Rb\"      => 0.722\n",
       "  \"C\"       => 0.0004\n",
       "  \"i_limit\" => 1.0e13\n",
       "  \"v_limit\" => 374.059\n",
       "  \"len\"     => 1.0\n",
       "  \"L\"       => 0.00025\n",
       "  \"R\"       => 0.208"
      ]
     },
     "metadata": {},
     "output_type": "display_data"
    }
   ],
   "source": [
    "env.nc.parameters[\"cable\"][1]"
   ]
  },
  {
   "attachments": {},
   "cell_type": "markdown",
   "id": "6f85446a",
   "metadata": {},
   "source": [
    "For all information about the parameters which can be defined investigate the parameter dict itself or have a look into the documentation.\n",
    "\n",
    "The next step would be to interact with the env to run an experiment.\n",
    "To learn how to do this, see the `Env_Interaction_DEMO.ipynb`."
   ]
  }
 ],
 "metadata": {
  "@webio": {
   "lastCommId": "58deccf3bb044b82beb7e2d8cb79d303",
   "lastKernelId": "1ef185b7-9426-4e2c-9930-7975d88915a0"
  },
  "kernelspec": {
   "display_name": "Julia 1.8.0",
   "language": "julia",
   "name": "julia-1.8"
  },
  "language_info": {
   "file_extension": ".jl",
   "mimetype": "application/julia",
   "name": "julia",
   "version": "1.8.0"
  }
 },
 "nbformat": 4,
 "nbformat_minor": 5
}
