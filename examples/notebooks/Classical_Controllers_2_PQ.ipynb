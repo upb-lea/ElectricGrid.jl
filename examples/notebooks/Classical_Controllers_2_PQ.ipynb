{
 "cells": [
  {
   "cell_type": "markdown",
   "metadata": {},
   "source": [
    "# PQ Mode - Controllable Source and Load\n",
    "\n",
    "|  | Mode | Description |\n",
    "| --- | --- | --- |\n",
    "| 1 | \"Swing\" | Ideal voltage source without dynamics (i.e., an infinite bus) |\n",
    "| 2 | __\"PQ\"__ | __Grid following controllable source/load (real and imaginary power)__ |\n",
    "| 3 | \"Droop\" | Simple grid forming with power balancing through a droop mechanism |\n",
    "| 4 | \"Synchronverter\" or \"VSG\"|  Grid forming control mimicking a generator, i.e., virtual synchronous generator |\n",
    "\n",
    "- The control structure of power electronic inverters can be divided into cascading levels. \n",
    "- The lowest of these employed in the package is an \"inner\" current control loop, on top of which all other levels are built.\n",
    "\n",
    "## Summary\n",
    "\n",
    "- The following example is intended to introduce you to the control mode which will enable the inverter to act like a controllable source or load.\n",
    "- The mode takes as input the active power (P, W) and the reactive power (Q, VA) as set points.\n",
    "- Most solar photovoltaic resources, wind power plants and variable loads can be represented by this mode.\n",
    "- An inverter in this control mode must be placed in a network with other \"grid-forming\" sources (e.g., swing, droop, or VSG) as it is \"grid following\".\n",
    "\n",
    "### Theory\n",
    "\n",
    "An inverter in the PQ mode is effectively controlled as a current supply, only ever regulating the current exchanged with the grid. This current control loop operates in the direct-quadrature-zero (DQ0) frame, and employs over voltage and current limitations to simulate the protection of the switches (not depicted). This limitations cause non-linear saturation effects when the inverter is pushed to extreme. \n",
    "\n",
    "\n",
    "![](figures/current_control.jpg)\n",
    "\n",
    "The main disadvantage of an inverter in this mode is that the output voltage is maintained by the external network, which means that the inverter needs to synchronize to the network by making use of a phase-locked-loop (PLL). The PLL extracts the angle (and frequency) of the positive phase sequence voltage measured after the first filter inductor. \n",
    "\n",
    "A possible disadvantage to the PQ mode is that the inverter may continue injecting currents into the grid when there is a network fault, leading to excessively high voltages. By the same token, when the network voltage is low, the inverter will continue drawing the same amount of power, further deteriorating the voltage profile. Other modes, such as the \"Droop\" and in particular the \"VSG\" mode can alleviate some of these issues, providing control structures which regulate both the grid frequency and voltage.  \n",
    "\n",
    "![](figures/PQ_mode.jpg)\n"
   ]
  },
  {
   "cell_type": "code",
   "execution_count": 1,
   "metadata": {},
   "outputs": [],
   "source": [
    "using ElectricGrid;"
   ]
  },
  {
   "cell_type": "markdown",
   "metadata": {},
   "source": [
    "_______________________________________________________________________________\n",
    "### Network and Control Configuration \n",
    "\n",
    "The following example network structure is considered:\n",
    "- The PQ-controlled inverter is connected to an external network represented by a source in \"Swing\" mode.\n",
    "- The \"strength\" of this external network is quantifiable by its _fault_ _level_.\n",
    "- The effective impedance of the external network can be computed from the short-circuit power, the X/R ratio, and the nominal rms voltage.\n",
    "- Setting I_kp and I_ki (the PI gains) is optional.\n",
    "- If not provided they will be automatically determined via a loop-shaping method.\n",
    "- The kp's and ki's for all PI controllers are equal.\n",
    "\n",
    "With this configuration, a time domain simulation is conducted below."
   ]
  },
  {
   "cell_type": "code",
   "execution_count": 2,
   "metadata": {},
   "outputs": [
    {
     "name": "stderr",
     "output_type": "stream",
     "text": [
      "┌ Info: Normalization is done based on the defined parameter limits.\n",
      "└ @ ElectricGrid c:\\Users\\SeptimusBoshoff\\OneDrive - Power System Dynamics\\Documents\\Doctor of Philosophy\\Paderborn Projects\\Repos\\dare\\src\\electric_grid_env.jl:331\n",
      "┌ Info: Time simulation run time: 0.16 [s] ~> 1601 steps\n",
      "└ @ ElectricGrid c:\\Users\\SeptimusBoshoff\\OneDrive - Power System Dynamics\\Documents\\Doctor of Philosophy\\Paderborn Projects\\Repos\\dare\\src\\electric_grid_env.jl:332\n"
     ]
    }
   ],
   "source": [
    "# total run time, seconds\n",
    "t_end = 0.16     \n",
    "\n",
    "# Connectivity Matrix\n",
    "CM = [ 0. 1.\n",
    "        -1. 0.]     \n",
    "\n",
    "R, L = FaultLevel(300e3, 0.5, 230) # short-circuit power [VA], X/R ratio, nominal rms voltage [V]\n",
    "\n",
    "parameters = Dict{Any, Any}(\n",
    "        \"source\" => Any[\n",
    "                        Dict{Any, Any}(\"pwr\"    => 300e3,    \n",
    "                                        \"mode\"  => \"Swing\", \n",
    "                                        \"R1\"    => R,       # Equivalent external network resistance [Ω]\n",
    "                                        \"L1\"    => L)       # Equivalent external network inductance [H] \n",
    "                        Dict{Any, Any}(\"pwr\"    => 100e3,   # Rated apparent power [VA]\n",
    "                                        \"mode\"  => \"PQ\",    # Controller mode\n",
    "                                        \"p_set\" => 50e3,    # Real power set point (generating) [W] \n",
    "                                        \"q_set\" => -40e3,   # Imaginary power set point (inductive) [VAi]  \n",
    "                                        \"I_kp\"  => 0.01,    # Current proportional gain [V/A] (**optional**)\n",
    "                                        \"I_ki\"  => 5.0)     # Current integral gain [V/A⋅s] (**optional**)\n",
    "                        ],\n",
    "        \"cable\"   => Any[\n",
    "                        Dict{Any, Any}(\"R\"  => 0.1, \n",
    "                                        \"L\" => 0.25e-3, \n",
    "                                        \"C\" => 0.1e-4),\n",
    "                        ],\n",
    "        \"grid\"   => Dict{Any, Any}(\"process_start\" => 0.06) # Time to wait before accepting p_set and q_set [s]\n",
    "    );\n",
    "\n",
    "env = ElectricGridEnv(CM = CM, parameters = parameters, t_end = t_end, verbosity = 2);\n",
    "\n",
    "agents = SetupAgents(env);\n",
    "\n",
    "hook = Simulate(agents, env);"
   ]
  },
  {
   "cell_type": "markdown",
   "metadata": {},
   "source": [
    "_______________________________________________________________________________\n",
    "### Low-Level Rendering"
   ]
  },
  {
   "cell_type": "code",
   "execution_count": null,
   "metadata": {},
   "outputs": [],
   "source": [
    "RenderHookResults(hook = hook, \n",
    "                    states_to_plot  = [\"source2_i_L1_a\"], # Inductor current [A]\n",
    "                    actions_to_plot = [\"source2_u_a\"],    # Inverter voltage [V]\n",
    "                    )"
   ]
  },
  {
   "cell_type": "markdown",
   "metadata": {},
   "source": [
    "_______________________________________________________________________________\n",
    "### High-Level Rendering"
   ]
  },
  {
   "cell_type": "code",
   "execution_count": null,
   "metadata": {},
   "outputs": [],
   "source": [
    "RenderHookResults(hook = hook, \n",
    "                    states_to_plot  = [], \n",
    "                    actions_to_plot = [],  \n",
    "                    v_mag_inv       = [2], # Scaled L₂ norm in αβγ coordinates [V]\n",
    "                    power_p_inv     = [2], # Real power [W]\n",
    "                    power_q_inv     = [2], # Imaginary power [VA]\n",
    "                    angles          = [2], # Relative angle [degrees]\n",
    "                    freq            = [2], # Angular velocity [Hz]\n",
    "                    )"
   ]
  },
  {
   "cell_type": "markdown",
   "metadata": {},
   "source": [
    "_______________________________________________________________________________\n",
    "### Analysis\n",
    "\n",
    "- The plot shows the instantaneous 3-phase real and imaginary power delivered by the inverter. \n",
    "- At 0.06 s the real and imaginary power set points take effect.\n",
    "- After the transients have died away the inverter settles down to the specified power set points.\n",
    "- The inverter's phase-locked loop frequency and angle are indicators of the control stability.\n",
    "- The stability of the inverter decreases with the short-circuit power (i.e., fault level).\n",
    "\n",
    "_______________________________________________________________________________\n",
    "### References\n",
    "\n",
    "- D. Weber, S. Heid, H. Bode, J. H. Lange, E. Hüllermeier and O. Wallscheid, \"Safe Bayesian Optimization for Data-Driven Power Electronics Control Design in Microgrids: From Simulations to Real-World Experiments,\" in IEEE Access, vol. 9, pp. 35654-35669, 2021, doi: 10.1109/ACCESS.2021.3062144."
   ]
  }
 ],
 "metadata": {
  "@webio": {
   "lastCommId": "21db56943fa34ca68e24e4d920cbd404",
   "lastKernelId": "d8eb21b3-f772-4fce-8739-947f621cc8e0"
  },
  "kernelspec": {
   "display_name": "Julia 1.8.5",
   "language": "julia",
   "name": "julia-1.8"
  },
  "language_info": {
   "file_extension": ".jl",
   "mimetype": "application/julia",
   "name": "julia",
   "version": "1.9.2"
  },
  "vscode": {
   "interpreter": {
    "hash": "77fa586337b96eece9c55e46754526368717afeb3fb3c8ebd1dc061a7e168173"
   }
  }
 },
 "nbformat": 4,
 "nbformat_minor": 2
}
