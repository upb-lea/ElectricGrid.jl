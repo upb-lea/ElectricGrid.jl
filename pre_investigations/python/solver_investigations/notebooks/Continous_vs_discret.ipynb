{
 "cells": [
  {
   "cell_type": "code",
   "execution_count": null,
   "id": "f13fd3df",
   "metadata": {},
   "outputs": [],
   "source": [
    "from scipy.integrate import ode\n",
    "from scipy.integrate import odeint\n",
    "import scipy\n",
    "import numpy as np\n",
    "import matplotlib.pyplot as plt\n",
    "import control\n",
    "import copy"
   ]
  },
  {
   "cell_type": "markdown",
   "id": "bb231a30",
   "metadata": {},
   "source": [
    "This notebook is supposed to work out the differences between the continuous, exact solution and the discretization. Both solutions are plotted for a constant and a sinusoidal input signal. For the system the Python Conrol package is used."
   ]
  },
  {
   "cell_type": "code",
   "execution_count": null,
   "id": "868cab26",
   "metadata": {},
   "outputs": [],
   "source": [
    "# define time vector\n",
    "ts = 1e-4\n",
    "t_end = 0.1 # <---- Change this, to get a longer timehorizon.\n",
    "# For the transient behavior at the beginning a length of 0.005 is suitable.\n",
    "steps = int(1/ts)\n",
    "t = np.arange(0, t_end+ts, ts)\n",
    "num_samples = len(t)\n",
    "\n",
    "f0 = 50\n",
    "V_eff = 230 * np.sqrt(2)\n",
    "\n",
    "v_sin1 = V_eff * np.sin(2*np.pi * f0 * t)\n",
    "v_sin2 = V_eff * np.sin(2*np.pi * f0 * t + 1)\n",
    "\n",
    "vi1 = 225\n",
    "vi2 = 235\n",
    "\n",
    "R = 0.4\n",
    "L = 2.3e-3\n",
    "C = 10e-6\n",
    "LT = 2.3e-3\n",
    "RLoad = 14\n",
    "\n",
    "#def varaibles\n",
    "\n",
    "R1 = R\n",
    "L1 = L\n",
    "C1 = C\n",
    "LT1 = LT\n",
    "R2 = R\n",
    "L2 = L\n",
    "C2 = C\n",
    "LT2 = LT\n",
    "RT1 = R\n",
    "RT2 = R\n",
    "\n",
    "i10 = 0\n",
    "v10 = 0\n",
    "iT10 = 0\n",
    "i20 = 0\n",
    "v20 = 0\n",
    "iT20 = 0\n",
    "t0 = 0\n",
    "\n",
    "x0 = np.array([i10, v10, iT10, i20, v20, iT20])"
   ]
  },
  {
   "cell_type": "code",
   "execution_count": null,
   "id": "f4bb3056",
   "metadata": {},
   "outputs": [],
   "source": [
    "# create the input signals and plot them\n",
    "u = np.array([vi1, vi2])[:,None] * np.ones((2,len(t)))\n",
    "u_sin = np.array([v_sin1, v_sin2])\n",
    "\n",
    "plt.plot(t, v_sin1)\n",
    "plt.plot(t, v_sin2)\n",
    "plt.plot(t, u[0])\n",
    "plt.plot(t, u[1], '--')\n",
    "plt.ylabel('Input current in $v$')\n",
    "plt.xlabel('Time in $s$')\n",
    "plt.grid()\n",
    "plt.show()"
   ]
  },
  {
   "cell_type": "markdown",
   "id": "edb0350d",
   "metadata": {},
   "source": [
    "## Calculating the continous case "
   ]
  },
  {
   "cell_type": "code",
   "execution_count": null,
   "id": "1ecfb67b",
   "metadata": {},
   "outputs": [],
   "source": [
    "A1 = np.array([[-R1/L1, -1/L1, 0],\n",
    "               [1/C1, 0, -1/C1],\n",
    "               [0, 1/LT1, -RLoad/LT1 - RT1/LT1]])\n",
    "\n",
    "A2 = np.array([[-R2/L2, -1/L2, 0],\n",
    "               [1/C2, 0, -1/C2],\n",
    "               [0, 1/LT2, -RLoad/LT2 - RT2/LT2]])\n",
    "\n",
    "AT1 = np.array([[0, 0, 0],\n",
    "                [0, 0, 0],\n",
    "                [0, 0, -RLoad/LT1]])\n",
    "\n",
    "AT2 = np.array([[0, 0, 0],\n",
    "                [0, 0, 0],\n",
    "                [0, 0, -RLoad/LT2]])\n",
    "\n",
    "A = np.block([[A1, AT1],\n",
    "              [AT2, A2]])"
   ]
  },
  {
   "cell_type": "code",
   "execution_count": null,
   "id": "fb0dab61",
   "metadata": {},
   "outputs": [],
   "source": [
    "zeros = np.zeros((3,1))\n",
    "B1 = np.array([[1/L1],\n",
    "              [0],\n",
    "              [0]])\n",
    "\n",
    "B2 = np.array([[1/L2],\n",
    "              [0],\n",
    "              [0]])\n",
    "\n",
    "B = np.block([[B1, zeros],\n",
    "             [zeros, B2]])"
   ]
  },
  {
   "cell_type": "code",
   "execution_count": null,
   "id": "3a52ffd1",
   "metadata": {},
   "outputs": [],
   "source": [
    "C1 = np.array([[1, 1, 1]])\n",
    "C2 = np.array([[1, 1, 1]])\n",
    "C = np.block([C1, C2])"
   ]
  },
  {
   "cell_type": "code",
   "execution_count": null,
   "id": "4b0c0f5a",
   "metadata": {},
   "outputs": [],
   "source": [
    "sys = control.ss(A, B, C, 0)"
   ]
  },
  {
   "cell_type": "markdown",
   "id": "ac0100f8",
   "metadata": {},
   "source": [
    "### Constant input"
   ]
  },
  {
   "cell_type": "code",
   "execution_count": null,
   "id": "96e12d52",
   "metadata": {},
   "outputs": [],
   "source": [
    "T, yout, xout_c = control.forced_response(sys, T=t, U=u, X0=x0, return_x=True, squeeze=True)"
   ]
  },
  {
   "cell_type": "markdown",
   "id": "65bc6364",
   "metadata": {},
   "source": [
    "### Sinus input"
   ]
  },
  {
   "cell_type": "code",
   "execution_count": null,
   "id": "d59b423a",
   "metadata": {},
   "outputs": [],
   "source": [
    "T, yout, xout_c_sin = control.forced_response(sys, T=t, U=u_sin, X0=x0, return_x=True, squeeze=True)"
   ]
  },
  {
   "cell_type": "code",
   "execution_count": null,
   "id": "52b35f61",
   "metadata": {},
   "outputs": [],
   "source": []
  },
  {
   "cell_type": "markdown",
   "id": "2fc8664d",
   "metadata": {},
   "source": [
    "## Calculating the discret case "
   ]
  },
  {
   "cell_type": "code",
   "execution_count": null,
   "id": "a9f602dd",
   "metadata": {},
   "outputs": [],
   "source": [
    "sys_d = sys.sample(ts)"
   ]
  },
  {
   "cell_type": "code",
   "execution_count": null,
   "id": "64fd1920",
   "metadata": {},
   "outputs": [],
   "source": [
    "A_d = scipy.linalg.expm(A*ts)"
   ]
  },
  {
   "cell_type": "code",
   "execution_count": null,
   "id": "a52af110",
   "metadata": {},
   "outputs": [],
   "source": [
    "sys_d.A == A_d # Check if discretization worked propertly"
   ]
  },
  {
   "cell_type": "markdown",
   "id": "fd9532b4",
   "metadata": {},
   "source": [
    "### Constant input"
   ]
  },
  {
   "cell_type": "code",
   "execution_count": null,
   "id": "73f1e53c",
   "metadata": {},
   "outputs": [],
   "source": [
    "T, yout, xout_d = control.forced_response(sys_d, T=t, U=u, X0=x0, return_x=True, squeeze=True)"
   ]
  },
  {
   "cell_type": "markdown",
   "id": "fa1aa066",
   "metadata": {},
   "source": [
    "### Sinus input"
   ]
  },
  {
   "cell_type": "code",
   "execution_count": null,
   "id": "0225807a",
   "metadata": {},
   "outputs": [],
   "source": [
    "T, yout, xout_d_sin = control.forced_response(sys_d, T=t, U=u_sin, X0=x0, return_x=True, squeeze=True)"
   ]
  },
  {
   "cell_type": "code",
   "execution_count": null,
   "id": "83d1a759",
   "metadata": {},
   "outputs": [],
   "source": []
  },
  {
   "cell_type": "markdown",
   "id": "3423350b",
   "metadata": {},
   "source": [
    "# Comparison"
   ]
  },
  {
   "cell_type": "code",
   "execution_count": null,
   "id": "c6233314",
   "metadata": {},
   "outputs": [],
   "source": [
    "xout_c[1] == xout_d[1], np.isclose(xout_c[1], xout_d[1])"
   ]
  },
  {
   "cell_type": "code",
   "execution_count": null,
   "id": "db093b48",
   "metadata": {},
   "outputs": [],
   "source": [
    "xout_c_sin[1] == xout_d_sin[1], np.isclose(xout_c_sin[1], xout_d_sin[1])"
   ]
  },
  {
   "cell_type": "code",
   "execution_count": null,
   "id": "6b9e57a7",
   "metadata": {},
   "outputs": [],
   "source": [
    "# Calculating Error"
   ]
  },
  {
   "cell_type": "code",
   "execution_count": null,
   "id": "d2bcdb9b",
   "metadata": {},
   "outputs": [],
   "source": [
    "diff_const = np.abs(xout_c[1] - xout_d[1])"
   ]
  },
  {
   "cell_type": "code",
   "execution_count": null,
   "id": "d6edd27d",
   "metadata": {},
   "outputs": [],
   "source": [
    "MSE_const = 1/num_samples * np.sum(diff_const**2) "
   ]
  },
  {
   "cell_type": "code",
   "execution_count": null,
   "id": "0f9e3b18",
   "metadata": {},
   "outputs": [],
   "source": [
    "diff_sin = xout_c_sin[1] - xout_d_sin[1]\n",
    "diff_sin_abs = np.abs(xout_c_sin[1] - xout_d_sin[1])"
   ]
  },
  {
   "cell_type": "code",
   "execution_count": null,
   "id": "7f4c949b",
   "metadata": {},
   "outputs": [],
   "source": [
    "MSE_sin = 1/num_samples * np.sum(diff_sin**2) "
   ]
  },
  {
   "cell_type": "code",
   "execution_count": null,
   "id": "eb0e7f9f",
   "metadata": {},
   "outputs": [],
   "source": [
    "fig, ax = plt.subplots(2,1, figsize=(15,10), sharex=True)\n",
    "ax[0].plot(t, u[0], label='u1')\n",
    "ax[0].plot(t, u[1], '--', label='u2')\n",
    "ax[0].plot(t, xout_c[1], label='vi1 - continous')\n",
    "ax[0].plot(t, xout_d[1],'--', label='vi1 - discret')\n",
    "ax[0].set_ylabel('Currents ($V$)')\n",
    "ax[0].grid(True)\n",
    "\n",
    "ax[1].plot(t, diff_const, label='Dif')\n",
    "ax[1].set_xlabel('Time (s)')\n",
    "ax[1].set_ylabel('Difference')\n",
    "ax[1].set_ylim(0,1)\n",
    "plt.legend()\n",
    "plt.grid()\n",
    "plt.show()"
   ]
  },
  {
   "cell_type": "markdown",
   "id": "c1b6d9b6",
   "metadata": {},
   "source": [
    "No diffrence between the continous and discret version of the system by constant inputsignal."
   ]
  },
  {
   "cell_type": "code",
   "execution_count": null,
   "id": "d0d4ab4c",
   "metadata": {},
   "outputs": [],
   "source": [
    "fig, ax = plt.subplots(2, 1, figsize=(15,10), sharex=True)\n",
    "ax[0].plot(t, v_sin1, label='u1')\n",
    "ax[0].plot(t, v_sin2, '--', label='u2')\n",
    "ax[0].plot(t, xout_c_sin[1], label='vi1 - continous')\n",
    "ax[0].plot(t, xout_d_sin[1],'--', label='vi1 - discret')\n",
    "ax[0].set_ylabel('Currents ($V$)')\n",
    "ax[0].grid(True)\n",
    "\n",
    "ax[1].plot(t, diff_sin, label='Dif')\n",
    "ax[1].plot(t, diff_sin_abs, '--', label='Dif_abs')\n",
    "ax[1].set_xlabel('Time (s)')\n",
    "ax[1].set_ylabel('Difference')\n",
    "ax[1].set_ylim(-10,10)\n",
    "plt.legend()\n",
    "plt.grid()\n",
    "plt.show()"
   ]
  },
  {
   "cell_type": "markdown",
   "id": "d97a2f07",
   "metadata": {},
   "source": [
    "A strong deviation can be observed at the start time, which then decays into a continuous cosine wave. The diffrence between the continuous and the discrete system can be attributed to the discretization. "
   ]
  },
  {
   "cell_type": "code",
   "execution_count": null,
   "id": "15964ae9",
   "metadata": {},
   "outputs": [],
   "source": [
    "MSE_const, MSE_sin"
   ]
  },
  {
   "cell_type": "code",
   "execution_count": null,
   "id": "51b4faf3",
   "metadata": {},
   "outputs": [],
   "source": []
  },
  {
   "cell_type": "code",
   "execution_count": null,
   "id": "71b6370c",
   "metadata": {},
   "outputs": [],
   "source": []
  }
 ],
 "metadata": {
  "kernelspec": {
   "display_name": "Python 3 (ipykernel)",
   "language": "python",
   "name": "python3"
  },
  "language_info": {
   "codemirror_mode": {
    "name": "ipython",
    "version": 3
   },
   "file_extension": ".py",
   "mimetype": "text/x-python",
   "name": "python",
   "nbconvert_exporter": "python",
   "pygments_lexer": "ipython3",
   "version": "3.9.4"
  }
 },
 "nbformat": 4,
 "nbformat_minor": 5
}
