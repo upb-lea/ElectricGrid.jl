{
 "cells": [
  {
   "cell_type": "code",
   "execution_count": null,
   "id": "006daf28",
   "metadata": {},
   "outputs": [],
   "source": [
    "from scipy.integrate import ode\n",
    "from scipy.integrate import odeint\n",
    "import numpy as np\n",
    "import matplotlib.pyplot as plt"
   ]
  },
  {
   "cell_type": "code",
   "execution_count": null,
   "id": "d6ff3372",
   "metadata": {},
   "outputs": [],
   "source": [
    "#def parameters\n",
    "\n",
    "ts = 1e-4\n",
    "t_end = 0.005\n",
    "steps = int(1 / ts)\n",
    "f0 = 50\n",
    "V_eff = 230 * np.sqrt(2)\n",
    "\n",
    "R = 0.4\n",
    "L = 2.3e-3\n",
    "C = 10e-6\n",
    "LT = 2.3e-3\n",
    "RLoad = 14\n",
    "\n",
    "t = np.linspace(0, t_end, steps)\n",
    "\n",
    "num_episodes = 1  # number of simulation episodes"
   ]
  },
  {
   "cell_type": "code",
   "execution_count": null,
   "id": "e6460e83",
   "metadata": {},
   "outputs": [],
   "source": [
    "#def varaibles\n",
    "\n",
    "R1 = R\n",
    "L1 = L\n",
    "C1 = C\n",
    "R2 = R\n",
    "L2 = L\n",
    "C2 = C\n",
    "LT1 = LT\n",
    "LT2 = LT\n",
    "RT1 = R\n",
    "RT2 = R"
   ]
  },
  {
   "cell_type": "code",
   "execution_count": null,
   "id": "42951ddd",
   "metadata": {},
   "outputs": [],
   "source": [
    "#def ode of the model\n",
    "\n",
    "def env_model_ode(t, x):  # , arg):\n",
    "\n",
    "    # y = array([i1, v1, iT1, i2, v2, iT2])\n",
    "    i1 = x[0]\n",
    "    v1 = x[1]\n",
    "    iT1 = x[2]\n",
    "    i2 = x[3]\n",
    "    v2 = x[4]\n",
    "    iT2 = x[5]\n",
    "\n",
    "    # vi1 = V_eff * np.sin(2 * np.pi * f0 * t)\n",
    "    # vi2 = V_eff * np.sin(2 * np.pi * f0 * t + 0.5)\n",
    "    vi1 = 230\n",
    "    vi2 = 230\n",
    "\n",
    "    iLoad = iT1 + iT2\n",
    "\n",
    "    di1 = (vi1 - v1) / L1 - R1 / L1 * i1\n",
    "    dv1 = (i1 - iT1) / C1\n",
    "    diT1 = v1 / LT1 - RT1 / LT1 * iT1 - RLoad / LT1 * iLoad\n",
    "\n",
    "    di2 = (vi2 - v2) / L2 - R2 / L2 * i2\n",
    "    dv2 = (i2 - iT2) / C2\n",
    "    diT2 = v2 / LT2 - RT2 / LT2 * iT2 - RLoad / LT2 * iLoad\n",
    "\n",
    "    return np.array([di1, dv1, diT1, di2, dv2, diT2])"
   ]
  },
  {
   "cell_type": "markdown",
   "id": "bbf237e7",
   "metadata": {},
   "source": [
    "# ODE"
   ]
  },
  {
   "cell_type": "code",
   "execution_count": null,
   "id": "639e49ab",
   "metadata": {},
   "outputs": [],
   "source": [
    "i10 = 0\n",
    "v10 = 0\n",
    "iT10 = 0\n",
    "i20 = 0\n",
    "v20 = 0\n",
    "iT20 = 0\n",
    "t0 = 0\n",
    "\n",
    "x0 = np.array([i10, v10, iT10, i20, v20, iT20])\n",
    "\n",
    "f_list = []\n",
    "u_list = []\n",
    "\n",
    "ode_solver = ode(env_model_ode)\n",
    "\n",
    "ode_solver.set_initial_value(x0, t0)\n",
    "\n",
    "count = 0\n",
    "\n",
    "result = np.zeros([int(steps) + 1, 6])\n",
    "# theta = np.zeros([int(steps)+1,3])\n",
    "# freq = np.zeros([int(steps)+1,3])\n",
    "\n",
    "while ode_solver.successful() and ode_solver.t < steps * ts:\n",
    "\n",
    "    if ode_solver.t > (steps * ts) - 1 * ts:\n",
    "        asd = 1\n",
    "    result[count] = ode_solver.integrate(ode_solver.t + ts)\n",
    "\n",
    "    count += 1\n",
    "\n",
    "print(result)\n",
    "\n",
    "plt.plot(t, result[:steps, 1], label='v1')\n",
    "# plt.plot(t,result[:steps,0], label = 'i1')\n",
    "plt.xlabel(r'$t\\,/\\,\\mathrm{s}$')\n",
    "plt.ylabel('$v_{\\mathrm{1}}\\,/\\,\\mathrm{V}$')\n",
    "# plt.title('{}'.format())\n",
    "plt.legend()\n",
    "plt.grid()\n",
    "plt.xlim([0, 0.00005])\n",
    "# plt.ylim([49.25,50.1])\n",
    "plt.show()"
   ]
  },
  {
   "cell_type": "markdown",
   "id": "c4727d83",
   "metadata": {},
   "source": [
    "# ODEINT"
   ]
  },
  {
   "cell_type": "code",
   "execution_count": null,
   "id": "66a6ddc6",
   "metadata": {},
   "outputs": [],
   "source": [
    "i10 = 0\n",
    "v10 = 0\n",
    "iT10 = 0\n",
    "i20 = 0\n",
    "v20 = 0\n",
    "iT20 = 0\n",
    "t0 = 0\n",
    "\n",
    "# x0 = np.array([i10, v10, iT10, i20, v20, iT20])\n",
    "x0 = [i10, v10, iT10, i20, v20, iT20]\n",
    "\n",
    "print(type(x0[0]))\n",
    "\n",
    "f_list = []\n",
    "u_list = []\n",
    "\n",
    "result = odeint(env_model_ode, x0, t, tfirst=True)\n",
    "# ys = np.array(ys).flatten()\n",
    "\n",
    "plt.plot(t, result[:steps, 1], label='v1')\n",
    "# plt.plot(t,result[:steps,0], label = 'i1')\n",
    "plt.xlabel(r'$t\\,/\\,\\mathrm{s}$')\n",
    "plt.ylabel('$v_{\\mathrm{1}}\\,/\\,\\mathrm{V}$')\n",
    "# plt.title('{}'.format())\n",
    "plt.legend()\n",
    "plt.grid()\n",
    "plt.xlim([0, 0.005])\n",
    "# plt.ylim([49.25,50.1])\n",
    "plt.show()"
   ]
  },
  {
   "cell_type": "code",
   "execution_count": null,
   "id": "ff8a3325",
   "metadata": {},
   "outputs": [],
   "source": []
  }
 ],
 "metadata": {
  "kernelspec": {
   "display_name": "Python 3 (ipykernel)",
   "language": "python",
   "name": "python3"
  },
  "language_info": {
   "codemirror_mode": {
    "name": "ipython",
    "version": 3
   },
   "file_extension": ".py",
   "mimetype": "text/x-python",
   "name": "python",
   "nbconvert_exporter": "python",
   "pygments_lexer": "ipython3",
   "version": "3.9.4"
  }
 },
 "nbformat": 4,
 "nbformat_minor": 5
}
