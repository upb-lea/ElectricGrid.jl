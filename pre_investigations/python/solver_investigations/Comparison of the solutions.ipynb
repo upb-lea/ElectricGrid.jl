{
 "cells": [
  {
   "cell_type": "markdown",
   "id": "7d94dd75",
   "metadata": {},
   "source": [
    "# Comparison of different solutions"
   ]
  },
  {
   "cell_type": "markdown",
   "id": "8e14d6ea",
   "metadata": {},
   "source": [
    "This notebook is intended to compare different toolboxes for solving an island network model. \n",
    "![The structure of the model](images/MG_2_node_Singleline.jpg)\n",
    "\n",
    "The ODEs result from the problem shown here. The exact derivation of the equations can be found in the PDF-file."
   ]
  },
  {
   "cell_type": "markdown",
   "id": "32df96f4",
   "metadata": {},
   "source": [
    "## GEKKO"
   ]
  },
  {
   "cell_type": "markdown",
   "id": "c5cf7e93",
   "metadata": {},
   "source": [
    "GEKKO is optimization software for mixed-integer and differential algebraic equations. It is coupled with large-scale solvers for linear, quadratic, nonlinear, and mixed integer programming (LP, QP, NLP, MILP, MINLP). Modes of operation include data reconciliation, real-time optimization, dynamic simulation, and nonlinear predictive control. (Source:https://gekko.readthedocs.io/en/latest/overview.html)"
   ]
  },
  {
   "cell_type": "code",
   "execution_count": 1,
   "id": "84d79437",
   "metadata": {},
   "outputs": [],
   "source": [
    "from gekko import GEKKO\n",
    "import numpy as np\n",
    "import matplotlib.pyplot as plt"
   ]
  },
  {
   "cell_type": "code",
   "execution_count": 2,
   "id": "0d02f84d",
   "metadata": {},
   "outputs": [],
   "source": [
    "# define time vector\n",
    "ts = 1e-4\n",
    "t_end = 0.005\n",
    "steps = int(1/ts)\n",
    "num_samples = int(steps*t_end) # Number of samples in given time\n",
    "t = np.linspace(0, t_end, num_samples)\n",
    "\n",
    "# define values of the parameter\n",
    "R = 0.4\n",
    "L = 2.3e-3\n",
    "C = 10e-6\n",
    "LT = 2.3e-3\n",
    "R_load = 14\n",
    "vi1 = 230\n",
    "vi2 = 230"
   ]
  },
  {
   "cell_type": "code",
   "execution_count": null,
   "id": "2a523c38",
   "metadata": {},
   "outputs": [],
   "source": [
    "#   Initialize Model empty model as m\n",
    "m = GEKKO(remote=False)\n",
    "\n",
    "#Input\n",
    "vi1 = m.Param(value=vi1)\n",
    "vi2 = m.Param(value=vi2)\n",
    "\n",
    "# Mdoel params\n",
    "R1 = m.Param(value=R)\n",
    "L1 = m.Param(value=L)\n",
    "C1 = m.Param(value=C)\n",
    "RT1 = m.Param(value=R)\n",
    "LT1 = m.Param(value=LT)\n",
    "\n",
    "R2 = m.Param(value=R)\n",
    "L2 = m.Param(value=L)\n",
    "C2 = m.Param(value=C)\n",
    "RT2 = m.Param(value=R)\n",
    "LT2 = m.Param(value=LT)\n",
    "\n",
    "RLoad = m.Param(value=R_load)\n",
    "# iLoad = m.Var(value=0) # Commend if you want to \"New version\"\n",
    "\n",
    "v1 = m.Var(value=0)\n",
    "i1 = m.Var(value=0)\n",
    "v2 = m.Var(value=0)\n",
    "i2 = m.Var(value=0)\n",
    "iT1 = m.Var(value=0)\n",
    "iT2 = m.Var(value=0)"
   ]
  },
  {
   "cell_type": "code",
   "execution_count": null,
   "id": "4f5dc611",
   "metadata": {},
   "outputs": [],
   "source": [
    "# define equations\n",
    "\n",
    "# DGLs node1\n",
    "m.Equation(i1.dt() == (vi1 - v1)/L1 - R1/L1 * i1)\n",
    "m.Equation(v1.dt() == (i1 - iT1)/C1)\n",
    "m.Equation(iT1.dt() == v1 / LT1 - (RT1 + RLoad) / LT1 * iT1 - RLoad / LT1 * iT2)\n",
    "\n",
    "# DGLs node2\n",
    "m.Equation(i2.dt() == (vi2 - v2)/L2 - R2/L2 * i2)\n",
    "m.Equation(v2.dt() == (i2 - iT2)/C2)\n",
    "m.Equation(iT2.dt() == v2 / LT2 - (RT2 + RLoad) / LT2 * iT2 - RLoad / LT2 * iT1)\n",
    "\n",
    "m.options.IMODE = 4 # define type of model solution\n",
    "m.time = t # time points"
   ]
  },
  {
   "cell_type": "code",
   "execution_count": null,
   "id": "53fb20e8",
   "metadata": {},
   "outputs": [],
   "source": [
    "m.solve()"
   ]
  },
  {
   "cell_type": "code",
   "execution_count": null,
   "id": "0f00df81",
   "metadata": {},
   "outputs": [],
   "source": [
    "plt.plot(m.time, v1, 'r', label='V1')\n",
    "plt.plot(m.time, v2, 'b', label='V2')\n",
    "plt.xlabel('Time (s)')\n",
    "plt.ylabel('Voltage (V)')\n",
    "plt.grid()\n",
    "plt.xlim([0, 0.005])\n",
    "#plt.ylim(225, 235)\n",
    "plt.legend()\n",
    "plt.show()"
   ]
  },
  {
   "cell_type": "code",
   "execution_count": null,
   "id": "1a00244c",
   "metadata": {},
   "outputs": [],
   "source": [
    "%timeit m.solve(disp=False)"
   ]
  },
  {
   "cell_type": "code",
   "execution_count": null,
   "id": "5558b011",
   "metadata": {},
   "outputs": [],
   "source": []
  },
  {
   "cell_type": "markdown",
   "id": "6765c905",
   "metadata": {},
   "source": [
    "## Scipy ODE and ODEINT"
   ]
  },
  {
   "cell_type": "code",
   "execution_count": 3,
   "id": "6fae5607",
   "metadata": {},
   "outputs": [],
   "source": [
    "from scipy.integrate import ode\n",
    "from scipy.integrate import odeint"
   ]
  },
  {
   "cell_type": "code",
   "execution_count": 4,
   "id": "00c97896",
   "metadata": {},
   "outputs": [],
   "source": [
    "t = np.linspace(0, t_end, steps)"
   ]
  },
  {
   "cell_type": "code",
   "execution_count": 11,
   "id": "99b3ef06",
   "metadata": {},
   "outputs": [
    {
     "data": {
      "text/plain": [
       "0.005"
      ]
     },
     "execution_count": 11,
     "metadata": {},
     "output_type": "execute_result"
    }
   ],
   "source": [
    "t[-1]"
   ]
  },
  {
   "cell_type": "code",
   "execution_count": 5,
   "id": "33348159",
   "metadata": {},
   "outputs": [],
   "source": [
    "#def varaibles\n",
    "\n",
    "R1 = R\n",
    "L1 = L\n",
    "C1 = C\n",
    "R2 = R\n",
    "L2 = L\n",
    "C2 = C\n",
    "LT1 = LT\n",
    "LT2 = LT\n",
    "RT1 = R\n",
    "RT2 = R"
   ]
  },
  {
   "cell_type": "code",
   "execution_count": 6,
   "id": "e0295e8b",
   "metadata": {},
   "outputs": [],
   "source": [
    "#def ode of the model\n",
    "\n",
    "def env_model_ode(t, x):  # , arg):\n",
    "\n",
    "    # y = array([i1, v1, iT1, i2, v2, iT2])\n",
    "    i1 = x[0]\n",
    "    v1 = x[1]\n",
    "    iT1 = x[2]\n",
    "    i2 = x[3]\n",
    "    v2 = x[4]\n",
    "    iT2 = x[5]\n",
    "\n",
    "    # vi1 = V_eff * np.sin(2 * np.pi * f0 * t)\n",
    "    # vi2 = V_eff * np.sin(2 * np.pi * f0 * t + 0.5)\n",
    "    vi1 = 230\n",
    "    vi2 = 230\n",
    "\n",
    "#     iLoad = iT1 + iT2\n",
    "\n",
    "    di1 = (vi1 - v1) / L1 - R1 / L1 * i1\n",
    "    dv1 = (i1 - iT1) / C1\n",
    "    diT1 = v1 / LT1 - (RT1 + R_load) / LT1 * iT1 - R_load / LT1 * iT2\n",
    "\n",
    "    di2 = (vi2 - v2) / L2 - R2 / L2 * i2\n",
    "    dv2 = (i2 - iT2) / C2\n",
    "    diT2 = v2 / LT2 - (RT2 + R_load) / LT2 * iT2 - R_load / LT2 * iT1\n",
    "\n",
    "    return np.array([di1, dv1, diT1, di2, dv2, diT2])"
   ]
  },
  {
   "cell_type": "markdown",
   "id": "f823f333",
   "metadata": {},
   "source": [
    "### ODE"
   ]
  },
  {
   "cell_type": "code",
   "execution_count": 22,
   "id": "20797104",
   "metadata": {},
   "outputs": [],
   "source": [
    "# define initial values\n",
    "i10 = 0\n",
    "v10 = 0\n",
    "iT10 = 0\n",
    "i20 = 0\n",
    "v20 = 0\n",
    "iT20 = 0\n",
    "t0 = 0\n",
    "\n",
    "x0 = np.array([i10, v10, iT10, i20, v20, iT20])\n",
    "\n",
    "f_list = []\n",
    "u_list = []\n",
    "\n",
    "ode_solver = ode(env_model_ode)\n",
    "\n",
    "ode_solver.set_initial_value(x0, t0)\n",
    "\n",
    "count = 0\n",
    "\n",
    "result = np.zeros([int(steps) + 1, 6])\n",
    "# theta = np.zeros([int(steps)+1,3])\n",
    "# freq = np.zeros([int(steps)+1,3])\n",
    "\n",
    "while ode_solver.successful() and ode_solver.t < steps * ts:\n",
    "\n",
    "    if ode_solver.t > (steps * ts) - 1 * ts:\n",
    "        asd = 1\n",
    "    result[count] = ode_solver.integrate(ode_solver.t + ts)\n",
    "\n",
    "    count += 1"
   ]
  },
  {
   "cell_type": "code",
   "execution_count": 23,
   "id": "bc8c569c",
   "metadata": {},
   "outputs": [
    {
     "data": {
      "image/png": "[encoded data removed]",
      "text/plain": [
       "<Figure size 432x288 with 1 Axes>"
      ]
     },
     "metadata": {
      "needs_background": "light"
     },
     "output_type": "display_data"
    }
   ],
   "source": [
    "plt.plot(t, result[:steps, 1], label='v1')\n",
    "# plt.plot(t,result[:steps,0], label = 'i1')\n",
    "plt.xlabel(r'$t\\,/\\,\\mathrm{s}$')\n",
    "plt.ylabel('$v_{\\mathrm{1}}\\,/\\,\\mathrm{V}$')\n",
    "# plt.title('{}'.format())\n",
    "plt.legend()\n",
    "plt.grid()\n",
    "# plt.xlim([0, 0.00005])\n",
    "# plt.ylim([49.25,50.1])\n",
    "plt.show()"
   ]
  },
  {
   "cell_type": "markdown",
   "id": "5c300c49",
   "metadata": {},
   "source": [
    "### ODEINT"
   ]
  },
  {
   "cell_type": "code",
   "execution_count": 18,
   "id": "db6cf93b",
   "metadata": {},
   "outputs": [],
   "source": [
    "i10 = 0\n",
    "v10 = 0\n",
    "iT10 = 0\n",
    "i20 = 0\n",
    "v20 = 0\n",
    "iT20 = 0\n",
    "t0 = 0\n",
    "\n",
    "# x0 = np.array([i10, v10, iT10, i20, v20, iT20])\n",
    "x0 = [i10, v10, iT10, i20, v20, iT20]\n",
    "\n",
    "f_list = []\n",
    "u_list = []\n",
    "\n",
    "result = odeint(env_model_ode, x0, t, tfirst=True)\n",
    "# ys = np.array(ys).flatten()"
   ]
  },
  {
   "cell_type": "code",
   "execution_count": 19,
   "id": "c67a2c7f",
   "metadata": {},
   "outputs": [
    {
     "data": {
      "image/png": "[encoded data removed]",
      "text/plain": [
       "<Figure size 432x288 with 1 Axes>"
      ]
     },
     "metadata": {
      "needs_background": "light"
     },
     "output_type": "display_data"
    }
   ],
   "source": [
    "plt.plot(t, result[:steps, 1], label='v1')\n",
    "# plt.plot(t,result[:steps,0], label = 'i1')\n",
    "plt.xlabel(r'$t\\,/\\,\\mathrm{s}$')\n",
    "plt.ylabel('$v_{\\mathrm{1}}\\,/\\,\\mathrm{V}$')\n",
    "# plt.title('{}'.format())\n",
    "plt.legend()\n",
    "plt.grid()\n",
    "# plt.xlim([0, 0.005])\n",
    "# plt.ylim([49.25,50.1])\n",
    "plt.show()"
   ]
  },
  {
   "cell_type": "markdown",
   "id": "2169a860",
   "metadata": {},
   "source": [
    "## Python control"
   ]
  },
  {
   "cell_type": "code",
   "execution_count": 20,
   "id": "ceb96f11",
   "metadata": {},
   "outputs": [],
   "source": [
    "import scipy\n",
    "import control\n",
    "import copy"
   ]
  },
  {
   "cell_type": "code",
   "execution_count": null,
   "id": "42eab42b",
   "metadata": {},
   "outputs": [],
   "source": []
  }
 ],
 "metadata": {
  "kernelspec": {
   "display_name": "Python 3 (ipykernel)",
   "language": "python",
   "name": "python3"
  },
  "language_info": {
   "codemirror_mode": {
    "name": "ipython",
    "version": 3
   },
   "file_extension": ".py",
   "mimetype": "text/x-python",
   "name": "python",
   "nbconvert_exporter": "python",
   "pygments_lexer": "ipython3",
   "version": "3.9.4"
  }
 },
 "nbformat": 4,
 "nbformat_minor": 5
}
