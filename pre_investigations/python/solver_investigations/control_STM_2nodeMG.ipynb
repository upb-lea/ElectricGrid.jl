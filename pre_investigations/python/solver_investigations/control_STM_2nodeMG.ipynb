{
 "cells": [
  {
   "cell_type": "code",
   "execution_count": null,
   "id": "001e102a",
   "metadata": {},
   "outputs": [],
   "source": [
    "from scipy.integrate import ode\n",
    "from scipy.integrate import odeint\n",
    "import numpy as np\n",
    "import matplotlib.pyplot as plt\n",
    "import control"
   ]
  },
  {
   "cell_type": "code",
   "execution_count": null,
   "id": "44532d88",
   "metadata": {},
   "outputs": [],
   "source": [
    "#def parameters\n",
    "\n",
    "ts = 1e-4\n",
    "t_end = 0.005\n",
    "steps = int(1 / ts)\n",
    "f0 = 50\n",
    "V_eff = 230 * np.sqrt(2)\n",
    "\n",
    "vi1 = 230\n",
    "vi2 = 230\n",
    "\n",
    "R = 0.4\n",
    "L = 2.3e-3\n",
    "C = 10e-6\n",
    "LT = 2.3e-3\n",
    "RLoad = 14\n",
    "\n",
    "t = np.linspace(0, t_end, steps)\n",
    "\n",
    "num_episodes = 1  # number of simulation episodes"
   ]
  },
  {
   "cell_type": "code",
   "execution_count": null,
   "id": "5f451f4f",
   "metadata": {},
   "outputs": [],
   "source": [
    "#def varaibles\n",
    "\n",
    "R1 = R\n",
    "L1 = L\n",
    "C1 = C\n",
    "R2 = R\n",
    "L2 = L\n",
    "C2 = C\n",
    "LT1 = LT\n",
    "LT2 = LT\n",
    "RT1 = R\n",
    "RT2 = R"
   ]
  },
  {
   "cell_type": "code",
   "execution_count": null,
   "id": "1d63ebaa",
   "metadata": {},
   "outputs": [],
   "source": [
    "def env_model_ode(t, x):  # , arg):\n",
    "\n",
    "    # y = array([i1, v1, iT1, i2, v2, iT2])\n",
    "    i1a = x[0]\n",
    "    i1b = x[1]\n",
    "    i1c = x[2]\n",
    "    v1a = x[3]\n",
    "    v1b = x[4]\n",
    "    v1c = x[5]\n",
    "    iT1a = x[6]\n",
    "    iT1b = x[7]\n",
    "    iT1c = x[8]\n",
    "    i2a = x[9]\n",
    "    i2b = x[10]\n",
    "    i2c = x[11]\n",
    "    v2a = x[12]\n",
    "    v2b = x[13]\n",
    "    v2c = x[14]\n",
    "    iT2a = x[15]\n",
    "    iT2b = x[16]\n",
    "    iT2c = x[17]\n",
    "\n",
    "    # vi1 = V_eff * np.sin(2 * np.pi * f0 * t)\n",
    "    # vi2 = V_eff * np.sin(2 * np.pi * f0 * t + 0.5)\n",
    "    vi1 = 230\n",
    "    vi2 = 230\n",
    "\n",
    "    iLoad = iT1 + iT2\n",
    "\n",
    "    di1a = (vi1 - v1) / L1 - R1 / L1 * i1\n",
    "    dv1 = (i1 - iT1) / C1\n",
    "    diT1 = v1 / LT1 - RT1 / LT1 * iT1 - RLoad / LT1 * iLoad\n",
    "\n",
    "    di2 = (vi2 - v2) / L2 - R2 / L2 * i2\n",
    "    dv2 = (i2 - iT2) / C2\n",
    "    diT2 = v2 / LT2 - RT2 / LT2 * iT2 - RLoad / LT2 * iLoad\n",
    "    \n",
    "    dx = np.array([di1a, di1b, di1c,\n",
    "                   dv1a, dv1b, dv1c,\n",
    "                   diT1a, diT1b, diT1c,\n",
    "                   di2a, di2b, di2c,\n",
    "                   dv2a, dv2b, dv2c,\n",
    "                   diT2a, diT2b, diT2c])\n",
    "    \n",
    "    return dx\n",
    "\n",
    "\n"
   ]
  },
  {
   "cell_type": "code",
   "execution_count": null,
   "id": "7f0dcfca",
   "metadata": {},
   "outputs": [],
   "source": [
    "A1 = np.array([[-R1/L1, -1/L1, 0],\n",
    "               [1/C1, 0, -1/C1],\n",
    "               [0, 1/L1, -R1/L1]])\n",
    "\n",
    "A2 = np.array([[-R2/L2, -1/L2, 0],\n",
    "               [1/C2, 0, -1/C2],\n",
    "               [0, 1/L2, -R2/L2]])\n",
    "\n",
    "AT1 = np.array([[0, 0, 0],\n",
    "                [0, 0, 0],\n",
    "                [0, 0, -RT1/LT1]])\n",
    "\n",
    "AT2 = np.array([[0, 0, 0],\n",
    "                [0, 0, 0],\n",
    "                [0, 0, -RT2/LT2]])"
   ]
  },
  {
   "cell_type": "code",
   "execution_count": null,
   "id": "249b6f85",
   "metadata": {},
   "outputs": [],
   "source": [
    "A = np.block([[A1, AT1],\n",
    "              [AT2, A2]])"
   ]
  },
  {
   "cell_type": "code",
   "execution_count": null,
   "id": "c8e73cf1",
   "metadata": {},
   "outputs": [],
   "source": [
    "A"
   ]
  },
  {
   "cell_type": "code",
   "execution_count": null,
   "id": "f440b6af",
   "metadata": {},
   "outputs": [],
   "source": [
    "# x = np.array([i1, v1, iT1, i2, v2, iT2])\n"
   ]
  },
  {
   "cell_type": "code",
   "execution_count": null,
   "id": "4094149a",
   "metadata": {},
   "outputs": [],
   "source": [
    "B1 = np.array([[1/L1],\n",
    "              [0],\n",
    "              [0]])\n",
    "\n",
    "B2 = np.array([[1/L2],\n",
    "              [0],\n",
    "              [0]])\n",
    "\n",
    "B = np.block([[B1, zeros],\n",
    "             [zeros, B2]])"
   ]
  },
  {
   "cell_type": "code",
   "execution_count": null,
   "id": "73510039",
   "metadata": {},
   "outputs": [],
   "source": [
    "B"
   ]
  },
  {
   "cell_type": "code",
   "execution_count": null,
   "id": "d0a1c724",
   "metadata": {},
   "outputs": [],
   "source": [
    "zeros = np.zeros((3,1))"
   ]
  },
  {
   "cell_type": "code",
   "execution_count": null,
   "id": "b7086e9e",
   "metadata": {},
   "outputs": [],
   "source": [
    "C1 = np.array([[1, 1, 1]])\n",
    "C2 = np.array([[1, 1, 1]])\n",
    "C = np.block([C1, C2])"
   ]
  },
  {
   "cell_type": "code",
   "execution_count": null,
   "id": "d166ac7b",
   "metadata": {},
   "outputs": [],
   "source": [
    "C"
   ]
  },
  {
   "cell_type": "code",
   "execution_count": null,
   "id": "937244b2",
   "metadata": {},
   "outputs": [],
   "source": [
    "sys = control.ss(A, B, C, 0)"
   ]
  },
  {
   "cell_type": "code",
   "execution_count": null,
   "id": "204578ba",
   "metadata": {},
   "outputs": [],
   "source": [
    "control.step_info(sys)"
   ]
  },
  {
   "cell_type": "code",
   "execution_count": null,
   "id": "7c1e0b9d",
   "metadata": {},
   "outputs": [],
   "source": [
    "i10 = 0\n",
    "v10 = 0\n",
    "iT10 = 0\n",
    "i20 = 0\n",
    "v20 = 0\n",
    "iT20 = 0\n",
    "t0 = 0\n",
    "\n",
    "x0 = np.array([i10, v10, iT10, i20, v20, iT20])"
   ]
  },
  {
   "cell_type": "code",
   "execution_count": null,
   "id": "10c9f450",
   "metadata": {},
   "outputs": [],
   "source": [
    "u = np.array([vi1, vi2])[:,None] * np.ones((2,10000))"
   ]
  },
  {
   "cell_type": "code",
   "execution_count": null,
   "id": "86e38e4a",
   "metadata": {},
   "outputs": [],
   "source": [
    "u"
   ]
  },
  {
   "cell_type": "code",
   "execution_count": null,
   "id": "2e3577f7",
   "metadata": {},
   "outputs": [],
   "source": [
    "T, yout = control.forced_response(sys, T=t, U=u, X0=x0)"
   ]
  },
  {
   "cell_type": "code",
   "execution_count": null,
   "id": "7eb71781",
   "metadata": {},
   "outputs": [],
   "source": [
    "plt.plot(t, yout[0,:], label='v1')\n",
    "# plt.plot(t,result[:steps,0], label = 'i1')\n",
    "plt.xlabel(r'$t\\,/\\,\\mathrm{s}$')\n",
    "plt.ylabel('$v_{\\mathrm{1}}\\,/\\,\\mathrm{V}$')\n",
    "# plt.title('{}'.format())\n",
    "plt.legend()\n",
    "plt.grid()\n",
    "# plt.xlim([0, 0.00005])\n",
    "# plt.ylim([49.25,50.1])\n",
    "plt.show()"
   ]
  },
  {
   "cell_type": "code",
   "execution_count": null,
   "id": "c7475c91",
   "metadata": {},
   "outputs": [],
   "source": []
  }
 ],
 "metadata": {
  "kernelspec": {
   "display_name": "Python 3 (ipykernel)",
   "language": "python",
   "name": "python3"
  },
  "language_info": {
   "codemirror_mode": {
    "name": "ipython",
    "version": 3
   },
   "file_extension": ".py",
   "mimetype": "text/x-python",
   "name": "python",
   "nbconvert_exporter": "python",
   "pygments_lexer": "ipython3",
   "version": "3.9.4"
  }
 },
 "nbformat": 4,
 "nbformat_minor": 5
}
