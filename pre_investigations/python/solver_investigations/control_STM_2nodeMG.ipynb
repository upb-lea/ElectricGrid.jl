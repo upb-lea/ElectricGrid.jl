{
 "cells": [
  {
   "cell_type": "code",
   "execution_count": null,
   "id": "001e102a",
   "metadata": {},
   "outputs": [],
   "source": [
    "from scipy.integrate import ode\n",
    "from scipy.integrate import odeint\n",
    "import scipy\n",
    "import numpy as np\n",
    "import matplotlib.pyplot as plt\n",
    "import control\n",
    "import copy"
   ]
  },
  {
   "cell_type": "code",
   "execution_count": null,
   "id": "44532d88",
   "metadata": {},
   "outputs": [],
   "source": [
    "# define time vector\n",
    "ts = 1e-4\n",
    "t_end = 0.005\n",
    "steps = int(1/ts)\n",
    "t = np.arange(0, t_end+ts, ts)\n",
    "num_samples = len(t)\n",
    "\n",
    "f0 = 50\n",
    "V_eff = 230 * np.sqrt(2)\n",
    "\n",
    "vi1 = 230\n",
    "vi2 = 230\n",
    "\n",
    "R = 0.4\n",
    "L = 2.3e-3\n",
    "C = 10e-6\n",
    "LT = 2.3e-3\n",
    "RLoad = 14\n",
    "\n",
    "num_episodes = 1  # number of simulation episodes"
   ]
  },
  {
   "cell_type": "code",
   "execution_count": null,
   "id": "5f451f4f",
   "metadata": {},
   "outputs": [],
   "source": [
    "#def varaibles\n",
    "\n",
    "R1 = R\n",
    "L1 = L\n",
    "C1 = C\n",
    "LT1 = LT\n",
    "R2 = R\n",
    "L2 = L\n",
    "C2 = C\n",
    "LT2 = LT\n",
    "RT1 = R\n",
    "RT2 = R"
   ]
  },
  {
   "cell_type": "code",
   "execution_count": null,
   "id": "7f0dcfca",
   "metadata": {},
   "outputs": [],
   "source": [
    "A1 = np.array([[-R1/L1, -1/L1, 0],\n",
    "               [1/C1, 0, -1/C1],\n",
    "               [0, 1/LT1, -RLoad/LT1 - RT1/LT1]])\n",
    "\n",
    "A2 = np.array([[-R2/L2, -1/L2, 0],\n",
    "               [1/C2, 0, -1/C2],\n",
    "               [0, 1/LT2, -RLoad/LT2 - RT2/LT2]])\n",
    "\n",
    "AT1 = np.array([[0, 0, 0],\n",
    "                [0, 0, 0],\n",
    "                [0, 0, -RLoad/LT1]])\n",
    "\n",
    "AT2 = np.array([[0, 0, 0],\n",
    "                [0, 0, 0],\n",
    "                [0, 0, -RLoad/LT2]])"
   ]
  },
  {
   "cell_type": "code",
   "execution_count": null,
   "id": "249b6f85",
   "metadata": {},
   "outputs": [],
   "source": [
    "A = np.block([[A1, AT1],\n",
    "              [AT2, A2]])"
   ]
  },
  {
   "cell_type": "code",
   "execution_count": null,
   "id": "f440b6af",
   "metadata": {},
   "outputs": [],
   "source": [
    "# x = np.array([i1, v1, iT1, i2, v2, iT2])\n",
    "zeros = np.zeros((3,1))"
   ]
  },
  {
   "cell_type": "code",
   "execution_count": null,
   "id": "4094149a",
   "metadata": {},
   "outputs": [],
   "source": [
    "B1 = np.array([[1/L1],\n",
    "              [0],\n",
    "              [0]])\n",
    "\n",
    "B2 = np.array([[1/L2],\n",
    "              [0],\n",
    "              [0]])\n",
    "\n",
    "B = np.block([[B1, zeros],\n",
    "             [zeros, B2]])"
   ]
  },
  {
   "cell_type": "code",
   "execution_count": null,
   "id": "b7086e9e",
   "metadata": {},
   "outputs": [],
   "source": [
    "C1 = np.array([[1, 1, 1]])\n",
    "C2 = np.array([[1, 1, 1]])\n",
    "C = np.block([C1, C2])"
   ]
  },
  {
   "cell_type": "code",
   "execution_count": null,
   "id": "10c9f450",
   "metadata": {},
   "outputs": [],
   "source": [
    "u = np.array([vi1, vi2])[:,None] * np.ones((2,len(t)))"
   ]
  },
  {
   "cell_type": "code",
   "execution_count": null,
   "id": "7c1e0b9d",
   "metadata": {},
   "outputs": [],
   "source": [
    "i10 = 0\n",
    "v10 = 0\n",
    "iT10 = 0\n",
    "i20 = 0\n",
    "v20 = 0\n",
    "iT20 = 0\n",
    "t0 = 0\n",
    "\n",
    "x0 = np.array([i10, v10, iT10, i20, v20, iT20])"
   ]
  },
  {
   "cell_type": "markdown",
   "id": "fb5d5ade",
   "metadata": {},
   "source": [
    "# Continous solution"
   ]
  },
  {
   "cell_type": "code",
   "execution_count": null,
   "id": "937244b2",
   "metadata": {},
   "outputs": [],
   "source": [
    "sys = control.ss(A, B, C, 0)"
   ]
  },
  {
   "cell_type": "code",
   "execution_count": null,
   "id": "204578ba",
   "metadata": {},
   "outputs": [],
   "source": [
    "control.step_info(sys)"
   ]
  },
  {
   "cell_type": "code",
   "execution_count": null,
   "id": "2e3577f7",
   "metadata": {},
   "outputs": [],
   "source": [
    "T, yout, xout = control.forced_response(sys, T=t, U=u, X0=x0, return_x=True, squeeze=True)"
   ]
  },
  {
   "cell_type": "code",
   "execution_count": null,
   "id": "7eb71781",
   "metadata": {},
   "outputs": [],
   "source": [
    "plt.plot(t, xout[1], label='v1')\n",
    "# plt.plot(t,result[:steps,0], label = 'i1')\n",
    "plt.xlabel(r'$t\\,/\\,\\mathrm{s}$')\n",
    "plt.ylabel('$v_{\\mathrm{1}}\\,/\\,\\mathrm{V}$')\n",
    "# plt.title('{}'.format())\n",
    "plt.legend()\n",
    "plt.grid()\n",
    "# plt.xlim([0, 0.00005])\n",
    "# plt.ylim([49.25,50.1])\n",
    "plt.show()"
   ]
  },
  {
   "cell_type": "code",
   "execution_count": null,
   "id": "4c7aacab",
   "metadata": {},
   "outputs": [],
   "source": [
    "xout[1]"
   ]
  },
  {
   "cell_type": "code",
   "execution_count": null,
   "id": "c7475c91",
   "metadata": {},
   "outputs": [],
   "source": [
    "T, yout = control.step_response(sys, T=t, X0=x0, squeeze=True)"
   ]
  },
  {
   "cell_type": "code",
   "execution_count": null,
   "id": "452e955e",
   "metadata": {},
   "outputs": [],
   "source": [
    "plt.plot(t, yout[1,:], label='v1')\n",
    "# plt.plot(t,result[:steps,0], label = 'i1')\n",
    "plt.xlabel(r'$t\\,/\\,\\mathrm{s}$')\n",
    "plt.ylabel('$v_{\\mathrm{1}}\\,/\\,\\mathrm{V}$')\n",
    "# plt.title('{}'.format())\n",
    "plt.legend()\n",
    "plt.grid()\n",
    "# plt.xlim([0, 0.00005])\n",
    "# plt.ylim([49.25,50.1])\n",
    "plt.show()"
   ]
  },
  {
   "cell_type": "markdown",
   "id": "c6f28d87",
   "metadata": {},
   "source": [
    "# Calculating the State Transition Matrix"
   ]
  },
  {
   "cell_type": "code",
   "execution_count": null,
   "id": "1522184c",
   "metadata": {},
   "outputs": [],
   "source": [
    "# AST Lecture 3 Slide 31. Equ. 3.32\n",
    "def integrand(t, x):\n",
    "    return scipy.linalg.expm(A*t) @ B @ u_"
   ]
  },
  {
   "cell_type": "markdown",
   "id": "80844029",
   "metadata": {},
   "source": [
    "### Single Evaluation at time t"
   ]
  },
  {
   "cell_type": "code",
   "execution_count": null,
   "id": "a7e8e060",
   "metadata": {},
   "outputs": [],
   "source": [
    "def x_t(time, u, x0, A, B):\n",
    "    \n",
    "    def integrand(t):\n",
    "        return scipy.linalg.expm(A*t) @ B @ u\n",
    "    \n",
    "    stm_t = scipy.linalg.expm(A*time)\n",
    "    \n",
    "    x_h = stm_t @ x0\n",
    "    x_p, err = scipy.integrate.quad_vec(integrand, 0, time)\n",
    "    \n",
    "    return x_h + x_p"
   ]
  },
  {
   "cell_type": "code",
   "execution_count": null,
   "id": "3a7b6fe5",
   "metadata": {},
   "outputs": [],
   "source": [
    "x_1 = x_t(t[1], u[:,1], x0, A, B)"
   ]
  },
  {
   "cell_type": "markdown",
   "id": "e41787f3",
   "metadata": {},
   "source": [
    "### Evaluation for a vector t\n",
    "\n",
    "Super slow due to the for loop"
   ]
  },
  {
   "cell_type": "code",
   "execution_count": null,
   "id": "da105e67",
   "metadata": {},
   "outputs": [],
   "source": [
    "u_ = np.array([vi1, vi2])"
   ]
  },
  {
   "cell_type": "code",
   "execution_count": null,
   "id": "1c19b3ed",
   "metadata": {},
   "outputs": [],
   "source": [
    "def x_dot(t, u, x0, A, B):\n",
    "    \n",
    "    def integrand(t):\n",
    "        return scipy.linalg.expm(A*t) @ B @ u\n",
    "    \n",
    "    smt = np.zeros((len(t), A.shape[0], A.shape[1]))\n",
    "    res =  np.zeros((len(t), A.shape[0]))\n",
    "    x_p_cum = 0\n",
    "    \n",
    "    for i, t_ in enumerate(t):\n",
    "        if i+1 == len(t):\n",
    "            break\n",
    "        stm_t = scipy.linalg.expm(A*t[i])\n",
    "    \n",
    "        x_h = stm_t @ x0\n",
    "        x_p, err = scipy.integrate.quad_vec(integrand, t[i], t[i+1])\n",
    "        \n",
    "        x_p_cum += x_p \n",
    "        \n",
    "        res[i] = x_h + x_p\n",
    "    return res"
   ]
  },
  {
   "cell_type": "code",
   "execution_count": null,
   "id": "3f073097",
   "metadata": {},
   "outputs": [],
   "source": [
    "res = x_dot(t, u_, x0, A, B)"
   ]
  },
  {
   "cell_type": "markdown",
   "id": "824d1036",
   "metadata": {},
   "source": [
    "### Speed up version using odeint"
   ]
  },
  {
   "cell_type": "code",
   "execution_count": null,
   "id": "6c9e4f60",
   "metadata": {},
   "outputs": [],
   "source": [
    "x_h = scipy.sparse.linalg.expm_multiply(A, x0, start=0, stop=t_end, num=num_samples)\n",
    "# As x0 = 0 the result is allways 0\n",
    "\n",
    "x_p = odeint(integrand, x0, t, tfirst=True)\n",
    "# Should be check if there is a simpler solution, bc x isn't present in the function\n",
    "\n",
    "res = x_h + x_p"
   ]
  },
  {
   "cell_type": "code",
   "execution_count": null,
   "id": "ba95501a",
   "metadata": {},
   "outputs": [],
   "source": [
    "plt.plot(t, res[:,1], label='v1')\n",
    "# plt.plot(t,result[:steps,0], label = 'i1')\n",
    "plt.xlabel(r'$t\\,/\\,\\mathrm{s}$')\n",
    "plt.ylabel('$v_{\\mathrm{1}}\\,/\\,\\mathrm{V}$')\n",
    "# plt.title('{}'.format())\n",
    "plt.legend()\n",
    "plt.grid()\n",
    "# plt.xlim([0, 0.00005])\n",
    "# plt.ylim([49.25,50.1])\n",
    "plt.show()"
   ]
  },
  {
   "cell_type": "markdown",
   "id": "856483af",
   "metadata": {},
   "source": [
    "# Discret version using control package"
   ]
  },
  {
   "cell_type": "code",
   "execution_count": null,
   "id": "dcae6b9f",
   "metadata": {},
   "outputs": [],
   "source": [
    "A_d = scipy.linalg.expm(A*ts)"
   ]
  },
  {
   "cell_type": "code",
   "execution_count": null,
   "id": "cda50193",
   "metadata": {},
   "outputs": [],
   "source": [
    "A_inv = scipy.linalg.inv(A)\n",
    "B_d = A_inv @ (A_d - np.eye(A.shape[0])) @ B"
   ]
  },
  {
   "cell_type": "code",
   "execution_count": null,
   "id": "1ce7ceed",
   "metadata": {},
   "outputs": [],
   "source": [
    "C_d = copy.copy(C)"
   ]
  },
  {
   "cell_type": "code",
   "execution_count": null,
   "id": "f68a84ad",
   "metadata": {},
   "outputs": [],
   "source": [
    "sys_d = control.ss(A_d, B_d, C_d, 0, dt=True)"
   ]
  },
  {
   "cell_type": "code",
   "execution_count": null,
   "id": "a03418be",
   "metadata": {
    "scrolled": true
   },
   "outputs": [],
   "source": [
    "control.step_info(sys_d)"
   ]
  },
  {
   "cell_type": "code",
   "execution_count": null,
   "id": "52056827",
   "metadata": {},
   "outputs": [],
   "source": [
    "T, yout, xout = control.forced_response(sys_d, T=t, U=u, X0=x0, return_x=True, squeeze=True)"
   ]
  },
  {
   "cell_type": "code",
   "execution_count": null,
   "id": "52ce4ab6",
   "metadata": {},
   "outputs": [],
   "source": [
    "xout[:,-1]"
   ]
  },
  {
   "cell_type": "code",
   "execution_count": null,
   "id": "da1e32b2",
   "metadata": {},
   "outputs": [],
   "source": [
    "plt.step(T, xout[1], label='v1')\n",
    "# plt.plot(t,result[:steps,0], label = 'i1')\n",
    "plt.xlabel(r'$t\\,/\\,\\mathrm{s}$')\n",
    "plt.ylabel('$v_{\\mathrm{1}}\\,/\\,\\mathrm{V}$')\n",
    "# plt.title('{}'.format())\n",
    "plt.legend()\n",
    "plt.grid()\n",
    "# plt.xlim([0, 0.00005])\n",
    "# plt.ylim([49.25,50.1])\n",
    "plt.show()"
   ]
  },
  {
   "cell_type": "markdown",
   "id": "14a1d142",
   "metadata": {},
   "source": [
    "# Discret version using handmade stuff"
   ]
  },
  {
   "cell_type": "code",
   "execution_count": null,
   "id": "9f8ca052",
   "metadata": {},
   "outputs": [],
   "source": [
    "A_d = scipy.linalg.expm(A*ts)"
   ]
  },
  {
   "cell_type": "code",
   "execution_count": null,
   "id": "c44ac7af",
   "metadata": {},
   "outputs": [],
   "source": [
    "A_inv = scipy.linalg.inv(A)\n",
    "B_d = A_inv @ (A_d - np.eye(A.shape[0])) @ B"
   ]
  },
  {
   "cell_type": "code",
   "execution_count": null,
   "id": "6bf6d7eb",
   "metadata": {},
   "outputs": [],
   "source": [
    "C_d = copy.copy(C)"
   ]
  },
  {
   "cell_type": "code",
   "execution_count": null,
   "id": "9ad5c0dd",
   "metadata": {},
   "outputs": [],
   "source": [
    "x = np.zeros((len(t), A_d.shape[1]))"
   ]
  },
  {
   "cell_type": "code",
   "execution_count": null,
   "id": "fb769e55",
   "metadata": {},
   "outputs": [],
   "source": [
    "x[0] = x0\n",
    "\n",
    "for k in range(1, len(t)):\n",
    "    x_h = np.linalg.matrix_power(A_d,k) @ x0\n",
    "    x_p = 0\n",
    "    for j in range(k):\n",
    "        pwr = (k-1)-j\n",
    "        x_p += np.linalg.matrix_power(A_d,pwr) @ B_d @ u[:,j]\n",
    "    x[k] = x_h + x_p"
   ]
  },
  {
   "cell_type": "code",
   "execution_count": null,
   "id": "830a4aa8",
   "metadata": {},
   "outputs": [],
   "source": [
    "plt.step(t, x[:,1], label='v1')\n",
    "# plt.plot(t,result[:steps,0], label = 'i1')\n",
    "plt.xlabel(r'$t\\,/\\,\\mathrm{s}$')\n",
    "plt.ylabel('$v_{\\mathrm{1}}\\,/\\,\\mathrm{V}$')\n",
    "# plt.title('{}'.format())\n",
    "plt.legend()\n",
    "plt.grid()\n",
    "# plt.xlim([0, 0.0001])\n",
    "# plt.ylim([49.25,50.1])\n",
    "plt.show()"
   ]
  },
  {
   "cell_type": "markdown",
   "id": "d23e8e56",
   "metadata": {},
   "source": [
    "#### In the follwing cell we compare the solution from the control package to the solution of the handmade for-loop"
   ]
  },
  {
   "cell_type": "code",
   "execution_count": null,
   "id": "02137a57",
   "metadata": {},
   "outputs": [],
   "source": [
    "np.isclose(xout[1],x[:,1])\n",
    "# Check if Controll package is close to handmade solution"
   ]
  },
  {
   "cell_type": "code",
   "execution_count": null,
   "id": "5f99c374",
   "metadata": {},
   "outputs": [],
   "source": []
  },
  {
   "cell_type": "markdown",
   "id": "1abc1814",
   "metadata": {},
   "source": [
    "### Euler forward"
   ]
  },
  {
   "cell_type": "markdown",
   "id": "111a039e",
   "metadata": {},
   "source": [
    "It looks like the system differs with a simple euler approximation"
   ]
  },
  {
   "cell_type": "code",
   "execution_count": null,
   "id": "572bef57",
   "metadata": {},
   "outputs": [],
   "source": [
    "A_eu = np.eye(A.shape[0]) + ts*A"
   ]
  },
  {
   "cell_type": "code",
   "execution_count": null,
   "id": "da54cdf3",
   "metadata": {},
   "outputs": [],
   "source": [
    "ts*A"
   ]
  },
  {
   "cell_type": "code",
   "execution_count": null,
   "id": "b12bff21",
   "metadata": {},
   "outputs": [],
   "source": [
    "np.linalg.eig(A_eu)"
   ]
  },
  {
   "cell_type": "code",
   "execution_count": null,
   "id": "98a889df",
   "metadata": {},
   "outputs": [],
   "source": [
    "B_eu = ts*B"
   ]
  },
  {
   "cell_type": "code",
   "execution_count": null,
   "id": "ee013925",
   "metadata": {},
   "outputs": [],
   "source": [
    "ts*B"
   ]
  },
  {
   "cell_type": "code",
   "execution_count": null,
   "id": "01fa61a7",
   "metadata": {},
   "outputs": [],
   "source": [
    "sys_eu = control.ss(A_eu, B_eu, C_d, 0, dt=True)"
   ]
  },
  {
   "cell_type": "code",
   "execution_count": null,
   "id": "49f501ee",
   "metadata": {},
   "outputs": [],
   "source": [
    "control.step_info(sys_eu)"
   ]
  },
  {
   "cell_type": "code",
   "execution_count": null,
   "id": "86892c14",
   "metadata": {},
   "outputs": [],
   "source": [
    "u.shape, t.shape"
   ]
  },
  {
   "cell_type": "code",
   "execution_count": null,
   "id": "27c9f6a7",
   "metadata": {},
   "outputs": [],
   "source": [
    "T, yout, xout = control.forced_response(sys_eu, T=t, U=u, X0=x0, return_x=True, squeeze=True)"
   ]
  },
  {
   "cell_type": "code",
   "execution_count": null,
   "id": "01ddfc20",
   "metadata": {},
   "outputs": [],
   "source": [
    "plt.step(t, x[1], label='v1')\n",
    "# plt.plot(t,result[:steps,0], label = 'i1')\n",
    "plt.xlabel(r'$t\\,/\\,\\mathrm{s}$')\n",
    "plt.ylabel('$v_{\\mathrm{1}}\\,/\\,\\mathrm{V}$')\n",
    "# plt.title('{}'.format())\n",
    "plt.legend()\n",
    "plt.grid()\n",
    "# plt.xlim([0, 0.0001])\n",
    "# plt.ylim([49.25,50.1])\n",
    "plt.show()"
   ]
  },
  {
   "cell_type": "code",
   "execution_count": null,
   "id": "75b2eb2b",
   "metadata": {},
   "outputs": [],
   "source": []
  },
  {
   "cell_type": "code",
   "execution_count": null,
   "id": "011211a4",
   "metadata": {},
   "outputs": [],
   "source": []
  },
  {
   "cell_type": "markdown",
   "id": "70b93fad",
   "metadata": {},
   "source": [
    "After a more detailed research of the Control Package it became clear that for the key part, the forced_response, Scipy-Functions are used. To haven an more accurate comparisson between them, a seprate implementation of the continous and discret case is implemented below."
   ]
  },
  {
   "cell_type": "markdown",
   "id": "39995069",
   "metadata": {},
   "source": [
    "### Continous Scipy State Space"
   ]
  },
  {
   "cell_type": "code",
   "execution_count": null,
   "id": "3c347f44",
   "metadata": {},
   "outputs": [],
   "source": [
    "sys = scipy.signal.lti(A,B,C,None)"
   ]
  },
  {
   "cell_type": "code",
   "execution_count": null,
   "id": "93e5d09a",
   "metadata": {},
   "outputs": [],
   "source": [
    "T, yout, xout = scipy.signal.lsim(sys, U=u.T, T=t, X0=x0, interp=True)"
   ]
  },
  {
   "cell_type": "code",
   "execution_count": null,
   "id": "ece46cc3",
   "metadata": {},
   "outputs": [],
   "source": [
    "plt.plot(T, xout[:,1], label='v1')\n",
    "# plt.plot(t,result[:steps,0], label = 'i1')\n",
    "plt.xlabel(r'$t\\,/\\,\\mathrm{s}$')\n",
    "plt.ylabel('$v_{\\mathrm{1}}\\,/\\,\\mathrm{V}$')\n",
    "# plt.title('{}'.format())\n",
    "plt.legend()\n",
    "plt.grid()\n",
    "# plt.xlim([0, 0.00005])\n",
    "# plt.ylim([49.25,50.1])\n",
    "plt.show()"
   ]
  },
  {
   "cell_type": "markdown",
   "id": "b8784be4",
   "metadata": {},
   "source": [
    "Default value of interp is True, otherwise we asume a zero-order-hold interpolation. (Source: https://docs.scipy.org/doc/scipy/reference/generated/scipy.signal.lsim.html#scipy.signal.lsim)"
   ]
  },
  {
   "cell_type": "code",
   "execution_count": null,
   "id": "4a8cc926",
   "metadata": {},
   "outputs": [],
   "source": [
    "T, yout, xout = scipy.signal.lsim(sys, U=u.T, T=t, X0=x0, interp=False)"
   ]
  },
  {
   "cell_type": "code",
   "execution_count": null,
   "id": "27ca0313",
   "metadata": {},
   "outputs": [],
   "source": [
    "plt.plot(T, xout[:,1], label='v1')\n",
    "# plt.plot(t,result[:steps,0], label = 'i1')\n",
    "plt.xlabel(r'$t\\,/\\,\\mathrm{s}$')\n",
    "plt.ylabel('$v_{\\mathrm{1}}\\,/\\,\\mathrm{V}$')\n",
    "# plt.title('{}'.format())\n",
    "plt.legend()\n",
    "plt.grid()\n",
    "# plt.xlim([0, 0.00005])\n",
    "# plt.ylim([49.25,50.1])\n",
    "plt.show()"
   ]
  },
  {
   "cell_type": "markdown",
   "id": "cc47713e",
   "metadata": {},
   "source": [
    "### Discrete Scipy State Space"
   ]
  },
  {
   "cell_type": "code",
   "execution_count": null,
   "id": "37904570",
   "metadata": {},
   "outputs": [],
   "source": [
    "sys_d = sys.to_discrete(ts)"
   ]
  },
  {
   "cell_type": "code",
   "execution_count": null,
   "id": "13b1d7f8",
   "metadata": {},
   "outputs": [],
   "source": [
    "np.isclose(sys.A, sys_d.A) # Check if matrices identical"
   ]
  },
  {
   "cell_type": "code",
   "execution_count": null,
   "id": "66866fbb",
   "metadata": {},
   "outputs": [],
   "source": [
    "sys_d.A == A_d # Check if discretization is identical to the above "
   ]
  },
  {
   "cell_type": "code",
   "execution_count": null,
   "id": "4168b86e",
   "metadata": {},
   "outputs": [],
   "source": [
    "tout_d, yout_d, xout_d = scipy.signal.dlsim(sys_d, u=u.T, t=t, x0=x0)"
   ]
  },
  {
   "cell_type": "code",
   "execution_count": null,
   "id": "ed572c6e",
   "metadata": {},
   "outputs": [],
   "source": [
    "plt.plot(tout_d, xout_d[:,1], label='v1')\n",
    "# plt.plot(t,result[:steps,0], label = 'i1')\n",
    "plt.xlabel(r'$t\\,/\\,\\mathrm{s}$')\n",
    "plt.ylabel('$v_{\\mathrm{1}}\\,/\\,\\mathrm{V}$')\n",
    "# plt.title('{}'.format())\n",
    "plt.legend()\n",
    "plt.grid()\n",
    "# plt.xlim([0, 0.00005])\n",
    "# plt.ylim([49.25,50.1])\n",
    "plt.show()"
   ]
  },
  {
   "cell_type": "code",
   "execution_count": null,
   "id": "53380034",
   "metadata": {},
   "outputs": [],
   "source": [
    "np.isclose(xout_d, xout) # Check if the result is equal to the contionus case"
   ]
  },
  {
   "cell_type": "code",
   "execution_count": null,
   "id": "aa2ad480",
   "metadata": {},
   "outputs": [],
   "source": []
  }
 ],
 "metadata": {
  "kernelspec": {
   "display_name": "Python 3 (ipykernel)",
   "language": "python",
   "name": "python3"
  },
  "language_info": {
   "codemirror_mode": {
    "name": "ipython",
    "version": 3
   },
   "file_extension": ".py",
   "mimetype": "text/x-python",
   "name": "python",
   "nbconvert_exporter": "python",
   "pygments_lexer": "ipython3",
   "version": "3.9.4"
  }
 },
 "nbformat": 4,
 "nbformat_minor": 5
}
