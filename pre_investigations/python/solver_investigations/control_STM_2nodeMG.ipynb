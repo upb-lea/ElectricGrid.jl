{
 "cells": [
  {
   "cell_type": "code",
   "execution_count": null,
   "id": "001e102a",
   "metadata": {},
   "outputs": [],
   "source": [
    "from scipy.integrate import ode\n",
    "from scipy.integrate import odeint\n",
    "import scipy\n",
    "import numpy as np\n",
    "import matplotlib.pyplot as plt\n",
    "import control\n",
    "import copy"
   ]
  },
  {
   "cell_type": "code",
   "execution_count": null,
   "id": "44532d88",
   "metadata": {},
   "outputs": [],
   "source": [
    "#def parameters\n",
    "\n",
    "ts = 1e-4 # Samplefrequency\n",
    "t_end = 0.005 \n",
    "steps = int(1 / ts) # #Step\n",
    "step_length = t_end/steps\n",
    "f0 = 50\n",
    "V_eff = 230 * np.sqrt(2)\n",
    "\n",
    "vi1 = 230\n",
    "vi2 = 230\n",
    "\n",
    "R = 0.4\n",
    "L = 2.3e-3\n",
    "C = 10e-6\n",
    "LT = 2.3e-3\n",
    "RLoad = 14\n",
    "\n",
    "t = np.linspace(0, t_end, steps)\n",
    "\n",
    "\n",
    "num_episodes = 1  # number of simulation episodes"
   ]
  },
  {
   "cell_type": "code",
   "execution_count": null,
   "id": "a1217746",
   "metadata": {},
   "outputs": [],
   "source": [
    "step_length"
   ]
  },
  {
   "cell_type": "code",
   "execution_count": null,
   "id": "5f451f4f",
   "metadata": {},
   "outputs": [],
   "source": [
    "#def varaibles\n",
    "\n",
    "R1 = R\n",
    "L1 = L\n",
    "C1 = C\n",
    "R2 = R\n",
    "L2 = L\n",
    "C2 = C\n",
    "LT1 = LT\n",
    "LT2 = LT\n",
    "RT1 = R\n",
    "RT2 = R"
   ]
  },
  {
   "cell_type": "code",
   "execution_count": null,
   "id": "7f0dcfca",
   "metadata": {},
   "outputs": [],
   "source": [
    "A1 = np.array([[-R1/L1, -1/L1, 0],\n",
    "               [1/C1, 0, -1/C1],\n",
    "               [0, 1/LT1, -RLoad/LT1 - RT1/LT1]])\n",
    "\n",
    "A2 = np.array([[-R2/L2, -1/L2, 0],\n",
    "               [1/C2, 0, -1/C2],\n",
    "               [0, 1/LT2, -RLoad/LT2 - RT2/LT2]])\n",
    "\n",
    "AT1 = np.array([[0, 0, 0],\n",
    "                [0, 0, 0],\n",
    "                [0, 0, -RLoad/LT1]])\n",
    "\n",
    "AT2 = np.array([[0, 0, 0],\n",
    "                [0, 0, 0],\n",
    "                [0, 0, -RLoad/LT2]])"
   ]
  },
  {
   "cell_type": "code",
   "execution_count": null,
   "id": "249b6f85",
   "metadata": {},
   "outputs": [],
   "source": [
    "A = np.block([[A1, AT1],\n",
    "              [AT2, A2]])"
   ]
  },
  {
   "cell_type": "code",
   "execution_count": null,
   "id": "f440b6af",
   "metadata": {},
   "outputs": [],
   "source": [
    "# x = np.array([i1, v1, iT1, i2, v2, iT2])\n",
    "zeros = np.zeros((3,1))"
   ]
  },
  {
   "cell_type": "code",
   "execution_count": null,
   "id": "4094149a",
   "metadata": {},
   "outputs": [],
   "source": [
    "B1 = np.array([[1/L1],\n",
    "              [0],\n",
    "              [0]])\n",
    "\n",
    "B2 = np.array([[1/L2],\n",
    "              [0],\n",
    "              [0]])\n",
    "\n",
    "B = np.block([[B1, zeros],\n",
    "             [zeros, B2]])"
   ]
  },
  {
   "cell_type": "code",
   "execution_count": null,
   "id": "b7086e9e",
   "metadata": {},
   "outputs": [],
   "source": [
    "C1 = np.array([[1, 1, 1]])\n",
    "C2 = np.array([[1, 1, 1]])\n",
    "C = np.block([C1, C2])"
   ]
  },
  {
   "cell_type": "code",
   "execution_count": null,
   "id": "10c9f450",
   "metadata": {},
   "outputs": [],
   "source": [
    "u = np.array([vi1, vi2])[:,None] * np.ones((2,len(t)))"
   ]
  },
  {
   "cell_type": "code",
   "execution_count": null,
   "id": "7c1e0b9d",
   "metadata": {},
   "outputs": [],
   "source": [
    "i10 = 0\n",
    "v10 = 0\n",
    "iT10 = 0\n",
    "i20 = 0\n",
    "v20 = 0\n",
    "iT20 = 0\n",
    "t0 = 0\n",
    "\n",
    "x0 = np.array([i10, v10, iT10, i20, v20, iT20])"
   ]
  },
  {
   "cell_type": "markdown",
   "id": "7162aeda",
   "metadata": {},
   "source": [
    "# Continous solution"
   ]
  },
  {
   "cell_type": "code",
   "execution_count": null,
   "id": "937244b2",
   "metadata": {},
   "outputs": [],
   "source": [
    "sys = control.ss(A, B, C, 0)"
   ]
  },
  {
   "cell_type": "code",
   "execution_count": null,
   "id": "204578ba",
   "metadata": {},
   "outputs": [],
   "source": [
    "control.step_info(sys)"
   ]
  },
  {
   "cell_type": "code",
   "execution_count": null,
   "id": "2e3577f7",
   "metadata": {},
   "outputs": [],
   "source": [
    "T, yout, xout = control.forced_response(sys, T=t, U=u, X0=x0, return_x=True, squeeze=True)"
   ]
  },
  {
   "cell_type": "code",
   "execution_count": null,
   "id": "7eb71781",
   "metadata": {},
   "outputs": [],
   "source": [
    "plt.plot(t, xout[1], label='v1')\n",
    "# plt.plot(t,result[:steps,0], label = 'i1')\n",
    "plt.xlabel(r'$t\\,/\\,\\mathrm{s}$')\n",
    "plt.ylabel('$v_{\\mathrm{1}}\\,/\\,\\mathrm{V}$')\n",
    "# plt.title('{}'.format())\n",
    "plt.legend()\n",
    "plt.grid()\n",
    "# plt.xlim([0, 0.00005])\n",
    "# plt.ylim([49.25,50.1])\n",
    "plt.show()"
   ]
  },
  {
   "cell_type": "code",
   "execution_count": null,
   "id": "c7475c91",
   "metadata": {},
   "outputs": [],
   "source": [
    "T, yout = control.step_response(sys, T=t, X0=x0, squeeze=True)"
   ]
  },
  {
   "cell_type": "code",
   "execution_count": null,
   "id": "452e955e",
   "metadata": {},
   "outputs": [],
   "source": [
    "plt.plot(t, yout[1,:], label='v1')\n",
    "# plt.plot(t,result[:steps,0], label = 'i1')\n",
    "plt.xlabel(r'$t\\,/\\,\\mathrm{s}$')\n",
    "plt.ylabel('$v_{\\mathrm{1}}\\,/\\,\\mathrm{V}$')\n",
    "# plt.title('{}'.format())\n",
    "plt.legend()\n",
    "plt.grid()\n",
    "# plt.xlim([0, 0.00005])\n",
    "# plt.ylim([49.25,50.1])\n",
    "plt.show()"
   ]
  },
  {
   "cell_type": "markdown",
   "id": "c6f28d87",
   "metadata": {},
   "source": [
    "# Calculating the State Transition Matrix"
   ]
  },
  {
   "cell_type": "code",
   "execution_count": null,
   "id": "1522184c",
   "metadata": {},
   "outputs": [],
   "source": [
    "# AST Lecture 3 Slide 31. Equ. 3.32\n",
    "def integrand(t, x):\n",
    "    return scipy.linalg.expm(A*t) @ B @ u"
   ]
  },
  {
   "cell_type": "markdown",
   "id": "6d1ebcc0",
   "metadata": {},
   "source": [
    "### Single Evaluation at time t"
   ]
  },
  {
   "cell_type": "code",
   "execution_count": null,
   "id": "a7e8e060",
   "metadata": {},
   "outputs": [],
   "source": [
    "def x_t(t, u, x0, A, B):\n",
    "    \n",
    "    def integrand(t):\n",
    "        return scipy.linalg.expm(A*t) @ B @ u\n",
    "    \n",
    "    stm_t = scipy.linalg.expm(A*t)\n",
    "    \n",
    "    x_h = stm_t @ x0\n",
    "    print(x_h)\n",
    "    x_p, err = scipy.integrate.quad_vec(integrand, 0, t)\n",
    "    return x_h + x_p"
   ]
  },
  {
   "cell_type": "code",
   "execution_count": null,
   "id": "3a7b6fe5",
   "metadata": {},
   "outputs": [],
   "source": [
    "x_1 = x_t(t[-1], u, x0, A, B)"
   ]
  },
  {
   "cell_type": "markdown",
   "id": "78f202aa",
   "metadata": {},
   "source": [
    "### Evaluation for a vector t\n",
    "\n",
    "Super slow due to the for loop"
   ]
  },
  {
   "cell_type": "code",
   "execution_count": null,
   "id": "1c19b3ed",
   "metadata": {},
   "outputs": [],
   "source": [
    "def x_dot(t, u, x0, A, B):\n",
    "    \n",
    "    def integrand(t):\n",
    "        return scipy.linalg.expm(A*t) @ B @ u\n",
    "    \n",
    "    smt = np.zeros((len(t), A.shape[0], A.shape[1]))\n",
    "    res =  np.zeros((len(t), A.shape[0]))\n",
    "    x_p_cum = 0\n",
    "    \n",
    "    for i, t_ in enumerate(t):\n",
    "        if i+1 == len(t):\n",
    "            break\n",
    "        stm_t = scipy.linalg.expm(A*t[i])\n",
    "    \n",
    "        x_h = stm_t @ x0\n",
    "        x_p, err = scipy.integrate.quad_vec(integrand, t[i], t[i+1])\n",
    "        \n",
    "        x_p_cum += x_p \n",
    "        \n",
    "        res[i] = x_h + x_p\n",
    "    return res"
   ]
  },
  {
   "cell_type": "code",
   "execution_count": null,
   "id": "3f073097",
   "metadata": {},
   "outputs": [],
   "source": [
    "res = x_dot(t, u, x0, A, B)"
   ]
  },
  {
   "cell_type": "markdown",
   "id": "733c8599",
   "metadata": {},
   "source": [
    "### Speed up version using odeint"
   ]
  },
  {
   "cell_type": "code",
   "execution_count": null,
   "id": "e3e7a21a",
   "metadata": {},
   "outputs": [],
   "source": [
    "%%time\n",
    "x_h = scipy.sparse.linalg.expm_multiply(A, x0, start=0, stop=t_end, num=steps)\n",
    "# As x0 = 0 the result is allways 0\n",
    "\n",
    "x_p = odeint(integrand, x0, t, tfirst=True)\n",
    "# Should be check if there is a simpler solution, bc x isn't present in the function\n",
    "\n",
    "res = x_h + x_p"
   ]
  },
  {
   "cell_type": "code",
   "execution_count": null,
   "id": "4685bb61",
   "metadata": {},
   "outputs": [],
   "source": []
  },
  {
   "cell_type": "code",
   "execution_count": null,
   "id": "ba95501a",
   "metadata": {},
   "outputs": [],
   "source": [
    "plt.plot(t, res[:,1], label='v1')\n",
    "# plt.plot(t,result[:steps,0], label = 'i1')\n",
    "plt.xlabel(r'$t\\,/\\,\\mathrm{s}$')\n",
    "plt.ylabel('$v_{\\mathrm{1}}\\,/\\,\\mathrm{V}$')\n",
    "# plt.title('{}'.format())\n",
    "plt.legend()\n",
    "plt.grid()\n",
    "# plt.xlim([0, 0.00005])\n",
    "# plt.ylim([49.25,50.1])\n",
    "plt.show()"
   ]
  },
  {
   "cell_type": "code",
   "execution_count": null,
   "id": "a9cd68d8",
   "metadata": {},
   "outputs": [],
   "source": []
  },
  {
   "cell_type": "markdown",
   "id": "075a0e6d",
   "metadata": {},
   "source": [
    "# Discret version"
   ]
  },
  {
   "cell_type": "code",
   "execution_count": null,
   "id": "ed059451",
   "metadata": {},
   "outputs": [],
   "source": [
    "t_ = np.arange(0, t_end, ts) "
   ]
  },
  {
   "cell_type": "code",
   "execution_count": null,
   "id": "b723e76c",
   "metadata": {},
   "outputs": [],
   "source": [
    "u_ = np.array([vi1, vi2])[:,None] * np.ones((2,len(t_)))"
   ]
  },
  {
   "cell_type": "code",
   "execution_count": null,
   "id": "54d3ff85",
   "metadata": {},
   "outputs": [],
   "source": [
    "A_d = scipy.linalg.expm(A*ts)"
   ]
  },
  {
   "cell_type": "code",
   "execution_count": null,
   "id": "c5f1d7dd",
   "metadata": {},
   "outputs": [],
   "source": [
    "A_d"
   ]
  },
  {
   "cell_type": "code",
   "execution_count": null,
   "id": "1219a3d7",
   "metadata": {},
   "outputs": [],
   "source": [
    "A_inv = scipy.linalg.inv(A)"
   ]
  },
  {
   "cell_type": "code",
   "execution_count": null,
   "id": "a996c2b3",
   "metadata": {},
   "outputs": [],
   "source": [
    "B_d = A_inv @ (A - np.eye(A.shape[0])) @ B"
   ]
  },
  {
   "cell_type": "code",
   "execution_count": null,
   "id": "ef9ddc40",
   "metadata": {},
   "outputs": [],
   "source": [
    "B_d"
   ]
  },
  {
   "cell_type": "code",
   "execution_count": null,
   "id": "12a4be72",
   "metadata": {},
   "outputs": [],
   "source": [
    "C_d = copy.copy(C)"
   ]
  },
  {
   "cell_type": "code",
   "execution_count": null,
   "id": "c1b9f9cd",
   "metadata": {},
   "outputs": [],
   "source": [
    "sys_d = control.ss(A_d, B_d, C_d, 0, step_length)"
   ]
  },
  {
   "cell_type": "code",
   "execution_count": null,
   "id": "ba431c64",
   "metadata": {},
   "outputs": [],
   "source": [
    "t.shape"
   ]
  },
  {
   "cell_type": "code",
   "execution_count": null,
   "id": "980094d6",
   "metadata": {},
   "outputs": [],
   "source": [
    "control.step_info(sys_d)"
   ]
  },
  {
   "cell_type": "code",
   "execution_count": null,
   "id": "4ae456ff",
   "metadata": {},
   "outputs": [],
   "source": [
    "T, yout, xout = control.forced_response(sys_d, T=t_, U=u_, X0=x0, return_x=True, squeeze=True)"
   ]
  },
  {
   "cell_type": "code",
   "execution_count": null,
   "id": "7a4fadcb",
   "metadata": {},
   "outputs": [],
   "source": [
    "steps"
   ]
  },
  {
   "cell_type": "code",
   "execution_count": null,
   "id": "51e83496",
   "metadata": {},
   "outputs": [],
   "source": [
    "xout[:,-1]"
   ]
  },
  {
   "cell_type": "code",
   "execution_count": null,
   "id": "99e84344",
   "metadata": {},
   "outputs": [],
   "source": [
    "\n",
    "plt.step(T, xout[1], label='v1')\n",
    "# plt.plot(t,result[:steps,0], label = 'i1')\n",
    "plt.xlabel(r'$t\\,/\\,\\mathrm{s}$')\n",
    "plt.ylabel('$v_{\\mathrm{1}}\\,/\\,\\mathrm{V}$')\n",
    "# plt.title('{}'.format())\n",
    "plt.legend()\n",
    "plt.grid()\n",
    "# plt.xlim([0, 0.00005])\n",
    "# plt.ylim([49.25,50.1])\n",
    "plt.show()"
   ]
  },
  {
   "cell_type": "code",
   "execution_count": null,
   "id": "310580c4",
   "metadata": {},
   "outputs": [],
   "source": []
  }
 ],
 "metadata": {
  "kernelspec": {
   "display_name": "Python 3 (ipykernel)",
   "language": "python",
   "name": "python3"
  },
  "language_info": {
   "codemirror_mode": {
    "name": "ipython",
    "version": 3
   },
   "file_extension": ".py",
   "mimetype": "text/x-python",
   "name": "python",
   "nbconvert_exporter": "python",
   "pygments_lexer": "ipython3",
   "version": "3.9.4"
  }
 },
 "nbformat": 4,
 "nbformat_minor": 5
}
