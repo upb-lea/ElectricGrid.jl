{
 "cells": [
  {
   "cell_type": "code",
   "execution_count": null,
   "id": "001e102a",
   "metadata": {},
   "outputs": [],
   "source": [
    "from scipy.integrate import ode\n",
    "from scipy.integrate import odeint\n",
    "import scipy\n",
    "import numpy as np\n",
    "import matplotlib.pyplot as plt\n",
    "import control"
   ]
  },
  {
   "cell_type": "code",
   "execution_count": null,
   "id": "44532d88",
   "metadata": {},
   "outputs": [],
   "source": [
    "#def parameters\n",
    "\n",
    "ts = 1e-4\n",
    "t_end = 0.005 \n",
    "steps = int(1 / ts)\n",
    "f0 = 50\n",
    "V_eff = 230 * np.sqrt(2)\n",
    "\n",
    "vi1 = 230\n",
    "vi2 = 230\n",
    "\n",
    "R = 0.4\n",
    "L = 2.3e-3\n",
    "C = 10e-6\n",
    "LT = 2.3e-3\n",
    "RLoad = 14\n",
    "\n",
    "t = np.linspace(0, t_end, steps)\n",
    "\n",
    "num_episodes = 1  # number of simulation episodes"
   ]
  },
  {
   "cell_type": "code",
   "execution_count": null,
   "id": "5f451f4f",
   "metadata": {},
   "outputs": [],
   "source": [
    "#def varaibles\n",
    "\n",
    "R1 = R\n",
    "L1 = L\n",
    "C1 = C\n",
    "R2 = R\n",
    "L2 = L\n",
    "C2 = C\n",
    "LT1 = LT\n",
    "LT2 = LT\n",
    "RT1 = R\n",
    "RT2 = R"
   ]
  },
  {
   "cell_type": "code",
   "execution_count": null,
   "id": "7f0dcfca",
   "metadata": {},
   "outputs": [],
   "source": [
    "A1 = np.array([[-R1/L1, -1/L1, 0],\n",
    "               [1/C1, 0, -1/C1],\n",
    "               [0, 1/LT1, -RLoad/LT1 - RT1/LT1]])\n",
    "\n",
    "A2 = np.array([[-R2/L2, -1/L2, 0],\n",
    "               [1/C2, 0, -1/C2],\n",
    "               [0, 1/LT2, -RLoad/LT2 - RT2/LT2]])\n",
    "\n",
    "AT1 = np.array([[0, 0, 0],\n",
    "                [0, 0, 0],\n",
    "                [0, 0, -RLoad/LT1]])\n",
    "\n",
    "AT2 = np.array([[0, 0, 0],\n",
    "                [0, 0, 0],\n",
    "                [0, 0, -RLoad/LT2]])"
   ]
  },
  {
   "cell_type": "code",
   "execution_count": null,
   "id": "249b6f85",
   "metadata": {},
   "outputs": [],
   "source": [
    "A = np.block([[A1, AT1],\n",
    "              [AT2, A2]])"
   ]
  },
  {
   "cell_type": "code",
   "execution_count": null,
   "id": "f440b6af",
   "metadata": {},
   "outputs": [],
   "source": [
    "# x = np.array([i1, v1, iT1, i2, v2, iT2])\n",
    "zeros = np.zeros((3,1))"
   ]
  },
  {
   "cell_type": "code",
   "execution_count": null,
   "id": "4094149a",
   "metadata": {},
   "outputs": [],
   "source": [
    "B1 = np.array([[1/L1],\n",
    "              [0],\n",
    "              [0]])\n",
    "\n",
    "B2 = np.array([[1/L2],\n",
    "              [0],\n",
    "              [0]])\n",
    "\n",
    "B = np.block([[B1, zeros],\n",
    "             [zeros, B2]])"
   ]
  },
  {
   "cell_type": "code",
   "execution_count": null,
   "id": "b7086e9e",
   "metadata": {},
   "outputs": [],
   "source": [
    "C1 = np.array([[1, 1, 1]])\n",
    "C2 = np.array([[1, 1, 1]])\n",
    "C = np.block([C1, C2])"
   ]
  },
  {
   "cell_type": "code",
   "execution_count": null,
   "id": "937244b2",
   "metadata": {},
   "outputs": [],
   "source": [
    "sys = control.ss(A, B, C, 0)"
   ]
  },
  {
   "cell_type": "code",
   "execution_count": null,
   "id": "204578ba",
   "metadata": {},
   "outputs": [],
   "source": [
    "control.step_info(sys)"
   ]
  },
  {
   "cell_type": "code",
   "execution_count": null,
   "id": "7c1e0b9d",
   "metadata": {},
   "outputs": [],
   "source": [
    "i10 = 0\n",
    "v10 = 0\n",
    "iT10 = 0\n",
    "i20 = 0\n",
    "v20 = 0\n",
    "iT20 = 0\n",
    "t0 = 0\n",
    "\n",
    "x0 = np.array([i10, v10, iT10, i20, v20, iT20])"
   ]
  },
  {
   "cell_type": "code",
   "execution_count": null,
   "id": "10c9f450",
   "metadata": {},
   "outputs": [],
   "source": [
    "u = np.array([vi1, vi2])[:,None] * np.ones((2,10000))"
   ]
  },
  {
   "cell_type": "code",
   "execution_count": null,
   "id": "2e3577f7",
   "metadata": {},
   "outputs": [],
   "source": [
    "T, yout, xout = control.forced_response(sys, T=t, U=u, X0=x0, return_x=True, squeeze=True)"
   ]
  },
  {
   "cell_type": "code",
   "execution_count": null,
   "id": "7eb71781",
   "metadata": {},
   "outputs": [],
   "source": [
    "plt.plot(t, xout[1], label='v1')\n",
    "# plt.plot(t,result[:steps,0], label = 'i1')\n",
    "plt.xlabel(r'$t\\,/\\,\\mathrm{s}$')\n",
    "plt.ylabel('$v_{\\mathrm{1}}\\,/\\,\\mathrm{V}$')\n",
    "# plt.title('{}'.format())\n",
    "plt.legend()\n",
    "plt.grid()\n",
    "# plt.xlim([0, 0.00005])\n",
    "# plt.ylim([49.25,50.1])\n",
    "plt.show()"
   ]
  },
  {
   "cell_type": "code",
   "execution_count": null,
   "id": "c7475c91",
   "metadata": {},
   "outputs": [],
   "source": [
    "T, yout = control.step_response(sys, T=t, X0=x0, squeeze=True)"
   ]
  },
  {
   "cell_type": "code",
   "execution_count": null,
   "id": "452e955e",
   "metadata": {},
   "outputs": [],
   "source": [
    "plt.plot(t, yout[1,:], label='v1')\n",
    "# plt.plot(t,result[:steps,0], label = 'i1')\n",
    "plt.xlabel(r'$t\\,/\\,\\mathrm{s}$')\n",
    "plt.ylabel('$v_{\\mathrm{1}}\\,/\\,\\mathrm{V}$')\n",
    "# plt.title('{}'.format())\n",
    "plt.legend()\n",
    "plt.grid()\n",
    "# plt.xlim([0, 0.00005])\n",
    "# plt.ylim([49.25,50.1])\n",
    "plt.show()"
   ]
  },
  {
   "cell_type": "markdown",
   "id": "c6f28d87",
   "metadata": {},
   "source": [
    "# Calculating the State Transition Matrix"
   ]
  },
  {
   "cell_type": "code",
   "execution_count": null,
   "id": "5fc829f4",
   "metadata": {},
   "outputs": [],
   "source": [
    "u = np.array([vi1, vi2])"
   ]
  },
  {
   "cell_type": "code",
   "execution_count": null,
   "id": "1522184c",
   "metadata": {},
   "outputs": [],
   "source": [
    "def integrand(t):\n",
    "    return scipy.linalg.expm(A*t) @ B @ u"
   ]
  },
  {
   "cell_type": "code",
   "execution_count": null,
   "id": "a7e8e060",
   "metadata": {},
   "outputs": [],
   "source": [
    "def x_t(t, u, x0, A, B):\n",
    "    \n",
    "    def integrand(t):\n",
    "        return scipy.linalg.expm(A*t) @ B @ u\n",
    "    \n",
    "    stm_t = scipy.linalg.expm(A*t)\n",
    "    \n",
    "    x_h = stm_t @ x0\n",
    "    x_p, err = scipy.integrate.quad_vec(integrand, 0, t)\n",
    "    return x_h + x_p"
   ]
  },
  {
   "cell_type": "code",
   "execution_count": null,
   "id": "3a7b6fe5",
   "metadata": {},
   "outputs": [],
   "source": [
    "x_1 = x_t(t[-1], u, x0, A, B)\n",
    "x_1"
   ]
  },
  {
   "cell_type": "code",
   "execution_count": null,
   "id": "bbfde955",
   "metadata": {},
   "outputs": [],
   "source": [
    "res = np.zeros((10000,6))"
   ]
  },
  {
   "cell_type": "code",
   "execution_count": null,
   "id": "f450b016",
   "metadata": {},
   "outputs": [],
   "source": [
    "for i in range(len(t)):\n",
    "    res[i] = x_t(t[i], u, x0, A, B)"
   ]
  },
  {
   "cell_type": "code",
   "execution_count": null,
   "id": "ba95501a",
   "metadata": {},
   "outputs": [],
   "source": [
    "plt.plot(t, res[:,1], label='v1')\n",
    "# plt.plot(t,result[:steps,0], label = 'i1')\n",
    "plt.xlabel(r'$t\\,/\\,\\mathrm{s}$')\n",
    "plt.ylabel('$v_{\\mathrm{1}}\\,/\\,\\mathrm{V}$')\n",
    "# plt.title('{}'.format())\n",
    "plt.legend()\n",
    "plt.grid()\n",
    "# plt.xlim([0, 0.00005])\n",
    "# plt.ylim([49.25,50.1])\n",
    "plt.show()"
   ]
  },
  {
   "cell_type": "code",
   "execution_count": null,
   "id": "a9cd68d8",
   "metadata": {},
   "outputs": [],
   "source": []
  }
 ],
 "metadata": {
  "kernelspec": {
   "display_name": "Python 3 (ipykernel)",
   "language": "python",
   "name": "python3"
  },
  "language_info": {
   "codemirror_mode": {
    "name": "ipython",
    "version": 3
   },
   "file_extension": ".py",
   "mimetype": "text/x-python",
   "name": "python",
   "nbconvert_exporter": "python",
   "pygments_lexer": "ipython3",
   "version": "3.9.4"
  }
 },
 "nbformat": 4,
 "nbformat_minor": 5
}
