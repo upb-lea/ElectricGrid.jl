{
 "cells": [
  {
   "cell_type": "markdown",
   "id": "7d94dd75",
   "metadata": {},
   "source": [
    "# Comparison of different solutions"
   ]
  },
  {
   "cell_type": "markdown",
   "id": "8e14d6ea",
   "metadata": {},
   "source": [
    "This notebook is intended to compare different toolboxes for solving an island network model. \n",
    "![The structure of the model](images/MG_2_node_Singleline.jpg)\n",
    "\n",
    "The ODEs result from the problem shown here. The exact derivation of the equations can be found in the PDF-file."
   ]
  },
  {
   "cell_type": "markdown",
   "id": "b71f8e77",
   "metadata": {},
   "source": [
    "## General Stuff"
   ]
  },
  {
   "cell_type": "code",
   "execution_count": null,
   "id": "c1020a76",
   "metadata": {},
   "outputs": [],
   "source": [
    "import numpy as np\n",
    "import matplotlib.pyplot as plt"
   ]
  },
  {
   "cell_type": "code",
   "execution_count": null,
   "id": "0d02f84d",
   "metadata": {},
   "outputs": [],
   "source": [
    "# define time vector\n",
    "ts = 1e-4\n",
    "t_end = 0.005\n",
    "steps = int(1/ts)\n",
    "t = np.arange(0, t_end+ts, ts)\n",
    "num_samples = len(t)\n",
    "\n",
    "# define values of the parameter\n",
    "R = 0.4\n",
    "L = 2.3e-3\n",
    "C = 10e-6\n",
    "LT = 2.3e-3\n",
    "R_load = 14\n",
    "\n",
    "vi1 = 230\n",
    "vi2 = 230"
   ]
  },
  {
   "cell_type": "code",
   "execution_count": null,
   "id": "33348159",
   "metadata": {},
   "outputs": [],
   "source": [
    "#def varaibles\n",
    "\n",
    "R1 = R\n",
    "L1 = L\n",
    "C1 = C\n",
    "R2 = R\n",
    "L2 = L\n",
    "C2 = C\n",
    "LT1 = LT\n",
    "LT2 = LT\n",
    "RT1 = R\n",
    "RT2 = R"
   ]
  },
  {
   "cell_type": "code",
   "execution_count": null,
   "id": "fc7a210a",
   "metadata": {},
   "outputs": [],
   "source": [
    "i10 = 0\n",
    "v10 = 0\n",
    "iT10 = 0\n",
    "i20 = 0\n",
    "v20 = 0\n",
    "iT20 = 0\n",
    "t0 = 0\n",
    "\n",
    "# x0 = np.array([i10, v10, iT10, i20, v20, iT20])\n",
    "x0 = [i10, v10, iT10, i20, v20, iT20]"
   ]
  },
  {
   "cell_type": "markdown",
   "id": "32df96f4",
   "metadata": {},
   "source": [
    "## GEKKO"
   ]
  },
  {
   "cell_type": "markdown",
   "id": "c5cf7e93",
   "metadata": {},
   "source": [
    "GEKKO is optimization software for mixed-integer and differential algebraic equations. It is coupled with large-scale solvers for linear, quadratic, nonlinear, and mixed integer programming (LP, QP, NLP, MILP, MINLP). Modes of operation include data reconciliation, real-time optimization, dynamic simulation, and nonlinear predictive control. (Source:https://gekko.readthedocs.io/en/latest/overview.html)"
   ]
  },
  {
   "cell_type": "code",
   "execution_count": null,
   "id": "84d79437",
   "metadata": {},
   "outputs": [],
   "source": [
    "from gekko import GEKKO"
   ]
  },
  {
   "cell_type": "code",
   "execution_count": null,
   "id": "2a523c38",
   "metadata": {},
   "outputs": [],
   "source": [
    "#   Initialize Model empty model as m\n",
    "m = GEKKO(remote=False)\n",
    "\n",
    "#Input\n",
    "vi1 = m.Param(value=vi1)\n",
    "vi2 = m.Param(value=vi2)\n",
    "\n",
    "# Mdoel params\n",
    "R1 = m.Param(value=R)\n",
    "L1 = m.Param(value=L)\n",
    "C1 = m.Param(value=C)\n",
    "RT1 = m.Param(value=R)\n",
    "LT1 = m.Param(value=LT)\n",
    "\n",
    "R2 = m.Param(value=R)\n",
    "L2 = m.Param(value=L)\n",
    "C2 = m.Param(value=C)\n",
    "RT2 = m.Param(value=R)\n",
    "LT2 = m.Param(value=LT)\n",
    "\n",
    "RLoad = m.Param(value=R_load)\n",
    "# iLoad = m.Var(value=0) # Commend if you want to \"New version\"\n",
    "\n",
    "v1 = m.Var(value=0)\n",
    "i1 = m.Var(value=0)\n",
    "v2 = m.Var(value=0)\n",
    "i2 = m.Var(value=0)\n",
    "iT1 = m.Var(value=0)\n",
    "iT2 = m.Var(value=0)"
   ]
  },
  {
   "cell_type": "code",
   "execution_count": null,
   "id": "4f5dc611",
   "metadata": {},
   "outputs": [],
   "source": [
    "# define equations\n",
    "\n",
    "# DGLs node1\n",
    "m.Equation(i1.dt() == (vi1 - v1)/L1 - R1/L1 * i1)\n",
    "m.Equation(v1.dt() == (i1 - iT1)/C1)\n",
    "m.Equation(iT1.dt() == v1 / LT1 - (RT1 + RLoad) / LT1 * iT1 - RLoad / LT1 * iT2)\n",
    "\n",
    "# DGLs node2\n",
    "m.Equation(i2.dt() == (vi2 - v2)/L2 - R2/L2 * i2)\n",
    "m.Equation(v2.dt() == (i2 - iT2)/C2)\n",
    "m.Equation(iT2.dt() == v2 / LT2 - (RT2 + RLoad) / LT2 * iT2 - RLoad / LT2 * iT1)\n",
    "\n",
    "m.options.IMODE = 4 # define type of model solution\n",
    "m.options.NODES = 3\n",
    "m.time = t # time points"
   ]
  },
  {
   "cell_type": "code",
   "execution_count": null,
   "id": "53fb20e8",
   "metadata": {
    "scrolled": true
   },
   "outputs": [],
   "source": [
    "m.solve()"
   ]
  },
  {
   "cell_type": "code",
   "execution_count": null,
   "id": "0f00df81",
   "metadata": {},
   "outputs": [],
   "source": [
    "plt.plot(m.time, v1, 'r', label='V1')\n",
    "# plt.plot(m.time, v2, 'b', label='V2')\n",
    "plt.xlabel('Time (s)')\n",
    "plt.ylabel('Voltage (V)')\n",
    "plt.grid()\n",
    "plt.xlim([0, 0.005])\n",
    "#plt.ylim(225, 235)\n",
    "plt.legend()\n",
    "plt.show()"
   ]
  },
  {
   "cell_type": "code",
   "execution_count": null,
   "id": "1a00244c",
   "metadata": {},
   "outputs": [],
   "source": [
    "%timeit m.solve(disp=False)"
   ]
  },
  {
   "cell_type": "markdown",
   "id": "6765c905",
   "metadata": {},
   "source": [
    "## Scipy ODE and ODEINT"
   ]
  },
  {
   "cell_type": "code",
   "execution_count": null,
   "id": "6fae5607",
   "metadata": {},
   "outputs": [],
   "source": [
    "from scipy.integrate import ode\n",
    "from scipy.integrate import odeint"
   ]
  },
  {
   "cell_type": "code",
   "execution_count": null,
   "id": "a0e9f8cb",
   "metadata": {},
   "outputs": [],
   "source": [
    "# define time vector\n",
    "ts = 1e-4\n",
    "t_end = 0.005\n",
    "steps = int(1/ts)\n",
    "num_samples = int(steps*t_end)+1 # Number of samples in given time // +1 bc 0\n",
    "t = np.linspace(0, t_end, num_samples)\n",
    "\n",
    "# define values of the parameter\n",
    "R = 0.4\n",
    "L = 2.3e-3\n",
    "C = 10e-6\n",
    "LT = 2.3e-3\n",
    "R_load = 14\n",
    "\n",
    "vi1 = 230\n",
    "vi2 = 230"
   ]
  },
  {
   "cell_type": "code",
   "execution_count": null,
   "id": "99b3ef06",
   "metadata": {},
   "outputs": [],
   "source": [
    "#def varaibles\n",
    "\n",
    "R1 = R\n",
    "L1 = L\n",
    "C1 = C\n",
    "R2 = R\n",
    "L2 = L\n",
    "C2 = C\n",
    "LT1 = LT\n",
    "LT2 = LT\n",
    "RT1 = R\n",
    "RT2 = R"
   ]
  },
  {
   "cell_type": "code",
   "execution_count": null,
   "id": "d4b8f840",
   "metadata": {},
   "outputs": [],
   "source": [
    "i10 = 0\n",
    "v10 = 0\n",
    "iT10 = 0\n",
    "i20 = 0\n",
    "v20 = 0\n",
    "iT20 = 0\n",
    "t0 = 0\n",
    "\n",
    "# x0 = np.array([i10, v10, iT10, i20, v20, iT20])\n",
    "x0 = [i10, v10, iT10, i20, v20, iT20]"
   ]
  },
  {
   "cell_type": "code",
   "execution_count": null,
   "id": "e0295e8b",
   "metadata": {},
   "outputs": [],
   "source": [
    "#def ode of the model\n",
    "\n",
    "def env_model_ode(t, x):  # , arg):\n",
    "\n",
    "    # y = array([i1, v1, iT1, i2, v2, iT2])\n",
    "    i1 = x[0]\n",
    "    v1 = x[1]\n",
    "    iT1 = x[2]\n",
    "    i2 = x[3]\n",
    "    v2 = x[4]\n",
    "    iT2 = x[5]\n",
    "\n",
    "    di1 = (vi1 - v1) / L1 - R1 / L1 * i1\n",
    "    dv1 = (i1 - iT1) / C1\n",
    "    diT1 = v1 / LT1 - (RT1 + R_load) / LT1 * iT1 - R_load / LT1 * iT2\n",
    "\n",
    "    di2 = (vi2 - v2) / L2 - R2 / L2 * i2\n",
    "    dv2 = (i2 - iT2) / C2\n",
    "    diT2 = v2 / LT2 - (RT2 + R_load) / LT2 * iT2 - R_load / LT2 * iT1\n",
    "\n",
    "    return np.array([di1, dv1, diT1, di2, dv2, diT2])"
   ]
  },
  {
   "cell_type": "markdown",
   "id": "f823f333",
   "metadata": {},
   "source": [
    "### ODE"
   ]
  },
  {
   "cell_type": "code",
   "execution_count": null,
   "id": "20797104",
   "metadata": {},
   "outputs": [],
   "source": [
    "# define initial values\n",
    "i10 = 0\n",
    "v10 = 0\n",
    "iT10 = 0\n",
    "i20 = 0\n",
    "v20 = 0\n",
    "iT20 = 0\n",
    "t0 = 0\n",
    "\n",
    "x0 = np.array([i10, v10, iT10, i20, v20, iT20])\n",
    "\n",
    "f_list = []\n",
    "u_list = []\n",
    "\n",
    "ode_solver = ode(env_model_ode)\n",
    "\n",
    "ode_solver.set_initial_value(x0, t0)\n",
    "\n",
    "count = 0\n",
    "\n",
    "result = np.zeros([int(num_samples), 6])\n",
    "# theta = np.zeros([int(steps)+1,3])\n",
    "# freq = np.zeros([int(steps)+1,3])\n",
    "\n",
    "while ode_solver.successful() and ode_solver.t <= steps * ts * t_end:\n",
    "    result[count] = ode_solver.integrate(ode_solver.t + ts)\n",
    "    count += 1"
   ]
  },
  {
   "cell_type": "code",
   "execution_count": null,
   "id": "bc8c569c",
   "metadata": {},
   "outputs": [],
   "source": [
    "plt.plot(t, result[:, 1], label='v1')\n",
    "# plt.plot(t,result[:steps,0], label = 'i1')\n",
    "plt.xlabel(r'$t\\,/\\,\\mathrm{s}$')\n",
    "plt.ylabel('$v_{\\mathrm{1}}\\,/\\,\\mathrm{V}$')\n",
    "# plt.title('{}'.format())\n",
    "plt.legend()\n",
    "plt.grid()\n",
    "plt.show()"
   ]
  },
  {
   "cell_type": "code",
   "execution_count": null,
   "id": "53c8de71",
   "metadata": {},
   "outputs": [],
   "source": [
    "%%timeit\n",
    "ode_solver = ode(env_model_ode)\n",
    "\n",
    "ode_solver.set_initial_value(x0, t0)\n",
    "\n",
    "count = 0\n",
    "\n",
    "result = np.zeros([int(num_samples), 6])\n",
    "\n",
    "while ode_solver.successful() and ode_solver.t <= steps * ts * t_end:\n",
    "    result[count] = ode_solver.integrate(ode_solver.t + ts)\n",
    "    count += 1"
   ]
  },
  {
   "cell_type": "markdown",
   "id": "5c300c49",
   "metadata": {},
   "source": [
    "### ODEINT"
   ]
  },
  {
   "cell_type": "code",
   "execution_count": null,
   "id": "db6cf93b",
   "metadata": {},
   "outputs": [],
   "source": [
    "i10 = 0\n",
    "v10 = 0\n",
    "iT10 = 0\n",
    "i20 = 0\n",
    "v20 = 0\n",
    "iT20 = 0\n",
    "t0 = 0\n",
    "\n",
    "# x0 = np.array([i10, v10, iT10, i20, v20, iT20])\n",
    "x0 = [i10, v10, iT10, i20, v20, iT20]\n",
    "\n",
    "f_list = []\n",
    "u_list = []\n",
    "\n",
    "result = odeint(env_model_ode, x0, t, tfirst=True)\n",
    "# ys = np.array(ys).flatten()"
   ]
  },
  {
   "cell_type": "code",
   "execution_count": null,
   "id": "c67a2c7f",
   "metadata": {},
   "outputs": [],
   "source": [
    "plt.plot(t, result[:steps, 1], label='v1')\n",
    "# plt.plot(t,result[:steps,0], label = 'i1')\n",
    "plt.xlabel(r'$t\\,/\\,\\mathrm{s}$')\n",
    "plt.ylabel('$v_{\\mathrm{1}}\\,/\\,\\mathrm{V}$')\n",
    "# plt.title('{}'.format())\n",
    "plt.legend()\n",
    "plt.grid()\n",
    "plt.show()"
   ]
  },
  {
   "cell_type": "code",
   "execution_count": null,
   "id": "6bb7cfb6",
   "metadata": {},
   "outputs": [],
   "source": [
    "%timeit result = odeint(env_model_ode, x0, t, tfirst=True)"
   ]
  },
  {
   "cell_type": "markdown",
   "id": "2169a860",
   "metadata": {},
   "source": [
    "## Python control"
   ]
  },
  {
   "cell_type": "code",
   "execution_count": null,
   "id": "ceb96f11",
   "metadata": {},
   "outputs": [],
   "source": [
    "import scipy\n",
    "import control\n",
    "import copy"
   ]
  },
  {
   "cell_type": "code",
   "execution_count": null,
   "id": "8eb9a4f6",
   "metadata": {},
   "outputs": [],
   "source": [
    "A1 = np.array([[-R1/L1, -1/L1, 0],\n",
    "               [1/C1, 0, -1/C1],\n",
    "               [0, 1/LT1, -R_load/LT1 - RT1/LT1]])\n",
    "\n",
    "A2 = np.array([[-R2/L2, -1/L2, 0],\n",
    "               [1/C2, 0, -1/C2],\n",
    "               [0, 1/LT2, -R_load/LT2 - RT2/LT2]])\n",
    "\n",
    "AT1 = np.array([[0, 0, 0],\n",
    "                [0, 0, 0],\n",
    "                [0, 0, -R_load/LT1]])\n",
    "\n",
    "AT2 = np.array([[0, 0, 0],\n",
    "                [0, 0, 0],\n",
    "                [0, 0, -R_load/LT2]])\n",
    "A = np.block([[A1, AT1],\n",
    "              [AT2, A2]])"
   ]
  },
  {
   "cell_type": "code",
   "execution_count": null,
   "id": "0b83b197",
   "metadata": {},
   "outputs": [],
   "source": [
    "zeros = np.zeros((3,1))\n",
    "B1 = np.array([[1/L1],\n",
    "              [0],\n",
    "              [0]])\n",
    "\n",
    "B2 = np.array([[1/L2],\n",
    "              [0],\n",
    "              [0]])\n",
    "\n",
    "B = np.block([[B1, zeros],\n",
    "             [zeros, B2]])"
   ]
  },
  {
   "cell_type": "code",
   "execution_count": null,
   "id": "24819f84",
   "metadata": {},
   "outputs": [],
   "source": [
    "C1 = np.array([[1, 1, 1]])\n",
    "C2 = np.array([[1, 1, 1]])\n",
    "C = np.block([C1, C2])"
   ]
  },
  {
   "cell_type": "markdown",
   "id": "545b3c3a",
   "metadata": {},
   "source": [
    "### Continous"
   ]
  },
  {
   "cell_type": "code",
   "execution_count": null,
   "id": "b435f437",
   "metadata": {},
   "outputs": [],
   "source": [
    "ts_c = 1e-5\n",
    "t_end = 0.005\n",
    "steps = int(1/ts_c)\n",
    "tc = np.arange(0, t_end+ts_c, ts_c)\n",
    "num_samples = len(tc)"
   ]
  },
  {
   "cell_type": "code",
   "execution_count": null,
   "id": "819dee8c",
   "metadata": {},
   "outputs": [],
   "source": [
    "uc = np.array([vi1, vi2])[:,None] * np.ones((2,len(tc)))"
   ]
  },
  {
   "cell_type": "code",
   "execution_count": null,
   "id": "ca21a143",
   "metadata": {},
   "outputs": [],
   "source": [
    "sys = control.ss(A, B, C, 0)"
   ]
  },
  {
   "cell_type": "code",
   "execution_count": null,
   "id": "2feef033",
   "metadata": {},
   "outputs": [],
   "source": [
    "T, yout, xout = control.forced_response(sys, T=tc, U=uc, X0=x0, return_x=True, squeeze=True)"
   ]
  },
  {
   "cell_type": "code",
   "execution_count": null,
   "id": "9abefa71",
   "metadata": {},
   "outputs": [],
   "source": [
    "plt.plot(tc, xout[1], label='v1')\n",
    "# plt.plot(t,result[:steps,0], label = 'i1')\n",
    "plt.xlabel(r'$t\\,/\\,\\mathrm{s}$')\n",
    "plt.ylabel('$v_{\\mathrm{1}}\\,/\\,\\mathrm{V}$')\n",
    "# plt.title('{}'.format())\n",
    "plt.legend()\n",
    "plt.grid()\n",
    "plt.show()"
   ]
  },
  {
   "cell_type": "code",
   "execution_count": null,
   "id": "1c994f61",
   "metadata": {},
   "outputs": [],
   "source": [
    "%timeit T, yout, xout = control.forced_response(sys, T=tc, U=uc, X0=x0, return_x=True, squeeze=True)"
   ]
  },
  {
   "cell_type": "markdown",
   "id": "c61df28b",
   "metadata": {},
   "source": [
    "### Discret"
   ]
  },
  {
   "cell_type": "code",
   "execution_count": null,
   "id": "70e17907",
   "metadata": {},
   "outputs": [],
   "source": [
    "A_d = scipy.linalg.expm(A*ts)"
   ]
  },
  {
   "cell_type": "code",
   "execution_count": null,
   "id": "1fab37f3",
   "metadata": {},
   "outputs": [],
   "source": [
    "A_inv = scipy.linalg.inv(A)\n",
    "B_d = A_inv @ (A_d - np.eye(A.shape[0])) @ B"
   ]
  },
  {
   "cell_type": "code",
   "execution_count": null,
   "id": "a567ffec",
   "metadata": {},
   "outputs": [],
   "source": [
    "C_d = copy.copy(C)"
   ]
  },
  {
   "cell_type": "code",
   "execution_count": null,
   "id": "9dadf8cd",
   "metadata": {},
   "outputs": [],
   "source": [
    "u = np.array([vi1, vi2])[:,None] * np.ones((2,len(t)))"
   ]
  },
  {
   "cell_type": "code",
   "execution_count": null,
   "id": "3f7954c8",
   "metadata": {},
   "outputs": [],
   "source": [
    "sys_d = control.ss(A_d, B_d, C_d, 0, dt=True)"
   ]
  },
  {
   "cell_type": "code",
   "execution_count": null,
   "id": "3442d0d1",
   "metadata": {},
   "outputs": [],
   "source": [
    "T, yout_d, xout_d = control.forced_response(sys_d, T=t, U=u, X0=x0, return_x=True, squeeze=True)"
   ]
  },
  {
   "cell_type": "code",
   "execution_count": null,
   "id": "7659f7c9",
   "metadata": {},
   "outputs": [],
   "source": [
    "fig=plt.figure(figsize=(10,5))\n",
    "ax=fig.add_subplot(111, label=\"1\")\n",
    "ax2=fig.add_subplot(111, label=\"2\", frame_on=False)\n",
    "\n",
    "ax.step(t, xout_d[1], 'r', label='v1_discret')\n",
    "ax.set_xlabel(r'$t\\,/\\,\\mathrm{s}$')\n",
    "ax.set_ylabel('$v_{\\mathrm{1}}\\,/\\,\\mathrm{V}$')\n",
    "ax.grid()\n",
    "ax.legend()\n",
    "ax2.plot(tc, xout[1], 'b', label='v1_continous')\n",
    "ax2.set_xticks([])\n",
    "ax2.set_yticks([])\n",
    "ax2.legend(loc='lower right')"
   ]
  },
  {
   "cell_type": "code",
   "execution_count": null,
   "id": "3ac4f7dc",
   "metadata": {},
   "outputs": [],
   "source": [
    "plt.figure()\n",
    "plt.step(t, xout_d[1], 'r', label='v1_discret')\n",
    "# plt.plot(t,result[:steps,0], label = 'i1')\n",
    "plt.xlabel(r'$t\\,/\\,\\mathrm{s}$')\n",
    "plt.ylabel('$v_{\\mathrm{1}}\\,/\\,\\mathrm{V}$')\n",
    "# plt.title('{}'.format())\n",
    "plt.legend()\n",
    "plt.grid()\n",
    "plt.show()"
   ]
  },
  {
   "cell_type": "code",
   "execution_count": null,
   "id": "d7c2f4ce",
   "metadata": {},
   "outputs": [],
   "source": [
    "%timeit T, yout_d, xout_d = control.forced_response(sys_d, T=t, U=u, X0=x0, return_x=True, squeeze=True)"
   ]
  },
  {
   "cell_type": "code",
   "execution_count": null,
   "id": "8d3442b3",
   "metadata": {},
   "outputs": [],
   "source": [
    "np.isclose(xout_d[1], xout[1])"
   ]
  },
  {
   "cell_type": "code",
   "execution_count": null,
   "id": "17ebf67c",
   "metadata": {},
   "outputs": [],
   "source": []
  },
  {
   "cell_type": "code",
   "execution_count": null,
   "id": "6084c5f4",
   "metadata": {},
   "outputs": [],
   "source": []
  }
 ],
 "metadata": {
  "kernelspec": {
   "display_name": "Python 3 (ipykernel)",
   "language": "python",
   "name": "python3"
  },
  "language_info": {
   "codemirror_mode": {
    "name": "ipython",
    "version": 3
   },
   "file_extension": ".py",
   "mimetype": "text/x-python",
   "name": "python",
   "nbconvert_exporter": "python",
   "pygments_lexer": "ipython3",
   "version": "3.9.4"
  }
 },
 "nbformat": 4,
 "nbformat_minor": 5
}
