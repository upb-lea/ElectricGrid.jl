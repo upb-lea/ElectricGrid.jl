{
 "cells": [
  {
   "cell_type": "code",
   "execution_count": null,
   "id": "4b107524",
   "metadata": {},
   "outputs": [],
   "source": [
    "import time\n",
    "\n",
    "from gekko import GEKKO\n",
    "import numpy as np\n",
    "import matplotlib.pyplot as plt\n"
   ]
  },
  {
   "cell_type": "code",
   "execution_count": null,
   "id": "320aa6f0",
   "metadata": {},
   "outputs": [],
   "source": [
    "ts = 1e-4\n",
    "t_end = 0.005\n",
    "steps = int(1/ts)\n",
    "num_samples = int(steps*t_end) # Number of samples in given time\n",
    "t = np.linspace(0, t_end, num_samples)\n",
    "\n",
    "f0 = 50\n",
    "V_eff = 230 *np.sqrt(2)\n",
    "\n",
    "# v_sin1 = V_eff * np.sin(2*np.pi * f0 * t)\n",
    "# v_sin2 = V_eff * np.sin(2*np.pi * f0 * t + 0.5)\n",
    "# plt.plot(t, v_sin1)\n",
    "# plt.plot(t, v_sin2)\n",
    "# plt.xlabel('Time (s)')\n",
    "# plt.grid()\n",
    "# #plt.ylim(225, 235)\n",
    "# #plt.legend()\n",
    "# plt.show()\n",
    "\n",
    "R = 0.4\n",
    "L = 2.3e-3\n",
    "C = 10e-6\n",
    "LT = 2.3e-3\n",
    "R_load = 14"
   ]
  },
  {
   "cell_type": "code",
   "execution_count": null,
   "id": "c48e624c",
   "metadata": {},
   "outputs": [],
   "source": [
    "#   Initialize Model empty model as m\n",
    "m = GEKKO(remote=False)\n",
    "\n",
    "#Input\n",
    "vi1 = m.Param(value=230)\n",
    "vi2 = m.Param(value=230)\n",
    "#vi1 = m.Param(value=v_sin1)#230)\n",
    "#vi2 = m.Param(value=v_sin2)#230)\n",
    "\n",
    "# Mdoel params\n",
    "R1 = m.Param(value=R)\n",
    "L1 = m.Param(value=L)\n",
    "C1 = m.Param(value=C)\n",
    "RT1 = m.Param(value=R)\n",
    "LT1 = m.Param(value=LT)\n",
    "\n",
    "R2 = m.Param(value=R)\n",
    "L2 = m.Param(value=L)\n",
    "C2 = m.Param(value=C)\n",
    "RT2 = m.Param(value=R)\n",
    "LT2 = m.Param(value=LT)\n",
    "\n",
    "RLoad = m.Param(value=R_load)\n",
    "# iLoad = m.Var(value=0) # Commend if you want to \"New version\"\n",
    "\n",
    "v1 = m.Var(value=0)\n",
    "i1 = m.Var(value=0)\n",
    "v2 = m.Var(value=0)\n",
    "i2 = m.Var(value=0)\n",
    "iT1 = m.Var(value=0)\n",
    "iT2 = m.Var(value=0)"
   ]
  },
  {
   "cell_type": "markdown",
   "id": "9b5c29d0",
   "metadata": {},
   "source": [
    "### Old version"
   ]
  },
  {
   "cell_type": "code",
   "execution_count": null,
   "id": "bd04e666",
   "metadata": {},
   "outputs": [],
   "source": [
    "# # DGLs node1\n",
    "# m.Equation(i1.dt() == (vi1 - v1)/L1 - R1/L1 * i1)\n",
    "# m.Equation(v1.dt() == (i1 - iT1)/C1)\n",
    "# m.Equation(iT1.dt() == v1 / LT1 - RT1 / LT1 * iT1 - RLoad / LT1 * iLoad)\n",
    "\n",
    "# # DGLs node2\n",
    "# m.Equation(i2.dt() == (vi2 - v2)/L2 - R2/L2 * i2)\n",
    "# m.Equation(v2.dt() == (i2 - iT2)/C2)\n",
    "# m.Equation(iT2.dt() == v2 / LT2 - RT2 / LT2 * iT2 - RLoad / LT2 * iLoad)\n",
    "\n",
    "# # constraints\n",
    "# m.Equation(iLoad == iT1 + iT2)\n",
    "\n",
    "# m.options.IMODE = 4  # oder 4?\n",
    "# m.time = t # time points"
   ]
  },
  {
   "cell_type": "markdown",
   "id": "61be26bc",
   "metadata": {},
   "source": [
    "### New version\n",
    "$iload = iT1 + iT2$"
   ]
  },
  {
   "cell_type": "code",
   "execution_count": null,
   "id": "94f90701",
   "metadata": {},
   "outputs": [],
   "source": [
    "# DGLs node1\n",
    "m.Equation(i1.dt() == (vi1 - v1)/L1 - R1/L1 * i1)\n",
    "m.Equation(v1.dt() == (i1 - iT1)/C1)\n",
    "m.Equation(iT1.dt() == v1 / LT1 - (RT1 + RLoad) / LT1 * iT1 - RLoad / LT1 * iT2)\n",
    "\n",
    "# DGLs node2\n",
    "m.Equation(i2.dt() == (vi2 - v2)/L2 - R2/L2 * i2)\n",
    "m.Equation(v2.dt() == (i2 - iT2)/C2)\n",
    "m.Equation(iT2.dt() == v2 / LT2 - (RT2 + RLoad) / LT2 * iT2 - RLoad / LT2 * iT1)\n",
    "\n",
    "m.options.IMODE = 4  # oder 4?\n",
    "m.options.NODES=3\n",
    "m.time = t # time points"
   ]
  },
  {
   "cell_type": "code",
   "execution_count": null,
   "id": "748ea6e9",
   "metadata": {
    "scrolled": true
   },
   "outputs": [],
   "source": [
    "m.solve()"
   ]
  },
  {
   "cell_type": "code",
   "execution_count": null,
   "id": "102bdcf0",
   "metadata": {},
   "outputs": [],
   "source": [
    "v1"
   ]
  },
  {
   "cell_type": "code",
   "execution_count": null,
   "id": "55869181",
   "metadata": {},
   "outputs": [],
   "source": [
    "plt.plot(m.time, v1, 'r', label='V1')\n",
    "plt.plot(m.time, v2, 'b', label='V2')\n",
    "plt.xlabel('Time (s)')\n",
    "plt.ylabel('Voltage (V)')\n",
    "plt.grid()\n",
    "plt.xlim([0, 0.005])\n",
    "#plt.ylim(225, 235)\n",
    "plt.legend()\n",
    "plt.show()\n",
    "\n",
    "# plt.plot(m.time, iLoad)\n",
    "# plt.xlabel('Time (s)')\n",
    "# plt.ylabel('load Current (A)')\n",
    "# plt.grid()\n",
    "# plt.xlim([0, 0.005])\n",
    "# #plt.ylim(225, 235)\n",
    "# plt.legend()\n",
    "# plt.show()"
   ]
  },
  {
   "cell_type": "markdown",
   "id": "7c9475af",
   "metadata": {},
   "source": [
    "### Evaluating runtime"
   ]
  },
  {
   "cell_type": "code",
   "execution_count": null,
   "id": "ba38f455",
   "metadata": {},
   "outputs": [],
   "source": [
    "%time m.solve(disp=False)"
   ]
  },
  {
   "cell_type": "code",
   "execution_count": null,
   "id": "7e69ff5b",
   "metadata": {
    "scrolled": true
   },
   "outputs": [],
   "source": [
    "%timeit m.solve(disp=False)"
   ]
  },
  {
   "cell_type": "code",
   "execution_count": null,
   "id": "f995bbf2",
   "metadata": {
    "scrolled": true
   },
   "outputs": [],
   "source": [
    "start = time.time()\n",
    "m.solve(disp=False)\n",
    "end = time.time()\n",
    "elapsed_time = end - start\n",
    "\n",
    "print(f'Time for solving: {elapsed_time:.3f}')"
   ]
  },
  {
   "cell_type": "code",
   "execution_count": null,
   "id": "eae847a1",
   "metadata": {},
   "outputs": [],
   "source": []
  },
  {
   "cell_type": "markdown",
   "id": "0845c102",
   "metadata": {},
   "source": [
    "# Gekko StateSpace"
   ]
  },
  {
   "cell_type": "code",
   "execution_count": null,
   "id": "c271d72d",
   "metadata": {},
   "outputs": [],
   "source": [
    "vi1 = 230\n",
    "vi2 = 230\n",
    "\n",
    "R = 0.4\n",
    "L = 2.3e-3\n",
    "C = 10e-6\n",
    "LT = 2.3e-3\n",
    "RLoad = 14"
   ]
  },
  {
   "cell_type": "code",
   "execution_count": null,
   "id": "909a0a37",
   "metadata": {},
   "outputs": [],
   "source": [
    "#def varaibles\n",
    "\n",
    "R1 = R\n",
    "L1 = L\n",
    "C1 = C\n",
    "LT1 = LT\n",
    "R2 = R\n",
    "L2 = L\n",
    "C2 = C\n",
    "LT2 = LT\n",
    "RT1 = R\n",
    "RT2 = R"
   ]
  },
  {
   "cell_type": "code",
   "execution_count": null,
   "id": "ac19c359",
   "metadata": {},
   "outputs": [],
   "source": [
    "A1 = np.array([[-R1/L1, -1/L1, 0],\n",
    "               [1/C1, 0, -1/C1],\n",
    "               [0, 1/LT1, -RLoad/LT1 - RT1/LT1]])\n",
    "\n",
    "A2 = np.array([[-R2/L2, -1/L2, 0],\n",
    "               [1/C2, 0, -1/C2],\n",
    "               [0, 1/LT2, -RLoad/LT2 - RT2/LT2]])\n",
    "\n",
    "AT1 = np.array([[0, 0, 0],\n",
    "                [0, 0, 0],\n",
    "                [0, 0, -RLoad/LT1]])\n",
    "\n",
    "AT2 = np.array([[0, 0, 0],\n",
    "                [0, 0, 0],\n",
    "                [0, 0, -RLoad/LT2]])\n",
    "A = np.block([[A1, AT1],\n",
    "              [AT2, A2]])"
   ]
  },
  {
   "cell_type": "code",
   "execution_count": null,
   "id": "9568dbad",
   "metadata": {},
   "outputs": [],
   "source": [
    "A"
   ]
  },
  {
   "cell_type": "code",
   "execution_count": null,
   "id": "92a430b9",
   "metadata": {},
   "outputs": [],
   "source": [
    "zeros = np.zeros((3,1))\n",
    "B1 = np.array([[1/L1],\n",
    "              [0],\n",
    "              [0]])\n",
    "\n",
    "B2 = np.array([[1/L2],\n",
    "              [0],\n",
    "              [0]])\n",
    "\n",
    "B = np.block([[B1, zeros],\n",
    "             [zeros, B2]])"
   ]
  },
  {
   "cell_type": "code",
   "execution_count": null,
   "id": "3942c099",
   "metadata": {},
   "outputs": [],
   "source": [
    "C1 = np.array([[1, 1, 1]])\n",
    "C2 = np.array([[1, 1, 1]])\n",
    "C = np.block([C1, C2])"
   ]
  },
  {
   "cell_type": "code",
   "execution_count": null,
   "id": "c9d57ee6",
   "metadata": {},
   "outputs": [],
   "source": [
    "u = np.array([vi1, vi2])[:,None] * np.ones((2,len(t)))"
   ]
  },
  {
   "cell_type": "code",
   "execution_count": null,
   "id": "83c13f1f",
   "metadata": {},
   "outputs": [],
   "source": [
    "i10 = 0\n",
    "v10 = 0\n",
    "iT10 = 0\n",
    "i20 = 0\n",
    "v20 = 0\n",
    "iT20 = 0\n",
    "t0 = 0\n",
    "\n",
    "x0 = np.array([i10, v10, iT10, i20, v20, iT20])"
   ]
  },
  {
   "cell_type": "code",
   "execution_count": null,
   "id": "d3fdc035",
   "metadata": {},
   "outputs": [],
   "source": [
    "m = GEKKO()"
   ]
  },
  {
   "cell_type": "code",
   "execution_count": null,
   "id": "24288f04",
   "metadata": {},
   "outputs": [],
   "source": [
    "x,y,u = m.state_space(A,B,C,D=None,E=None,discrete=False,dense=False)"
   ]
  },
  {
   "cell_type": "code",
   "execution_count": null,
   "id": "4b51c38f",
   "metadata": {},
   "outputs": [],
   "source": [
    "u"
   ]
  },
  {
   "cell_type": "code",
   "execution_count": null,
   "id": "c54a4b45",
   "metadata": {},
   "outputs": [],
   "source": [
    "m.time = t"
   ]
  },
  {
   "cell_type": "code",
   "execution_count": null,
   "id": "acbc3b66",
   "metadata": {},
   "outputs": [],
   "source": [
    "x[0] = x0"
   ]
  },
  {
   "cell_type": "code",
   "execution_count": null,
   "id": "c4aad204",
   "metadata": {},
   "outputs": [],
   "source": [
    "u = u"
   ]
  },
  {
   "cell_type": "code",
   "execution_count": null,
   "id": "347a54bd",
   "metadata": {},
   "outputs": [],
   "source": [
    "m.options.imode = 4\n",
    "m.solve(disp=False)"
   ]
  },
  {
   "cell_type": "code",
   "execution_count": null,
   "id": "eb721b2f",
   "metadata": {},
   "outputs": [],
   "source": []
  }
 ],
 "metadata": {
  "kernelspec": {
   "display_name": "Python 3 (ipykernel)",
   "language": "python",
   "name": "python3"
  },
  "language_info": {
   "codemirror_mode": {
    "name": "ipython",
    "version": 3
   },
   "file_extension": ".py",
   "mimetype": "text/x-python",
   "name": "python",
   "nbconvert_exporter": "python",
   "pygments_lexer": "ipython3",
   "version": "3.9.4"
  }
 },
 "nbformat": 4,
 "nbformat_minor": 5
}
