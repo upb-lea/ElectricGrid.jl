{
 "cells": [
  {
   "cell_type": "code",
   "execution_count": null,
   "id": "4b107524",
   "metadata": {},
   "outputs": [],
   "source": [
    "import time\n",
    "\n",
    "from gekko import GEKKO\n",
    "import numpy as np\n",
    "import matplotlib.pyplot as plt\n"
   ]
  },
  {
   "cell_type": "code",
   "execution_count": null,
   "id": "320aa6f0",
   "metadata": {},
   "outputs": [],
   "source": [
    "ts = 1e-3\n",
    "t_end = 0.1\n",
    "steps = int(1/ts)\n",
    "t = np.linspace(0, t_end, steps)\n",
    "\n",
    "f0 = 50\n",
    "V_eff = 230 *np.sqrt(2)\n",
    "\n",
    "v_sin1 = V_eff * np.sin(2*np.pi * f0 * t)\n",
    "v_sin2 = V_eff * np.sin(2*np.pi * f0 * t + 0.5)\n",
    "plt.plot(t, v_sin1)\n",
    "plt.plot(t, v_sin2)\n",
    "plt.xlabel('Time (s)')\n",
    "plt.grid()\n",
    "#plt.ylim(225, 235)\n",
    "#plt.legend()\n",
    "plt.show()\n",
    "\n",
    "R = 0.4\n",
    "L = 2.3e-3\n",
    "C = 10e-6\n",
    "\n",
    "LT = 2.3e-3\n",
    "\n",
    "R_load = 14"
   ]
  },
  {
   "cell_type": "code",
   "execution_count": null,
   "id": "c48e624c",
   "metadata": {},
   "outputs": [],
   "source": [
    "\n",
    "#   Initialize Model empty model as m\n",
    "m = GEKKO(remote=False)\n",
    "\n",
    "#Input\n",
    "vi1 = m.Param(value=230)\n",
    "vi2 = m.Param(value=230)\n",
    "#vi1 = m.Param(value=v_sin1)#230)\n",
    "#vi2 = m.Param(value=v_sin2)#230)\n",
    "\n",
    "# Mdoel params\n",
    "R1 = m.Param(value=R)\n",
    "L1 = m.Param(value=L)\n",
    "C1 = m.Param(value=C)\n",
    "RT1 = m.Param(value=R)\n",
    "LT1 = m.Param(value=LT)\n",
    "\n",
    "R2 = m.Param(value=R)\n",
    "L2 = m.Param(value=L)\n",
    "C2 = m.Param(value=C)\n",
    "RT2 = m.Param(value=R)\n",
    "LT2 = m.Param(value=LT)\n",
    "\n",
    "RLoad = m.Param(value=R_load)\n",
    "# iLoad = m.Var(value=0) # Uncommend if you want to \"New version\"\n",
    "\n",
    "v1 = m.Var(value=0)\n",
    "i1 = m.Var(value=0)\n",
    "v2 = m.Var(value=0)\n",
    "i2 = m.Var(value=0)\n",
    "iT1 = m.Var(value=0)\n",
    "iT2 = m.Var(value=0)"
   ]
  },
  {
   "cell_type": "markdown",
   "id": "9b5c29d0",
   "metadata": {},
   "source": [
    "### Old version"
   ]
  },
  {
   "cell_type": "code",
   "execution_count": null,
   "id": "bd04e666",
   "metadata": {},
   "outputs": [],
   "source": [
    "# DGLs node1\n",
    "m.Equation(i1.dt() == (vi1 - v1)/L1 - R1/L1 * i1)\n",
    "m.Equation(v1.dt() == (i1 - iT1)/C1)\n",
    "m.Equation(iT1.dt() == v1 / LT1 - RT1 / LT1 * iT1 - RLoad / LT1 * iLoad)\n",
    "\n",
    "# DGLs node2\n",
    "m.Equation(i2.dt() == (vi2 - v2)/L2 - R2/L2 * i2)\n",
    "m.Equation(v2.dt() == (i2 - iT2)/C1)\n",
    "m.Equation(iT2.dt() == v2 / LT2 - RT2 / LT2 * iT2 - RLoad / LT2 * iLoad)\n",
    "\n",
    "# constraints\n",
    "m.Equation(iLoad == iT1 + iT2)\n",
    "\n",
    "m.options.IMODE = 4  # oder 4?\n",
    "m.time = t # time points"
   ]
  },
  {
   "cell_type": "markdown",
   "id": "61be26bc",
   "metadata": {},
   "source": [
    "### New version\n",
    "$iload = iT1 + iT2$"
   ]
  },
  {
   "cell_type": "code",
   "execution_count": null,
   "id": "94f90701",
   "metadata": {},
   "outputs": [],
   "source": [
    "# DGLs node1\n",
    "m.Equation(i1.dt() == (vi1 - v1)/L1 - R1/L1 * i1)\n",
    "m.Equation(v1.dt() == (i1 - iT1)/C1)\n",
    "m.Equation(iT1.dt() == v1 / LT1 - (RT1 + RLoad) / LT1 * iT1 - RLoad / LT1 * iT2)\n",
    "\n",
    "# DGLs node2\n",
    "m.Equation(i2.dt() == (vi2 - v2)/L2 - R2/L2 * i2)\n",
    "m.Equation(v2.dt() == (i2 - iT2)/C1)\n",
    "m.Equation(iT2.dt() == v2 / LT2 - (RT2 + RLoad) / LT2 * iT2 - RLoad / LT2 * iT1)\n",
    "\n",
    "m.options.IMODE = 4  # oder 4?\n",
    "m.time = t # time points"
   ]
  },
  {
   "cell_type": "code",
   "execution_count": null,
   "id": "748ea6e9",
   "metadata": {
    "scrolled": true
   },
   "outputs": [],
   "source": [
    "m.solve()"
   ]
  },
  {
   "cell_type": "code",
   "execution_count": null,
   "id": "55869181",
   "metadata": {},
   "outputs": [],
   "source": [
    "plt.plot(m.time, v1, 'r', label='V1')\n",
    "plt.plot(m.time, v2, 'b', label='V2')\n",
    "plt.xlabel('Time (s)')\n",
    "plt.ylabel('Voltage (V)')\n",
    "plt.grid()\n",
    "plt.xlim([0, 0.005])\n",
    "#plt.ylim(225, 235)\n",
    "plt.legend()\n",
    "plt.show()\n",
    "\n",
    "plt.plot(m.time, iLoad)\n",
    "plt.xlabel('Time (s)')\n",
    "plt.ylabel('load Current (A)')\n",
    "plt.grid()\n",
    "plt.xlim([0, 0.005])\n",
    "#plt.ylim(225, 235)\n",
    "plt.legend()\n",
    "plt.show()"
   ]
  },
  {
   "cell_type": "markdown",
   "id": "7c9475af",
   "metadata": {},
   "source": [
    "### Evaluating runtime"
   ]
  },
  {
   "cell_type": "code",
   "execution_count": null,
   "id": "ba38f455",
   "metadata": {},
   "outputs": [],
   "source": [
    "%time m.solve(disp=False)"
   ]
  },
  {
   "cell_type": "code",
   "execution_count": null,
   "id": "7e69ff5b",
   "metadata": {
    "scrolled": true
   },
   "outputs": [],
   "source": [
    "%timeit m.solve(disp=False)"
   ]
  },
  {
   "cell_type": "code",
   "execution_count": null,
   "id": "f995bbf2",
   "metadata": {
    "scrolled": true
   },
   "outputs": [],
   "source": [
    "start = time.time()\n",
    "m.solve(disp=False)\n",
    "end = time.time()\n",
    "elapsed_time = end - start\n",
    "\n",
    "print(f'Time for solving: {elapsed_time:.3f}')"
   ]
  },
  {
   "cell_type": "code",
   "execution_count": null,
   "id": "eae847a1",
   "metadata": {},
   "outputs": [],
   "source": []
  }
 ],
 "metadata": {
  "kernelspec": {
   "display_name": "Python 3 (ipykernel)",
   "language": "python",
   "name": "python3"
  },
  "language_info": {
   "codemirror_mode": {
    "name": "ipython",
    "version": 3
   },
   "file_extension": ".py",
   "mimetype": "text/x-python",
   "name": "python",
   "nbconvert_exporter": "python",
   "pygments_lexer": "ipython3",
   "version": "3.9.4"
  }
 },
 "nbformat": 4,
 "nbformat_minor": 5
}
