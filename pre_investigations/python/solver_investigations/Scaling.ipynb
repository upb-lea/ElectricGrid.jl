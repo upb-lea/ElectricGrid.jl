{
 "cells": [
  {
   "cell_type": "code",
   "execution_count": null,
   "id": "c6fc6900",
   "metadata": {},
   "outputs": [],
   "source": [
    "import numpy as np\n",
    "import matplotlib.pyplot as plt\n",
    "import scipy\n",
    "import control\n",
    "import copy\n",
    "import networkx as nx\n",
    "import random"
   ]
  },
  {
   "cell_type": "code",
   "execution_count": null,
   "id": "5a26ada7",
   "metadata": {},
   "outputs": [],
   "source": [
    "# define time vector\n",
    "ts = 1e-4\n",
    "t_end = 0.1\n",
    "steps = int(1/ts)\n",
    "t = np.arange(0, t_end+ts, ts)\n",
    "num_samples = len(t)\n",
    "\n",
    "# define values of the parameter\n",
    "R = 0.4\n",
    "L = 2.3e-3\n",
    "C = 10e-6\n",
    "LT = 2.3e-3\n",
    "R_load = 14\n",
    "\n",
    "vi1 = 230\n",
    "vi2 = 230\n",
    "\n",
    "f0 = 50\n",
    "V_eff = 230 * np.sqrt(2)\n",
    "\n",
    "v_sin1 = V_eff * np.sin(2*np.pi * f0 * t)\n",
    "v_sin2 = V_eff * np.sin(2*np.pi * f0 * t+1)"
   ]
  },
  {
   "cell_type": "code",
   "execution_count": null,
   "id": "c3ad0908",
   "metadata": {},
   "outputs": [],
   "source": [
    "u = np.array([vi1, vi2])[:,None] * np.ones((2,len(t)))\n",
    "u_sin = np.array([v_sin1, v_sin2])"
   ]
  },
  {
   "cell_type": "markdown",
   "id": "c6d0d8f7",
   "metadata": {},
   "source": [
    "## 2 Nodes with 2 connections"
   ]
  },
  {
   "cell_type": "code",
   "execution_count": null,
   "id": "39f3cde5",
   "metadata": {},
   "outputs": [],
   "source": [
    "#def varaibles\n",
    "\n",
    "R1 = R\n",
    "L1 = L\n",
    "C1 = C\n",
    "R2 = R\n",
    "L2 = L\n",
    "C2 = C\n",
    "LT1 = LT\n",
    "LT2 = LT\n",
    "RT1 = R\n",
    "RT2 = R"
   ]
  },
  {
   "cell_type": "code",
   "execution_count": null,
   "id": "bf26a8e5",
   "metadata": {},
   "outputs": [],
   "source": [
    "i10 = 0\n",
    "v10 = 0\n",
    "iT10 = 0\n",
    "i20 = 0\n",
    "v20 = 0\n",
    "iT20 = 0\n",
    "t0 = 0\n",
    "\n",
    "# x0 = np.array([i10, v10, iT10, i20, v20, iT20])\n",
    "x0 = [i10, v10, iT10, i20, v20, iT20]"
   ]
  },
  {
   "cell_type": "code",
   "execution_count": null,
   "id": "00706d8b",
   "metadata": {},
   "outputs": [],
   "source": [
    "A_source1 = np.array([[-R1/L1, -1/L1],\n",
    "                     [1/C, 0]])\n",
    "\n",
    "A_source2 = np.array([[-R2/L2, -1/L2],\n",
    "                     [1/C, 0]])\n",
    "\n",
    "A_zeros = np.zeros((2,2))\n",
    "\n",
    "A_source = np.block([[A_source1, A_zeros],\n",
    "                     [A_zeros, A_source2]])"
   ]
  },
  {
   "cell_type": "code",
   "execution_count": null,
   "id": "ec2bc6e8",
   "metadata": {},
   "outputs": [],
   "source": [
    "A_col1 = np.array([[0,0],\n",
    "                   [-1/C1, 0]])\n",
    "\n",
    "A_col2 = np.array([[0,0],\n",
    "                   [0, -1/C2]])\n",
    "\n",
    "A_col = np.block([[A_col1],\n",
    "                 [A_col2]])"
   ]
  },
  {
   "cell_type": "code",
   "execution_count": null,
   "id": "83b38285",
   "metadata": {},
   "outputs": [],
   "source": [
    "A_row1 = np.array([[0, 1/LT1],\n",
    "                  [0, 0]])\n",
    "\n",
    "A_row2 = np.array([[0, 0],\n",
    "                  [0, 1/LT2]])\n",
    "\n",
    "A_row = np.block([A_row1, A_row2])"
   ]
  },
  {
   "cell_type": "code",
   "execution_count": null,
   "id": "354eb689",
   "metadata": {},
   "outputs": [],
   "source": [
    "A_transitions = np.array([[-(RT1+R_load)/LT1, -R_load/LT1],\n",
    "                          [-R_load/LT1, -(RT2+R_load)/LT2]])"
   ]
  },
  {
   "cell_type": "code",
   "execution_count": null,
   "id": "5c080938",
   "metadata": {},
   "outputs": [],
   "source": [
    "A_1 = np.block([[A_source, A_col],\n",
    "              [A_row, A_transitions]])"
   ]
  },
  {
   "cell_type": "code",
   "execution_count": null,
   "id": "4130182c",
   "metadata": {},
   "outputs": [],
   "source": [
    "B_source1 = np.array([[1/L1, 0],\n",
    "                     [0, 0]])\n",
    "B_source2 = np.array([[0, 1/L2],\n",
    "                     [0, 0]])\n",
    "\n",
    "B_transition = np.zeros((2,2))\n",
    "\n",
    "B_1 = np.block([[B_source1],\n",
    "              [B_source2],\n",
    "              [B_transition]])"
   ]
  },
  {
   "cell_type": "code",
   "execution_count": null,
   "id": "503476da",
   "metadata": {},
   "outputs": [],
   "source": [
    "C_1 = np.eye(6)"
   ]
  },
  {
   "cell_type": "code",
   "execution_count": null,
   "id": "24ce4228",
   "metadata": {},
   "outputs": [],
   "source": [
    "D_1 = 0"
   ]
  },
  {
   "cell_type": "code",
   "execution_count": null,
   "id": "c7c76da2",
   "metadata": {},
   "outputs": [],
   "source": [
    "sys_1 = control.ss(A_1, B_1, C_1, D_1)"
   ]
  },
  {
   "cell_type": "code",
   "execution_count": null,
   "id": "ba150098",
   "metadata": {},
   "outputs": [],
   "source": [
    "T, yout, xout = control.forced_response(sys_1, T=t, U=u_sin, X0=x0, return_x=True, squeeze=True)"
   ]
  },
  {
   "cell_type": "code",
   "execution_count": null,
   "id": "4b38cb5d",
   "metadata": {},
   "outputs": [],
   "source": [
    "plt.plot(t, xout[1], label='v1')\n",
    "# plt.plot(t,result[:steps,0], label = 'i1')\n",
    "plt.xlabel(r'$t\\,/\\,\\mathrm{s}$')\n",
    "plt.ylabel('$v_{\\mathrm{1}}\\,/\\,\\mathrm{V}$')\n",
    "# plt.title('{}'.format())\n",
    "plt.legend()\n",
    "plt.grid()\n",
    "plt.show()"
   ]
  },
  {
   "cell_type": "markdown",
   "id": "95ff7fe4",
   "metadata": {},
   "source": [
    "## 2 Nodes with 3 connections"
   ]
  },
  {
   "cell_type": "code",
   "execution_count": null,
   "id": "f3674d52",
   "metadata": {},
   "outputs": [],
   "source": [
    "# define values of the parameter\n",
    "R = 0.4\n",
    "L = 2.3e-3\n",
    "C = 10e-6\n",
    "LT = 2.3e-3\n",
    "R_load = 14\n",
    "\n",
    "vi1 = 230\n",
    "vi2 = 230"
   ]
  },
  {
   "cell_type": "code",
   "execution_count": null,
   "id": "b65c17c0",
   "metadata": {},
   "outputs": [],
   "source": [
    "#def varaibles\n",
    "\n",
    "R1 = R\n",
    "L1 = L\n",
    "C1 = C\n",
    "R2 = R\n",
    "L2 = L\n",
    "C2 = C\n",
    "LT12 = LT\n",
    "LT23 = LT\n",
    "LT13 = LT\n",
    "RT12 = R # For checking result set this on to inf\n",
    "RT23 = R\n",
    "RT13 = R"
   ]
  },
  {
   "cell_type": "code",
   "execution_count": null,
   "id": "0a4ee18c",
   "metadata": {},
   "outputs": [],
   "source": [
    "i10 = 0\n",
    "v10 = 0\n",
    "i20 = 0\n",
    "v20 = 0\n",
    "iT120 = 0\n",
    "iT230 = 0\n",
    "iT130 = 0\n",
    "t0 = 0\n",
    "\n",
    "# x0 = np.array([i10, v10, iT10, i20, v20, iT20])\n",
    "x0 = [i10, v10, i20, v20, iT120, iT230, iT130]"
   ]
  },
  {
   "cell_type": "code",
   "execution_count": null,
   "id": "05574a05",
   "metadata": {},
   "outputs": [],
   "source": [
    "A_source1 = np.array([[-R1/L1, -1/L1],\n",
    "                     [1/C, 0]])\n",
    "A_source2 = np.array([[-R2/L2, -1/L2],\n",
    "                     [1/C, 0]])\n",
    "\n",
    "A_zeros = np.zeros((2,2))\n",
    "\n",
    "A_source_2 = np.block([[A_source1, A_zeros],\n",
    "                     [A_zeros, A_source2]])"
   ]
  },
  {
   "cell_type": "code",
   "execution_count": null,
   "id": "73aa65d3",
   "metadata": {},
   "outputs": [],
   "source": [
    "A_source"
   ]
  },
  {
   "cell_type": "code",
   "execution_count": null,
   "id": "157e8cfe",
   "metadata": {},
   "outputs": [],
   "source": [
    "A_col1 = np.array([[0,0,0],\n",
    "                   [-1/C1, -1/C1, 0]])\n",
    "A_col2 = np.array([[0,0,0],\n",
    "                   [1/C2, 0, -1/C2]])\n",
    "A_col_2 = np.block([[A_col1],\n",
    "                 [A_col2]])\n",
    "\n",
    "A_row1 = np.array([[0, 1/LT12],\n",
    "                  [0, 1/LT13],\n",
    "                  [0, 0]])\n",
    "\n",
    "A_row2 = np.array([[0, -1/LT12],\n",
    "                  [0, 0],\n",
    "                  [0, 1/LT23]])\n",
    "\n",
    "A_row_2 = np.block([A_row1, A_row2])"
   ]
  },
  {
   "cell_type": "code",
   "execution_count": null,
   "id": "850128a6",
   "metadata": {},
   "outputs": [],
   "source": [
    "A_transitions_2 = np.array([[-RT12/LT12, 0, 0],\n",
    "                          [0, -(RT13+R_load)/LT13, -R_load/LT13],\n",
    "                          [0, -R_load/LT23, -(RT23+R_load)/LT23]])"
   ]
  },
  {
   "cell_type": "code",
   "execution_count": null,
   "id": "fb2ac4fd",
   "metadata": {},
   "outputs": [],
   "source": [
    "A_2 = np.block([[A_source_2, A_col_2],\n",
    "              [A_row_2, A_transitions_2]])"
   ]
  },
  {
   "cell_type": "code",
   "execution_count": null,
   "id": "557ffed2",
   "metadata": {},
   "outputs": [],
   "source": [
    "B_source1_2 = np.array([[1/L1, 0],\n",
    "                     [0, 0]])\n",
    "B_source2_2 = np.array([[0, 1/L2],\n",
    "                     [0, 0]])\n",
    "\n",
    "B_transition = np.zeros((3,2))\n",
    "\n",
    "B_2 = np.block([[B_source1_2],\n",
    "              [B_source2_2],\n",
    "              [B_transition]])"
   ]
  },
  {
   "cell_type": "code",
   "execution_count": null,
   "id": "5d8bb259",
   "metadata": {},
   "outputs": [],
   "source": [
    "C_2 = np.eye(7)"
   ]
  },
  {
   "cell_type": "code",
   "execution_count": null,
   "id": "136a94c0",
   "metadata": {},
   "outputs": [],
   "source": [
    "D_2 = 0"
   ]
  },
  {
   "cell_type": "code",
   "execution_count": null,
   "id": "cef86b1e",
   "metadata": {},
   "outputs": [],
   "source": [
    "sys_2 = control.ss(A_2, B_2, C_2, D_2)"
   ]
  },
  {
   "cell_type": "code",
   "execution_count": null,
   "id": "1d32a78f",
   "metadata": {},
   "outputs": [],
   "source": [
    "T, yout, xout = control.forced_response(sys_2, T=t, U=u, X0=x0, return_x=True, squeeze=True)"
   ]
  },
  {
   "cell_type": "code",
   "execution_count": null,
   "id": "1fbd1ed6",
   "metadata": {},
   "outputs": [],
   "source": [
    "plt.plot(t, xout[1], label='v1')\n",
    "# plt.plot(t,result[:steps,0], label = 'i1')\n",
    "plt.xlabel(r'$t\\,/\\,\\mathrm{s}$')\n",
    "plt.ylabel('$v_{\\mathrm{1}}\\,/\\,\\mathrm{V}$')\n",
    "# plt.title('{}'.format())\n",
    "# plt.xlim(0, 0.05)\n",
    "plt.legend()\n",
    "plt.grid()\n",
    "plt.show()"
   ]
  },
  {
   "cell_type": "code",
   "execution_count": null,
   "id": "28413b3c",
   "metadata": {},
   "outputs": [],
   "source": []
  },
  {
   "cell_type": "markdown",
   "id": "2cd115d8",
   "metadata": {},
   "source": [
    "# Playground"
   ]
  },
  {
   "cell_type": "code",
   "execution_count": null,
   "id": "c2f5f37d",
   "metadata": {},
   "outputs": [],
   "source": [
    "R = 0.4\n",
    "L = 2.3e-3\n",
    "C = 10e-6\n",
    "LT = 2.3e-3\n",
    "R_load = 14"
   ]
  },
  {
   "cell_type": "code",
   "execution_count": null,
   "id": "3b26a093",
   "metadata": {},
   "outputs": [],
   "source": [
    "parameter = dict()\n",
    "parameter['R_source'] = R\n",
    "parameter['L_source'] = L\n",
    "parameter['C_source'] = C\n",
    "parameter['L_cabel'] = LT\n",
    "parameter['R_cabel'] = R\n",
    "parameter['R_load'] = R_load"
   ]
  },
  {
   "cell_type": "code",
   "execution_count": null,
   "id": "3817f300",
   "metadata": {},
   "outputs": [],
   "source": [
    "class NodeConstructor:\n",
    "    def __init__(self, num_source, num_loads, parameter, S2S_p=0.1, S2L_p=0.8, CM=None):\n",
    "        self.num_source = num_source\n",
    "        self.num_loads = num_loads\n",
    "        self.tot_ele = num_source + num_loads\n",
    "        self.S2S_p = S2S_p\n",
    "        self.S2L_p = S2L_p\n",
    "        self.cntr = 0\n",
    "        self.num_connections = 0\n",
    "        \n",
    "        # unpack parameters\n",
    "        self.parameter = parameter\n",
    "        self.R_source = parameter['R_source']\n",
    "        self.L_source = parameter['L_source']\n",
    "        self.C_source = parameter['C_source']\n",
    "        self.R_cabel = parameter['R_cabel']\n",
    "        self.L_cabel = parameter['L_cabel']\n",
    "        self.R_load = parameter['R_load']\n",
    "        \n",
    "        if isinstance(CM, np.ndarray):\n",
    "            assert CM.shape[0] == self.tot_ele, \"Expect CM to have the same number of elements as tot_ele.\"\n",
    "            self.CM = CM\n",
    "            self.num_connections=np.amax(CM)\n",
    "        elif CM == None:\n",
    "            self.generate_CM()\n",
    "        else:\n",
    "            raise f\"Expect CM to be an np.ndarray or None not {type(CM)}.\"\n",
    "    \n",
    "    def tobe_or_n2b(self, x, p):\n",
    "        \n",
    "        # To count up the connection, cntr is returned.\n",
    "        # If only one type of cabel is used this is not necessary an can be replaced by 1\n",
    "        \n",
    "        if x < p:\n",
    "            self.cntr += 1  \n",
    "            return self.cntr\n",
    "        else:\n",
    "            x = 0\n",
    "            return x\n",
    "    \n",
    "    def count_up(self):\n",
    "        self.cntr += 1\n",
    "        return self.cntr\n",
    "    \n",
    "    def generate_CM(self):\n",
    "        '''\n",
    "        Constructs the CM\n",
    "        '''\n",
    "        \n",
    "        self.cntr = 0\n",
    "\n",
    "        # Get a upper triangular matrix\n",
    "        mask = np.tri(self.tot_ele).T\n",
    "        CM = np.random.rand(self.tot_ele,self.tot_ele) * mask # fill matrix with random entries between [0,1]\n",
    "        CM = CM - np.eye(CM.shape[0]) * np.diag(CM) # delet diagonal bc no connection with itself\n",
    "        \n",
    "        # Go throught the matrix\n",
    "        # -1 bc last entrie is 0 anyway\n",
    "        # start at i, bc we need to check only upper triangle\n",
    "\n",
    "        for i in range(self.tot_ele-1): \n",
    "            for j in range(i, self.tot_ele-1):\n",
    "                if j >= self.num_source-1: # select propability according to column\n",
    "                    CM[i, j+1] = self.tobe_or_n2b(CM[i, j+1], self.S2L_p)\n",
    "                else:\n",
    "                    CM[i, j+1] = self.tobe_or_n2b(CM[i, j+1], self.S2S_p)\n",
    "        \n",
    "        # make sure that no objects disappear or subnets are formed\n",
    "        for i in range(self.tot_ele):\n",
    "            entries = list()\n",
    "            \n",
    "            # save rows and columns entries\n",
    "            Col = CM[:i,i]\n",
    "            Row = CM[i,i+1:]\n",
    "            \n",
    "            # get one list in the form of: [column, row]-entries\n",
    "            entries.append(CM[:i,i].tolist())\n",
    "            entries.append(CM[i,i+1:].tolist())\n",
    "            entries = [item for sublist in entries for item in sublist]\n",
    "\n",
    "            non_zero = np.sum([entries[i] != 0 for i in range(len(entries))]) # number of non_zero entries\n",
    "            zero = np.sum([entries[i] == 0 for i in range(len(entries))]) # number of zero entries\n",
    "\n",
    "            val_to_set = min(2, zero) # minimum of connections is 2\n",
    "            \n",
    "            if non_zero <= 2: # we need to set values if there are less then 2 entries\n",
    "                idx_list = list() # create list to store indexes\n",
    "                idx_row_entries = np.where(0==Col) # Get rows of the entries = 0\n",
    "                idx_col_entries = np.where(0==Row) # Get col of the entries = 0\n",
    "\n",
    "                idx_row_entries = idx_row_entries[0].tolist()\n",
    "                idx_col_entries = idx_col_entries[0].tolist()\n",
    "\n",
    "                idx_list.append([(j,i) for _,j in enumerate(idx_row_entries)]) \n",
    "                idx_list.append([(i,i+j+1) for _,j in enumerate(idx_col_entries)])\n",
    "                idx_list = [item for sublist in idx_list for item in sublist]\n",
    "                \n",
    "                samples = np.array(val_to_set).clip(0, len(idx_list)) \n",
    "                idx_rnd = random.sample(range(0,len(idx_list)), samples) # draw samples from the list\n",
    "                idx_rnd = np.array(idx_rnd) \n",
    "                \n",
    "                for _, ix in enumerate(idx_rnd):\n",
    "                    # Based on the random sample, select an indize\n",
    "                    # from the list and write into the corresponding CM cell.\n",
    "                    CM[idx_list[ix]] = self.count_up() \n",
    "            \n",
    "        CM = CM - CM.T # copy with negative sign to lower triangle\n",
    "        \n",
    "        self.CM = CM\n",
    "        \n",
    "        self.num_connections = self.cntr\n",
    "        pass\n",
    "        \n",
    "    \n",
    "    def get_A_source(self):\n",
    "        # this matrix is always a 2x2 for inverter\n",
    "        A_source = np.zeros((2,2))\n",
    "        A_source[0,0] = -self.R_source/self.L_source\n",
    "        A_source[0,1] = -1/self.L_source\n",
    "        A_source[1,0] =  1/self.C_source\n",
    "        return A_source\n",
    "    \n",
    "    def get_B_source(self):\n",
    "        B_source = np.zeros((2,1))\n",
    "        B_source[0,0] =  1/self.L_source\n",
    "        return B_source\n",
    "    \n",
    "    def get_A_col(self, source_x):\n",
    "        # this matrix is (2 x num_connections)\n",
    "        # for this case self.C_source is assumed to be just an int.\n",
    "        # Later self.C_source could be an array with the diffrent paramters and would be indexed via self.C_source[source_x]\n",
    "        \n",
    "        A_col = np.zeros((2, self.num_connections))\n",
    "        \n",
    "        CM_row = self.CM[source_x-1]\n",
    "        \n",
    "        indizes = list(CM_row[CM_row != 0]) # get entries unequal 0\n",
    "        signs = np.sign(indizes) # get signs\n",
    "        indizes_ = indizes*signs # delet signs from indices\n",
    "        indizes_.astype(dtype=np.int32)\n",
    "        \n",
    "        for i, (idx, sign) in enumerate(zip(indizes_, signs)):\n",
    "            idx = int(idx)\n",
    "            \n",
    "            A_col[1,idx-1] = sign * -1/self.C_source\n",
    "                                        \n",
    "        return A_col\n",
    "    \n",
    "    def get_A_row(self, source_x):\n",
    "        \n",
    "        A_row = np.zeros((2, self.num_connections))\n",
    "        \n",
    "        CM_col = self.CM[source_x-1]\n",
    "        \n",
    "        indizes = list(CM_col[CM_col != 0]) # get entries unequal 0\n",
    "        \n",
    "        signs = np.sign(indizes) # get signs\n",
    "        indizes_ = indizes*signs # delet signs from indices\n",
    "        \n",
    "        for i, (idx, sign) in enumerate(zip(indizes_, signs)):\n",
    "            idx = int(idx)\n",
    "            A_row[1,idx-1] = sign *1/self.L_cabel \n",
    "        \n",
    "        return A_row.T\n",
    "    \n",
    "    def get_A_transitions(self):\n",
    "        A_transitions = np.zeros((self.num_connections, self.num_connections))\n",
    "        for i in range(1,self.num_connections+1):\n",
    "            (row, col) = np.where(self.CM==i)\n",
    "            (row_idx, col_idx) = (row[0], col[0])\n",
    "            \n",
    "            # check if its a S2S connection\n",
    "            if col_idx < self.num_source: # row_idx < self.num_source and \n",
    "                \n",
    "                A_transitions[i-1,i-1] = -self.R_cabel/self.L_cabel # self.R_cabel[i] and self.L_cabel[i]\n",
    "                \n",
    "            # Then it has to be S2L\n",
    "            else:\n",
    "                # easy diagonal entry\n",
    "                A_transitions[i-1,i-1] = -(self.R_cabel + self.R_load)/self.L_cabel # (self.R_cabel[i] + self.R_load[col_idx])/self.L_cabel[i] -> self.R_load[col_idx]? not sure\n",
    "                \n",
    "                # search for other connections to this specific load in the colum\n",
    "                CM_col = self.CM[:,col_idx]\n",
    "                \n",
    "                mask = np.logical_and(CM_col > 0, CM_col != i) # i bc we already cover this case\n",
    "                indizes = list(CM_col[mask])\n",
    "                \n",
    "                # cross entries for the other connections to this load\n",
    "                for j, idx in enumerate(indizes):\n",
    "                    idx = int(idx)\n",
    "                    A_transitions[i-1, idx-1] = -self.R_load/self.L_cabel # self.L_cabel[i] if LT is an arry with diffrent values and self.R_load[col_idx]?\n",
    "        \n",
    "        return A_transitions\n",
    "    \n",
    "    def generate_A(self):\n",
    "        # get A_source\n",
    "        A_source = np.zeros((2*self.num_source,2*self.num_source)) # construct matrix of zeros\n",
    "        A_source_list = [self.get_A_source() for i in range(self.num_source)]\n",
    "                \n",
    "        for i, ele in enumerate(A_source_list):\n",
    "            start = 2*i\n",
    "            stop = 2*i+2\n",
    "            A_source[start:stop,start:stop] = ele\n",
    "        \n",
    "        # get A_col\n",
    "        A_col = np.zeros((2*self.num_source, self.num_connections))\n",
    "        A_col_list = [self.get_A_col(i) for i in range(1,self.num_source+1)] # start at 1 bc Source 1 ...\n",
    "        \n",
    "        for i, ele in enumerate(A_col_list):\n",
    "            start = 2*i\n",
    "            stop = 2*i+2\n",
    "            A_col[start:stop,:] = ele\n",
    "        \n",
    "        # get A_row\n",
    "        A_row = np.zeros((self.num_connections, 2*self.num_source))\n",
    "        A_row_list = [self.get_A_row(i) for i in range(1,self.num_source+1)] # start at 1 bc Source 1 ...\n",
    "        \n",
    "        for i, ele in enumerate(A_row_list):\n",
    "            start = 2*i\n",
    "            stop = 2*i+2\n",
    "            A_row[:,start:stop] = ele\n",
    "            \n",
    "        A_transitions = self.get_A_transitions()\n",
    "        \n",
    "        A = np.block([[A_source, A_col],\n",
    "                     [A_row, A_transitions]])\n",
    "        \n",
    "        return A\n",
    "    \n",
    "    def generate_B(self):\n",
    "        \n",
    "        B = np.zeros((2*self.num_source+self.num_connections,self.num_source))\n",
    "        \n",
    "        B_source_list = [self.get_B_source() for i in range(1,self.num_source+1)] # start at 1 bc Source 1 ...\n",
    "        for i, ele in enumerate(B_source_list):\n",
    "#             start_c = i\n",
    "#             stop_c = i+1\n",
    "            start_r = 2*i\n",
    "            stop_r = 2*i+2\n",
    "            B[start_r:stop_r,i:i+1] = ele\n",
    "        return B\n",
    "    \n",
    "    def generate_C(self):\n",
    "        return np.eye(2*self.num_source+self.num_connections)\n",
    "    \n",
    "    def generate_D(self):\n",
    "        return 0\n",
    "    \n",
    "    def get_sys(self):\n",
    "        A = self.generate_A()\n",
    "        B = self.generate_B()\n",
    "        C = self.generate_C()\n",
    "        D = self.generate_D()\n",
    "        return (A, B, C, D)\n",
    "    \n",
    "    def draw_graph(self):\n",
    "        \n",
    "        edges = []\n",
    "        color = []\n",
    "        for i in range(1, self.num_connections+1):\n",
    "            (row, col) = np.where(self.CM==i)\n",
    "            (row_idx, col_idx) = (row[0]+1, col[0]+1)\n",
    "            edges.append((row_idx, col_idx))\n",
    "            if row_idx <= self.num_source:\n",
    "                color.append('red')\n",
    "            else:\n",
    "                color.append('blue')\n",
    "        \n",
    "        G = nx.Graph(edges)\n",
    "        \n",
    "        color_map = []\n",
    "\n",
    "        for node in G:\n",
    "            if node <= self.num_source:\n",
    "                color_map.append('red')\n",
    "            else:\n",
    "                color_map.append('lightblue')\n",
    "\n",
    "        nx.draw(G, node_color=color_map, with_labels = True)\n",
    "        plt.show()\n",
    "        \n",
    "        pass"
   ]
  },
  {
   "cell_type": "code",
   "execution_count": null,
   "id": "23b8692f",
   "metadata": {},
   "outputs": [],
   "source": [
    "Test = NodeConstructor(10, 8, S2S_p=0, S2L_p=0, parameter=parameter)"
   ]
  },
  {
   "cell_type": "code",
   "execution_count": null,
   "id": "abd39cff",
   "metadata": {},
   "outputs": [],
   "source": [
    "Test.draw_graph()"
   ]
  },
  {
   "cell_type": "markdown",
   "id": "6c309c7c",
   "metadata": {},
   "source": [
    "There is a solution to bypass the creation of subnets that is definitely simpler than the one implemented here. To do this, the entries along the corresponding column and row must be checked from the sub-diagonal (start at row 0/column 1 -> [i, i+1]). If there are 2 entries in total, there is a connection to the rest of the net. If this is guaranteed for all entries along the diagonal all objects in a net are connected. Should the case occur that only 1 or 0 entries are present in sum, random values must be set, either in row or column. \\\n",
    "The procedure would be to save all indexes of the zero entries in a list and then sample an entry randomly which is then set."
   ]
  },
  {
   "cell_type": "markdown",
   "id": "54ef7712",
   "metadata": {},
   "source": [
    "### Check the 2 Source with 2 connections case"
   ]
  },
  {
   "cell_type": "code",
   "execution_count": null,
   "id": "3b7ea45c",
   "metadata": {},
   "outputs": [],
   "source": [
    "# define CM\n",
    "CM = np.array([[0, 0, 1],\n",
    "               [0, 0, 2],\n",
    "               [-1, -2, 0]])"
   ]
  },
  {
   "cell_type": "code",
   "execution_count": null,
   "id": "29556d41",
   "metadata": {},
   "outputs": [],
   "source": [
    "Node_2S_2C = NodeConstructor(2, 1, parameter, CM = CM) # 2 Source with 2 connections"
   ]
  },
  {
   "cell_type": "code",
   "execution_count": null,
   "id": "38e7762c",
   "metadata": {},
   "outputs": [],
   "source": [
    "i10 = 0\n",
    "v10 = 0\n",
    "iT10 = 0\n",
    "i20 = 0\n",
    "v20 = 0\n",
    "iT20 = 0\n",
    "t0 = 0\n",
    "\n",
    "# x0 = np.array([i10, v10, iT10, i20, v20, iT20])\n",
    "x0 = [i10, v10, iT10, i20, v20, iT20]"
   ]
  },
  {
   "cell_type": "code",
   "execution_count": null,
   "id": "fc15a875",
   "metadata": {},
   "outputs": [],
   "source": [
    "A, B, C, D = Node_2S_2C.get_sys()"
   ]
  },
  {
   "cell_type": "code",
   "execution_count": null,
   "id": "f1157528",
   "metadata": {},
   "outputs": [],
   "source": [
    "A == A_1, B == B_1, C == C_1"
   ]
  },
  {
   "cell_type": "code",
   "execution_count": null,
   "id": "066bfdf3",
   "metadata": {},
   "outputs": [],
   "source": [
    "sys = control.ss(A, B, C, D)\n",
    "T, yout, xout = control.forced_response(sys, T=t, U=u, X0=x0, return_x=True, squeeze=True)\n",
    "\n",
    "plt.plot(t, xout[1], label='v1')\n",
    "# plt.plot(t,result[:steps,0], label = 'i1')\n",
    "plt.xlabel(r'$t\\,/\\,\\mathrm{s}$')\n",
    "plt.ylabel('$v_{\\mathrm{1}}\\,/\\,\\mathrm{V}$')\n",
    "# plt.title('{}'.format())\n",
    "plt.legend()\n",
    "plt.grid()\n",
    "plt.show()"
   ]
  },
  {
   "cell_type": "code",
   "execution_count": null,
   "id": "570eb572",
   "metadata": {},
   "outputs": [],
   "source": [
    "Node_2S_2C.draw_graph()"
   ]
  },
  {
   "cell_type": "markdown",
   "id": "edfea8ae",
   "metadata": {},
   "source": [
    "### Check the 2 Source with 3 connections case"
   ]
  },
  {
   "cell_type": "code",
   "execution_count": null,
   "id": "db283999",
   "metadata": {},
   "outputs": [],
   "source": [
    "Node_2S_3C = NodeConstructor(2, 1, S2S_p=1, S2L_p=1, parameter=parameter) # 2 Source with 3 connections"
   ]
  },
  {
   "cell_type": "code",
   "execution_count": null,
   "id": "abdb44c1",
   "metadata": {},
   "outputs": [],
   "source": [
    "A, B, C, D = Node_2S_3C.get_sys()"
   ]
  },
  {
   "cell_type": "code",
   "execution_count": null,
   "id": "0f2f6159",
   "metadata": {},
   "outputs": [],
   "source": [
    "A == A_2, B == B_2"
   ]
  },
  {
   "cell_type": "code",
   "execution_count": null,
   "id": "d1987ba4",
   "metadata": {},
   "outputs": [],
   "source": [
    "# x0 has 7 values\n",
    "i10 = 0\n",
    "v10 = 0\n",
    "i20 = 0\n",
    "v20 = 0\n",
    "iT120 = 0\n",
    "iT230 = 0\n",
    "iT130 = 0\n",
    "t0 = 0\n",
    "\n",
    "# x0 = np.array([i10, v10, iT10, i20, v20, iT20])\n",
    "x0 = [i10, v10, i20, v20, iT120, iT230, iT130]\n",
    "\n",
    "\n",
    "sys = control.ss(A, B, C, D)\n",
    "T, yout, xout = control.forced_response(sys, T=t, U=u_sin, X0=x0, return_x=True, squeeze=True)\n",
    "\n",
    "plt.plot(t, xout[1], label='v1')\n",
    "# plt.plot(t,result[:steps,0], label = 'i1')\n",
    "plt.xlabel(r'$t\\,/\\,\\mathrm{s}$')\n",
    "plt.ylabel('$v_{\\mathrm{1}}\\,/\\,\\mathrm{V}$')\n",
    "# plt.title('{}'.format())\n",
    "plt.legend()\n",
    "plt.grid()\n",
    "plt.show()"
   ]
  },
  {
   "cell_type": "code",
   "execution_count": null,
   "id": "d0b16f31",
   "metadata": {},
   "outputs": [],
   "source": [
    "Node_2S_3C.draw_graph()"
   ]
  },
  {
   "cell_type": "markdown",
   "id": "8f7f5830",
   "metadata": {},
   "source": [
    "### Arbitrary number of source and loads"
   ]
  },
  {
   "cell_type": "code",
   "execution_count": null,
   "id": "88fe45b4",
   "metadata": {
    "scrolled": true
   },
   "outputs": [],
   "source": [
    "# %timeit Node_S5_L20 = NodeConstructor(10, 1, S2S=0, S2L=1, parameter=parameter)"
   ]
  },
  {
   "cell_type": "code",
   "execution_count": null,
   "id": "e2027092",
   "metadata": {},
   "outputs": [],
   "source": [
    "Node_S5_L20 = NodeConstructor(10, 5, S2S_p=0.3, S2L_p=0.9, parameter=parameter)"
   ]
  },
  {
   "cell_type": "code",
   "execution_count": null,
   "id": "b9f947ff",
   "metadata": {},
   "outputs": [],
   "source": [
    "A, B, C, D = Node_S5_L20.get_sys() "
   ]
  },
  {
   "cell_type": "code",
   "execution_count": null,
   "id": "a790682f",
   "metadata": {},
   "outputs": [],
   "source": [
    "Node_S5_L20.draw_graph()"
   ]
  },
  {
   "cell_type": "code",
   "execution_count": null,
   "id": "efa506a4",
   "metadata": {},
   "outputs": [],
   "source": [
    "sys = control.ss(A, B, C, D)\n",
    "\n",
    "# generate init state\n",
    "x0 = np.zeros((A.shape[0],1))\n",
    "\n",
    "# generate input signal\n",
    "u = np.array([vi1]).repeat(Node_S5_L20.num_source)[:,None] * np.ones((Node_S5_L20.num_source,len(t)))\n",
    "\n",
    "\n",
    "T, yout, xout = control.forced_response(sys, T=t, U=u, X0=x0, return_x=True, squeeze=True)\n",
    "\n",
    "plt.plot(t, xout[1], label='v1')\n",
    "# plt.plot(t,result[:steps,0], label = 'i1')\n",
    "plt.xlabel(r'$t\\,/\\,\\mathrm{s}$')\n",
    "plt.ylabel('$v_{\\mathrm{1}}\\,/\\,\\mathrm{V}$')\n",
    "# plt.title('{}'.format())\n",
    "plt.legend()\n",
    "plt.grid()\n",
    "plt.show()"
   ]
  },
  {
   "cell_type": "markdown",
   "id": "9b94cb63",
   "metadata": {},
   "source": [
    "### Set probability to zero"
   ]
  },
  {
   "cell_type": "code",
   "execution_count": null,
   "id": "e8d0c0eb",
   "metadata": {},
   "outputs": [],
   "source": [
    "Test = NodeConstructor(4, 3, S2S_p=0, S2L_p=0, parameter=parameter)"
   ]
  },
  {
   "cell_type": "code",
   "execution_count": null,
   "id": "c92027a1",
   "metadata": {},
   "outputs": [],
   "source": [
    "Test.CM"
   ]
  },
  {
   "cell_type": "code",
   "execution_count": null,
   "id": "050f00d9",
   "metadata": {},
   "outputs": [],
   "source": [
    "Test.draw_graph()"
   ]
  },
  {
   "cell_type": "code",
   "execution_count": null,
   "id": "dc70a83b",
   "metadata": {},
   "outputs": [],
   "source": [
    "A, B, C, D = Test.get_sys() "
   ]
  },
  {
   "cell_type": "code",
   "execution_count": null,
   "id": "73e07bf4",
   "metadata": {},
   "outputs": [],
   "source": [
    "sys = control.ss(A, B, C, D)\n",
    "\n",
    "# generate init state\n",
    "x0 = np.zeros((A.shape[0],1))\n",
    "\n",
    "# generate input signal\n",
    "u = np.array([vi1]).repeat(Test.num_source)[:,None] * np.ones((Test.num_source,len(t)))\n",
    "\n",
    "\n",
    "T, yout, xout = control.forced_response(sys, T=t, U=u, X0=x0, return_x=True, squeeze=True)\n",
    "\n",
    "plt.plot(t, xout[1], label='v1')\n",
    "# plt.plot(t,result[:steps,0], label = 'i1')\n",
    "plt.xlabel(r'$t\\,/\\,\\mathrm{s}$')\n",
    "plt.ylabel('$v_{\\mathrm{1}}\\,/\\,\\mathrm{V}$')\n",
    "# plt.title('{}'.format())\n",
    "plt.legend()\n",
    "plt.grid()\n",
    "plt.show()"
   ]
  },
  {
   "cell_type": "code",
   "execution_count": null,
   "id": "6d773ae2",
   "metadata": {},
   "outputs": [],
   "source": []
  },
  {
   "cell_type": "markdown",
   "id": "1940ae7d",
   "metadata": {},
   "source": [
    "### Here starts the debugging"
   ]
  },
  {
   "cell_type": "code",
   "execution_count": null,
   "id": "268b13e8",
   "metadata": {},
   "outputs": [],
   "source": [
    "total_ele = 7"
   ]
  },
  {
   "cell_type": "code",
   "execution_count": null,
   "id": "bc25858d",
   "metadata": {},
   "outputs": [],
   "source": []
  },
  {
   "cell_type": "code",
   "execution_count": null,
   "id": "913087ef",
   "metadata": {},
   "outputs": [],
   "source": [
    "CM = np.array([[0, 0, 1, 2, 0, 3, 4],\n",
    "               [0, 0, 0, 5, 0, 6, 7],\n",
    "               [0, 0, 0, 8, 0, 9, 0],\n",
    "               [0, 0, 0, 0, 0, 10, 11],\n",
    "               [0, 0, 0, 0, 0, 12, 0],\n",
    "               [0, 0, 0, 0, 0, 0, 0],\n",
    "               [0, 0, 0, 0, 0, 0, 0],])"
   ]
  },
  {
   "cell_type": "code",
   "execution_count": null,
   "id": "498ba75c",
   "metadata": {},
   "outputs": [],
   "source": []
  },
  {
   "cell_type": "code",
   "execution_count": null,
   "id": "3db04add",
   "metadata": {},
   "outputs": [],
   "source": [
    "CM_test = CM - CM.T # copy with negative sign to lower triangle"
   ]
  },
  {
   "cell_type": "code",
   "execution_count": null,
   "id": "c0f328a5",
   "metadata": {},
   "outputs": [],
   "source": [
    "CM_test"
   ]
  },
  {
   "cell_type": "code",
   "execution_count": null,
   "id": "71f89caf",
   "metadata": {},
   "outputs": [],
   "source": [
    "\n",
    "for i in range(total_ele):\n",
    "    entries = list()\n",
    "    Col = CM_test[:i,i]\n",
    "    Row = CM_test[i,i+1:]\n",
    "    \n",
    "    entries.append(CM_test[:i,i].tolist())\n",
    "    entries.append(CM_test[i,i+1:].tolist())\n",
    "    entries = [item for sublist in entries for item in sublist]\n",
    "    \n",
    "    non_zero = np.sum([entries[i] != 0 for i in range(len(entries))]) # number of non_zero entries\n",
    "    zero = np.sum([entries[i] == 0 for i in range(len(entries))]) # number of zero entries\n",
    "    \n",
    "    val_to_set = min(2,non_zero) # minimum of connections is 2\n",
    "    \n",
    "    if non_zero <= 2:\n",
    "        idx_list = list()\n",
    "        idx_row_entries = np.where(0==Col) # Get rows of the entries = 0\n",
    "        idx_col_entries = np.where(0==Row) # Get col of the entries = 0\n",
    "                \n",
    "        idx_row_entries = idx_row_entries[0].tolist()\n",
    "        idx_col_entries = idx_col_entries[0].tolist()\n",
    "        \n",
    "        idx_list.append([(j,i) for _,j in enumerate(idx_row_entries)])\n",
    "        idx_list.append([(i,i+j+1) for _,j in enumerate(idx_col_entries)])\n",
    "        idx_list = [item for sublist in idx_list for item in sublist]\n",
    "        \n",
    "        samples = val_to_set.clip(0, len(idx_list))\n",
    "        idx_rnd = random.sample(range(0,len(idx_list)), samples)\n",
    "        idx_rnd = np.array(idx_rnd)\n",
    "        \n",
    "        for _, ix in enumerate(idx_rnd):\n",
    "            print(f'idx_list[ix]: {idx_list[ix]}')\n",
    "            print(f'CM_test[idx_list[ix]]: {CM_test[idx_list[ix]]}')\n",
    "            CM_test[idx_list[ix]] = 1 # set entry\n",
    "        \n",
    "        \n",
    "        \n",
    "        raise\n",
    "#         print(non_zero)\n",
    "#         print(val_to_set)"
   ]
  },
  {
   "cell_type": "code",
   "execution_count": null,
   "id": "babcd526",
   "metadata": {},
   "outputs": [],
   "source": [
    "l = (1,0,2)"
   ]
  },
  {
   "cell_type": "code",
   "execution_count": null,
   "id": "d70e8eb8",
   "metadata": {},
   "outputs": [],
   "source": [
    "range(len(l))"
   ]
  },
  {
   "cell_type": "code",
   "execution_count": null,
   "id": "65339585",
   "metadata": {},
   "outputs": [],
   "source": [
    "[l[i] != 0 for i in range(len(l))]"
   ]
  },
  {
   "cell_type": "code",
   "execution_count": null,
   "id": "186b4231",
   "metadata": {
    "scrolled": true
   },
   "outputs": [],
   "source": [
    "test2 = NodeConstructor(3, 4, parameter, CM = CM)\n",
    "test2.CM\n",
    "test2.draw_graph()"
   ]
  },
  {
   "cell_type": "code",
   "execution_count": null,
   "id": "e3ac4d48",
   "metadata": {},
   "outputs": [],
   "source": [
    "test2.CM"
   ]
  },
  {
   "cell_type": "code",
   "execution_count": null,
   "id": "05fae2da",
   "metadata": {},
   "outputs": [],
   "source": [
    "test2.draw_graph()"
   ]
  },
  {
   "cell_type": "code",
   "execution_count": null,
   "id": "a346df18",
   "metadata": {},
   "outputs": [],
   "source": [
    "test2.num_connections"
   ]
  },
  {
   "cell_type": "code",
   "execution_count": null,
   "id": "8c89157b",
   "metadata": {},
   "outputs": [],
   "source": [
    "Test = CM"
   ]
  },
  {
   "cell_type": "code",
   "execution_count": null,
   "id": "1f895af2",
   "metadata": {},
   "outputs": [],
   "source": [
    "row1 = Test[1,2:]"
   ]
  },
  {
   "cell_type": "code",
   "execution_count": null,
   "id": "9cecf44b",
   "metadata": {},
   "outputs": [],
   "source": []
  },
  {
   "cell_type": "code",
   "execution_count": null,
   "id": "19433653",
   "metadata": {},
   "outputs": [],
   "source": []
  },
  {
   "cell_type": "code",
   "execution_count": null,
   "id": "77839b8c",
   "metadata": {},
   "outputs": [],
   "source": []
  },
  {
   "cell_type": "code",
   "execution_count": null,
   "id": "e49365da",
   "metadata": {},
   "outputs": [],
   "source": []
  },
  {
   "cell_type": "code",
   "execution_count": null,
   "id": "87cc4e98",
   "metadata": {},
   "outputs": [],
   "source": [
    "A = np.array([0])\n",
    "idx = np.array([0])\n",
    "B = A[idx]"
   ]
  },
  {
   "cell_type": "code",
   "execution_count": null,
   "id": "da1a7fd5",
   "metadata": {},
   "outputs": [],
   "source": [
    "G = nx.Graph()"
   ]
  },
  {
   "cell_type": "code",
   "execution_count": null,
   "id": "659e7b0c",
   "metadata": {},
   "outputs": [],
   "source": [
    "options = {\n",
    "    \"font_size\": 36,\n",
    "    \"node_size\": 3000,\n",
    "    \"node_color\": \"white\",\n",
    "    \"edgecolors\": \"black\",\n",
    "    \"linewidths\": 5,\n",
    "    \"width\": 5,\n",
    "}"
   ]
  },
  {
   "cell_type": "code",
   "execution_count": null,
   "id": "c8a10444",
   "metadata": {},
   "outputs": [],
   "source": [
    "num_connections=np.amax(CM)\n",
    "edges = list()\n",
    "\n",
    "print(CM)\n",
    "\n",
    "for i in range(1, num_connections+1):\n",
    "    (row, col) = np.where(CM==i)\n",
    "    (row_idx, col_idx) = (row[0]+1, col[0]+1)\n",
    "    edges.append((row_idx, col_idx))\n",
    "print(edges)\n",
    "\n",
    "\n"
   ]
  },
  {
   "cell_type": "code",
   "execution_count": null,
   "id": "03ce57cf",
   "metadata": {},
   "outputs": [],
   "source": [
    "G = nx.Graph(edges, **options)\n",
    "nx.draw(G, with_labels = True)\n",
    "plt.show()"
   ]
  },
  {
   "cell_type": "code",
   "execution_count": null,
   "id": "4aa53784",
   "metadata": {},
   "outputs": [],
   "source": []
  },
  {
   "cell_type": "code",
   "execution_count": null,
   "id": "cab35728",
   "metadata": {},
   "outputs": [],
   "source": [
    "num_connections = 2\n",
    "num_source = 2"
   ]
  },
  {
   "cell_type": "code",
   "execution_count": null,
   "id": "9498e046",
   "metadata": {},
   "outputs": [],
   "source": [
    "# define CM\n",
    "CM = np.array([[0, 0, 1],\n",
    "               [0, 0, 2],\n",
    "               [-1, -2, 0]])"
   ]
  },
  {
   "cell_type": "code",
   "execution_count": null,
   "id": "6c849428",
   "metadata": {},
   "outputs": [],
   "source": [
    "edges = []\n",
    "\n",
    "for i in range(1, num_connections+1):\n",
    "    (row, col) = np.where(CM==i)\n",
    "    (row_idx, col_idx) = (row[0]+1, col[0]+1)\n",
    "    edges.append((row_idx, col_idx))\n",
    "    \n",
    "\n",
    "print(len(edges))\n",
    "print(len(color))\n",
    "\n",
    "G = nx.Graph(edges)\n",
    "\n",
    "color_map = []\n",
    "\n",
    "for node in G:\n",
    "    if node <= num_source:\n",
    "        color_map.append('red')\n",
    "    else:\n",
    "        color_map.append('blue')\n",
    "\n",
    "nx.draw(G, node_color=color_map, with_labels = True)\n",
    "\n",
    "plt.show()"
   ]
  },
  {
   "cell_type": "code",
   "execution_count": null,
   "id": "854c380d",
   "metadata": {},
   "outputs": [],
   "source": []
  },
  {
   "cell_type": "code",
   "execution_count": null,
   "id": "fa6d4f0d",
   "metadata": {},
   "outputs": [],
   "source": []
  },
  {
   "cell_type": "code",
   "execution_count": null,
   "id": "3e633ce1",
   "metadata": {},
   "outputs": [],
   "source": []
  },
  {
   "cell_type": "code",
   "execution_count": null,
   "id": "cc569d1e",
   "metadata": {},
   "outputs": [],
   "source": []
  },
  {
   "cell_type": "code",
   "execution_count": null,
   "id": "f87e26f3",
   "metadata": {},
   "outputs": [],
   "source": []
  },
  {
   "cell_type": "code",
   "execution_count": null,
   "id": "55f36a7a",
   "metadata": {},
   "outputs": [],
   "source": []
  },
  {
   "cell_type": "code",
   "execution_count": null,
   "id": "8c88eb72",
   "metadata": {},
   "outputs": [],
   "source": []
  },
  {
   "cell_type": "code",
   "execution_count": null,
   "id": "455e9ba8",
   "metadata": {},
   "outputs": [],
   "source": []
  }
 ],
 "metadata": {
  "kernelspec": {
   "display_name": "Python 3 (ipykernel)",
   "language": "python",
   "name": "python3"
  },
  "language_info": {
   "codemirror_mode": {
    "name": "ipython",
    "version": 3
   },
   "file_extension": ".py",
   "mimetype": "text/x-python",
   "name": "python",
   "nbconvert_exporter": "python",
   "pygments_lexer": "ipython3",
   "version": "3.9.4"
  }
 },
 "nbformat": 4,
 "nbformat_minor": 5
}
