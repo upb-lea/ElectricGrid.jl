{
 "cells": [
  {
   "cell_type": "code",
   "execution_count": null,
   "id": "c6fc6900",
   "metadata": {},
   "outputs": [],
   "source": [
    "import numpy as np\n",
    "import matplotlib.pyplot as plt\n",
    "import scipy\n",
    "import control\n",
    "import copy"
   ]
  },
  {
   "cell_type": "code",
   "execution_count": null,
   "id": "5a26ada7",
   "metadata": {},
   "outputs": [],
   "source": [
    "# define time vector\n",
    "ts = 1e-4\n",
    "t_end = 0.1\n",
    "steps = int(1/ts)\n",
    "t = np.arange(0, t_end+ts, ts)\n",
    "num_samples = len(t)\n",
    "\n",
    "# define values of the parameter\n",
    "R = 0.4\n",
    "L = 2.3e-3\n",
    "C = 10e-6\n",
    "LT = 2.3e-3\n",
    "R_load = 14\n",
    "\n",
    "vi1 = 230\n",
    "vi2 = 230"
   ]
  },
  {
   "cell_type": "code",
   "execution_count": null,
   "id": "425b32e0",
   "metadata": {},
   "outputs": [],
   "source": [
    "u = np.array([vi1, vi2])[:,None] * np.ones((2,len(t)))"
   ]
  },
  {
   "cell_type": "markdown",
   "id": "b31cd3c5",
   "metadata": {},
   "source": [
    "## 2 Nodes with 2 connections"
   ]
  },
  {
   "cell_type": "code",
   "execution_count": null,
   "id": "d05e6dd1",
   "metadata": {},
   "outputs": [],
   "source": [
    "#def varaibles\n",
    "\n",
    "R1 = R\n",
    "L1 = L\n",
    "C1 = C\n",
    "R2 = R\n",
    "L2 = L\n",
    "C2 = C\n",
    "LT1 = LT\n",
    "LT2 = LT\n",
    "RT1 = R\n",
    "RT2 = R"
   ]
  },
  {
   "cell_type": "code",
   "execution_count": null,
   "id": "2a2cbab5",
   "metadata": {},
   "outputs": [],
   "source": [
    "i10 = 0\n",
    "v10 = 0\n",
    "iT10 = 0\n",
    "i20 = 0\n",
    "v20 = 0\n",
    "iT20 = 0\n",
    "t0 = 0\n",
    "\n",
    "# x0 = np.array([i10, v10, iT10, i20, v20, iT20])\n",
    "x0 = [i10, v10, iT10, i20, v20, iT20]"
   ]
  },
  {
   "cell_type": "code",
   "execution_count": null,
   "id": "788a7bf3",
   "metadata": {},
   "outputs": [],
   "source": [
    "A_source1 = np.array([[-R1/L1, -1/L1],\n",
    "                     [1/C, 0]])\n",
    "\n",
    "A_source2 = np.array([[-R2/L2, -1/L2],\n",
    "                     [1/C, 0]])\n",
    "\n",
    "A_zeros = np.zeros((2,2))\n",
    "\n",
    "A_source = np.block([[A_source1, A_zeros],\n",
    "                     [A_zeros, A_source2]])"
   ]
  },
  {
   "cell_type": "code",
   "execution_count": null,
   "id": "03196f92",
   "metadata": {},
   "outputs": [],
   "source": [
    "A_col1 = np.array([[0,0],\n",
    "                   [-1/C1, 0]])\n",
    "\n",
    "A_col2 = np.array([[0,0],\n",
    "                   [0, -1/C2]])\n",
    "\n",
    "A_col = np.block([[A_col1],\n",
    "                 [A_col1]])"
   ]
  },
  {
   "cell_type": "code",
   "execution_count": null,
   "id": "b00baaa2",
   "metadata": {},
   "outputs": [],
   "source": [
    "A_row1 = np.array([[0, 1/LT1],\n",
    "                  [0, 0]])\n",
    "\n",
    "A_row2 = np.array([[0, 0],\n",
    "                  [0, 1/LT2]])\n",
    "\n",
    "A_row = np.block([A_row1, A_row2])"
   ]
  },
  {
   "cell_type": "code",
   "execution_count": null,
   "id": "428549c9",
   "metadata": {},
   "outputs": [],
   "source": [
    "A_transitions = np.array([[-(RT1+R_load)/LT1, -R_load/LT1],\n",
    "                          [-R_load/LT1, -(RT2+R_load)/LT2]])"
   ]
  },
  {
   "cell_type": "code",
   "execution_count": null,
   "id": "93952346",
   "metadata": {},
   "outputs": [],
   "source": [
    "A = np.block([[A_source, A_col],\n",
    "              [A_row, A_transitions]])"
   ]
  },
  {
   "cell_type": "code",
   "execution_count": null,
   "id": "d8ccf838",
   "metadata": {},
   "outputs": [],
   "source": [
    "B_source1 = np.array([[1/L1, 0],\n",
    "                     [0, 0]])\n",
    "B_source2 = np.array([[0, 1/L2],\n",
    "                     [0, 0]])\n",
    "\n",
    "B_transition = np.zeros((2,2))\n",
    "\n",
    "B = np.block([[B_source1],\n",
    "              [B_source2],\n",
    "              [B_transition]])"
   ]
  },
  {
   "cell_type": "code",
   "execution_count": null,
   "id": "0da90e04",
   "metadata": {},
   "outputs": [],
   "source": [
    "C = np.ones((1,6))"
   ]
  },
  {
   "cell_type": "code",
   "execution_count": null,
   "id": "4a7ecd46",
   "metadata": {},
   "outputs": [],
   "source": [
    "D = 0"
   ]
  },
  {
   "cell_type": "code",
   "execution_count": null,
   "id": "6b97c4c8",
   "metadata": {},
   "outputs": [],
   "source": [
    "sys = control.ss(A, B, C, D)"
   ]
  },
  {
   "cell_type": "code",
   "execution_count": null,
   "id": "442c30a8",
   "metadata": {},
   "outputs": [],
   "source": [
    "T, yout, xout = control.forced_response(sys, T=t, U=u, X0=x0, return_x=True, squeeze=True)"
   ]
  },
  {
   "cell_type": "code",
   "execution_count": null,
   "id": "bce33d2d",
   "metadata": {},
   "outputs": [],
   "source": [
    "xout.shape"
   ]
  },
  {
   "cell_type": "code",
   "execution_count": null,
   "id": "db4521a2",
   "metadata": {},
   "outputs": [],
   "source": [
    "plt.plot(t, xout[1], label='v1')\n",
    "# plt.plot(t,result[:steps,0], label = 'i1')\n",
    "plt.xlabel(r'$t\\,/\\,\\mathrm{s}$')\n",
    "plt.ylabel('$v_{\\mathrm{1}}\\,/\\,\\mathrm{V}$')\n",
    "# plt.title('{}'.format())\n",
    "plt.legend()\n",
    "plt.grid()\n",
    "plt.show()"
   ]
  },
  {
   "cell_type": "markdown",
   "id": "95ff7fe4",
   "metadata": {},
   "source": [
    "## 2 Nodes with 3 connections"
   ]
  },
  {
   "cell_type": "code",
   "execution_count": null,
   "id": "b65c17c0",
   "metadata": {},
   "outputs": [],
   "source": [
    "#def varaibles\n",
    "\n",
    "R1 = R\n",
    "L1 = L\n",
    "C1 = C\n",
    "R2 = R\n",
    "L2 = L\n",
    "C2 = C\n",
    "LT12 = LT\n",
    "LT23 = LT\n",
    "LT13 = LT\n",
    "RT12 = R # For checking result set this on to inf\n",
    "RT23 = R\n",
    "RT13 = R"
   ]
  },
  {
   "cell_type": "code",
   "execution_count": null,
   "id": "0a4ee18c",
   "metadata": {},
   "outputs": [],
   "source": [
    "i10 = 0\n",
    "v10 = 0\n",
    "i20 = 0\n",
    "v20 = 0\n",
    "iT120 = 0\n",
    "iT230 = 0\n",
    "iT130 = 0\n",
    "t0 = 0\n",
    "\n",
    "# x0 = np.array([i10, v10, iT10, i20, v20, iT20])\n",
    "x0 = [i10, v10, i20, v20, iT120, iT230, iT130]"
   ]
  },
  {
   "cell_type": "code",
   "execution_count": null,
   "id": "05574a05",
   "metadata": {},
   "outputs": [],
   "source": [
    "A_source1 = np.array([[-R1/L1, -1/L1],\n",
    "                     [1/C, 0]])\n",
    "A_source2 = np.array([[-R2/L2, -1/L2],\n",
    "                     [1/C, 0]])\n",
    "\n",
    "A_zeros = np.zeros((2,2))\n",
    "\n",
    "A_source = np.block([[A_source1, A_zeros],\n",
    "                     [A_zeros, A_source2]])"
   ]
  },
  {
   "cell_type": "code",
   "execution_count": null,
   "id": "b9898a54",
   "metadata": {},
   "outputs": [],
   "source": [
    "A_col1 = np.array([[0,0,0],\n",
    "                   [-1/C1, -1/C1, 0]])\n",
    "A_col2 = np.array([[0,0,0],\n",
    "                   [1/C2, 0, -1/C2]])\n",
    "A_col = np.block([[A_col1],\n",
    "                 [A_col1]])\n",
    "\n",
    "A_row1 = np.array([[0, 1/LT12],\n",
    "                  [0, 1/LT13],\n",
    "                  [0, 0]])\n",
    "\n",
    "A_row2 = np.array([[0, 1/LT12],\n",
    "                  [0, 0],\n",
    "                  [0, 1/LT23]])\n",
    "\n",
    "A_row = np.block([A_row1, A_row2])"
   ]
  },
  {
   "cell_type": "code",
   "execution_count": null,
   "id": "2811f6b0",
   "metadata": {},
   "outputs": [],
   "source": [
    "A_transitions = np.array([[-RT12/LT12, 0, 0],\n",
    "                          [0, -(RT13+R_load)/LT13, -R_load/LT13],\n",
    "                          [0, -R_load/LT23, -(RT23+R_load)/LT23]])"
   ]
  },
  {
   "cell_type": "code",
   "execution_count": null,
   "id": "afb42c19",
   "metadata": {},
   "outputs": [],
   "source": [
    "A = np.block([[A_source, A_col],\n",
    "              [A_row, A_transitions]])"
   ]
  },
  {
   "cell_type": "code",
   "execution_count": null,
   "id": "d159377a",
   "metadata": {},
   "outputs": [],
   "source": [
    "B_source1 = np.array([[1/L1, 0],\n",
    "                     [0, 0]])\n",
    "B_source2 = np.array([[0, 1/L2],\n",
    "                     [0, 0]])\n",
    "\n",
    "B_transition = np.zeros((3,2))\n",
    "\n",
    "B = np.block([[B_source1],\n",
    "              [B_source2],\n",
    "              [B_transition]])"
   ]
  },
  {
   "cell_type": "code",
   "execution_count": null,
   "id": "2ec591d3",
   "metadata": {},
   "outputs": [],
   "source": [
    "C = np.ones((1,7))"
   ]
  },
  {
   "cell_type": "code",
   "execution_count": null,
   "id": "7c5415ae",
   "metadata": {},
   "outputs": [],
   "source": [
    "D = 0"
   ]
  },
  {
   "cell_type": "code",
   "execution_count": null,
   "id": "02c47d9d",
   "metadata": {},
   "outputs": [],
   "source": [
    "sys = control.ss(A, B, C, D)"
   ]
  },
  {
   "cell_type": "code",
   "execution_count": null,
   "id": "20837d8e",
   "metadata": {},
   "outputs": [],
   "source": [
    "T, yout, xout = control.forced_response(sys, T=t, U=u, X0=x0, return_x=True, squeeze=True)"
   ]
  },
  {
   "cell_type": "code",
   "execution_count": null,
   "id": "473ab69f",
   "metadata": {},
   "outputs": [],
   "source": [
    "plt.plot(t, xout[1], label='v1')\n",
    "# plt.plot(t,result[:steps,0], label = 'i1')\n",
    "plt.xlabel(r'$t\\,/\\,\\mathrm{s}$')\n",
    "plt.ylabel('$v_{\\mathrm{1}}\\,/\\,\\mathrm{V}$')\n",
    "# plt.title('{}'.format())\n",
    "plt.legend()\n",
    "plt.grid()\n",
    "plt.show()"
   ]
  },
  {
   "cell_type": "code",
   "execution_count": null,
   "id": "682d7c32",
   "metadata": {},
   "outputs": [],
   "source": []
  },
  {
   "cell_type": "markdown",
   "id": "d88b86a2",
   "metadata": {},
   "source": [
    "# Playground"
   ]
  },
  {
   "cell_type": "code",
   "execution_count": null,
   "id": "d4b534ca",
   "metadata": {},
   "outputs": [],
   "source": [
    "def generate_transitions(num_con, C, LT):\n",
    "    return ()"
   ]
  },
  {
   "cell_type": "code",
   "execution_count": null,
   "id": "41ec17ec",
   "metadata": {},
   "outputs": [],
   "source": [
    "def generate_source(R, C, L):\n",
    "    A = np.zeros((2,2))\n",
    "    A[0,0] = -R/L\n",
    "    A[0,1] = -1/L\n",
    "    A[1,0] =  1/C\n",
    "    return A"
   ]
  },
  {
   "cell_type": "code",
   "execution_count": null,
   "id": "834743e3",
   "metadata": {},
   "outputs": [],
   "source": [
    "con_m = np.array([[0,1,2],\n",
    "                  [1,0,3],\n",
    "                  [2,3,0]], dtype=np.int32)"
   ]
  },
  {
   "cell_type": "code",
   "execution_count": null,
   "id": "51d63446",
   "metadata": {},
   "outputs": [],
   "source": []
  },
  {
   "cell_type": "code",
   "execution_count": null,
   "id": "8c4a709e",
   "metadata": {},
   "outputs": [],
   "source": [
    "num_source = 2 # total number of sources\n",
    "num_con = 3 # num of total transition lines"
   ]
  }
 ],
 "metadata": {
  "kernelspec": {
   "display_name": "Python 3 (ipykernel)",
   "language": "python",
   "name": "python3"
  },
  "language_info": {
   "codemirror_mode": {
    "name": "ipython",
    "version": 3
   },
   "file_extension": ".py",
   "mimetype": "text/x-python",
   "name": "python",
   "nbconvert_exporter": "python",
   "pygments_lexer": "ipython3",
   "version": "3.9.4"
  }
 },
 "nbformat": 4,
 "nbformat_minor": 5
}
