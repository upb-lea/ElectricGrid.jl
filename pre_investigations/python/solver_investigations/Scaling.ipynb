{
 "cells": [
  {
   "cell_type": "code",
   "execution_count": null,
   "id": "c6fc6900",
   "metadata": {},
   "outputs": [],
   "source": [
    "import numpy as np\n",
    "import matplotlib.pyplot as plt\n",
    "import scipy\n",
    "import control\n",
    "import copy"
   ]
  },
  {
   "cell_type": "code",
   "execution_count": null,
   "id": "5a26ada7",
   "metadata": {},
   "outputs": [],
   "source": [
    "# define time vector\n",
    "ts = 1e-4\n",
    "t_end = 0.1\n",
    "steps = int(1/ts)\n",
    "t = np.arange(0, t_end+ts, ts)\n",
    "num_samples = len(t)\n",
    "\n",
    "# define values of the parameter\n",
    "R = 0.4\n",
    "L = 2.3e-3\n",
    "C = 10e-6\n",
    "LT = 2.3e-3\n",
    "R_load = 14\n",
    "\n",
    "vi1 = 230\n",
    "vi2 = 230"
   ]
  },
  {
   "cell_type": "code",
   "execution_count": null,
   "id": "c3ad0908",
   "metadata": {},
   "outputs": [],
   "source": [
    "u = np.array([vi1, vi2])[:,None] * np.ones((2,len(t)))"
   ]
  },
  {
   "cell_type": "markdown",
   "id": "c6d0d8f7",
   "metadata": {},
   "source": [
    "## 2 Nodes with 2 connections"
   ]
  },
  {
   "cell_type": "code",
   "execution_count": null,
   "id": "39f3cde5",
   "metadata": {},
   "outputs": [],
   "source": [
    "#def varaibles\n",
    "\n",
    "R1 = R\n",
    "L1 = L\n",
    "C1 = C\n",
    "R2 = R\n",
    "L2 = L\n",
    "C2 = C\n",
    "LT1 = LT\n",
    "LT2 = LT\n",
    "RT1 = R\n",
    "RT2 = R"
   ]
  },
  {
   "cell_type": "code",
   "execution_count": null,
   "id": "bf26a8e5",
   "metadata": {},
   "outputs": [],
   "source": [
    "i10 = 0\n",
    "v10 = 0\n",
    "iT10 = 0\n",
    "i20 = 0\n",
    "v20 = 0\n",
    "iT20 = 0\n",
    "t0 = 0\n",
    "\n",
    "# x0 = np.array([i10, v10, iT10, i20, v20, iT20])\n",
    "x0 = [i10, v10, iT10, i20, v20, iT20]"
   ]
  },
  {
   "cell_type": "code",
   "execution_count": null,
   "id": "00706d8b",
   "metadata": {},
   "outputs": [],
   "source": [
    "A_source1 = np.array([[-R1/L1, -1/L1],\n",
    "                     [1/C, 0]])\n",
    "\n",
    "A_source2 = np.array([[-R2/L2, -1/L2],\n",
    "                     [1/C, 0]])\n",
    "\n",
    "A_zeros = np.zeros((2,2))\n",
    "\n",
    "A_source = np.block([[A_source1, A_zeros],\n",
    "                     [A_zeros, A_source2]])"
   ]
  },
  {
   "cell_type": "code",
   "execution_count": null,
   "id": "ec2bc6e8",
   "metadata": {},
   "outputs": [],
   "source": [
    "A_col1 = np.array([[0,0],\n",
    "                   [-1/C1, 0]])\n",
    "\n",
    "A_col2 = np.array([[0,0],\n",
    "                   [0, -1/C2]])\n",
    "\n",
    "A_col = np.block([[A_col1],\n",
    "                 [A_col1]])"
   ]
  },
  {
   "cell_type": "code",
   "execution_count": null,
   "id": "83b38285",
   "metadata": {},
   "outputs": [],
   "source": [
    "A_row1 = np.array([[0, 1/LT1],\n",
    "                  [0, 0]])\n",
    "\n",
    "A_row2 = np.array([[0, 0],\n",
    "                  [0, 1/LT2]])\n",
    "\n",
    "A_row = np.block([A_row1, A_row2])"
   ]
  },
  {
   "cell_type": "code",
   "execution_count": null,
   "id": "354eb689",
   "metadata": {},
   "outputs": [],
   "source": [
    "A_transitions = np.array([[-(RT1+R_load)/LT1, -R_load/LT1],\n",
    "                          [-R_load/LT1, -(RT2+R_load)/LT2]])"
   ]
  },
  {
   "cell_type": "code",
   "execution_count": null,
   "id": "5c080938",
   "metadata": {},
   "outputs": [],
   "source": [
    "A = np.block([[A_source, A_col],\n",
    "              [A_row, A_transitions]])"
   ]
  },
  {
   "cell_type": "code",
   "execution_count": null,
   "id": "4130182c",
   "metadata": {},
   "outputs": [],
   "source": [
    "B_source1 = np.array([[1/L1, 0],\n",
    "                     [0, 0]])\n",
    "B_source2 = np.array([[0, 1/L2],\n",
    "                     [0, 0]])\n",
    "\n",
    "B_transition = np.zeros((2,2))\n",
    "\n",
    "B = np.block([[B_source1],\n",
    "              [B_source2],\n",
    "              [B_transition]])"
   ]
  },
  {
   "cell_type": "code",
   "execution_count": null,
   "id": "503476da",
   "metadata": {},
   "outputs": [],
   "source": [
    "C = np.ones((1,6))"
   ]
  },
  {
   "cell_type": "code",
   "execution_count": null,
   "id": "24ce4228",
   "metadata": {},
   "outputs": [],
   "source": [
    "D = 0"
   ]
  },
  {
   "cell_type": "code",
   "execution_count": null,
   "id": "c7c76da2",
   "metadata": {},
   "outputs": [],
   "source": [
    "sys = control.ss(A, B, C, D)"
   ]
  },
  {
   "cell_type": "code",
   "execution_count": null,
   "id": "ba150098",
   "metadata": {},
   "outputs": [],
   "source": [
    "T, yout, xout = control.forced_response(sys, T=t, U=u, X0=x0, return_x=True, squeeze=True)"
   ]
  },
  {
   "cell_type": "code",
   "execution_count": null,
   "id": "5a978d40",
   "metadata": {},
   "outputs": [],
   "source": [
    "xout.shape"
   ]
  },
  {
   "cell_type": "code",
   "execution_count": null,
   "id": "4b38cb5d",
   "metadata": {},
   "outputs": [],
   "source": [
    "plt.plot(t, xout[1], label='v1')\n",
    "# plt.plot(t,result[:steps,0], label = 'i1')\n",
    "plt.xlabel(r'$t\\,/\\,\\mathrm{s}$')\n",
    "plt.ylabel('$v_{\\mathrm{1}}\\,/\\,\\mathrm{V}$')\n",
    "# plt.title('{}'.format())\n",
    "plt.legend()\n",
    "plt.grid()\n",
    "plt.show()"
   ]
  },
  {
   "cell_type": "markdown",
   "id": "95ff7fe4",
   "metadata": {},
   "source": [
    "## 2 Nodes with 3 connections"
   ]
  },
  {
   "cell_type": "code",
   "execution_count": null,
   "id": "f3674d52",
   "metadata": {},
   "outputs": [],
   "source": [
    "# define values of the parameter\n",
    "R = 0.4\n",
    "L = 2.3e-3\n",
    "C = 10e-6\n",
    "LT = 2.3e-3\n",
    "R_load = 14\n",
    "\n",
    "vi1 = 230\n",
    "vi2 = 230"
   ]
  },
  {
   "cell_type": "code",
   "execution_count": null,
   "id": "b65c17c0",
   "metadata": {},
   "outputs": [],
   "source": [
    "#def varaibles\n",
    "\n",
    "R1 = R\n",
    "L1 = L\n",
    "C1 = C\n",
    "R2 = R\n",
    "L2 = L\n",
    "C2 = C\n",
    "LT12 = LT\n",
    "LT23 = LT\n",
    "LT13 = LT\n",
    "RT12 = R # For checking result set this on to inf\n",
    "RT23 = R\n",
    "RT13 = R"
   ]
  },
  {
   "cell_type": "code",
   "execution_count": null,
   "id": "0a4ee18c",
   "metadata": {},
   "outputs": [],
   "source": [
    "i10 = 0\n",
    "v10 = 0\n",
    "i20 = 0\n",
    "v20 = 0\n",
    "iT120 = 0\n",
    "iT230 = 0\n",
    "iT130 = 0\n",
    "t0 = 0\n",
    "\n",
    "# x0 = np.array([i10, v10, iT10, i20, v20, iT20])\n",
    "x0 = [i10, v10, i20, v20, iT120, iT230, iT130]"
   ]
  },
  {
   "cell_type": "code",
   "execution_count": null,
   "id": "05574a05",
   "metadata": {},
   "outputs": [],
   "source": [
    "A_source1 = np.array([[-R1/L1, -1/L1],\n",
    "                     [1/C, 0]])\n",
    "A_source2 = np.array([[-R2/L2, -1/L2],\n",
    "                     [1/C, 0]])\n",
    "\n",
    "A_zeros = np.zeros((2,2))\n",
    "\n",
    "A_source = np.block([[A_source1, A_zeros],\n",
    "                     [A_zeros, A_source2]])"
   ]
  },
  {
   "cell_type": "code",
   "execution_count": null,
   "id": "157e8cfe",
   "metadata": {},
   "outputs": [],
   "source": [
    "A_col1 = np.array([[0,0,0],\n",
    "                   [-1/C1, -1/C1, 0]])\n",
    "A_col2 = np.array([[0,0,0],\n",
    "                   [1/C2, 0, -1/C2]])\n",
    "A_col = np.block([[A_col1],\n",
    "                 [A_col1]])\n",
    "\n",
    "A_row1 = np.array([[0, 1/LT12],\n",
    "                  [0, 1/LT13],\n",
    "                  [0, 0]])\n",
    "\n",
    "A_row2 = np.array([[0, 1/LT12],\n",
    "                  [0, 0],\n",
    "                  [0, 1/LT23]])\n",
    "\n",
    "A_row = np.block([A_row1, A_row2])"
   ]
  },
  {
   "cell_type": "code",
   "execution_count": null,
   "id": "850128a6",
   "metadata": {},
   "outputs": [],
   "source": [
    "A_transitions = np.array([[-RT12/LT12, 0, 0],\n",
    "                          [0, -(RT13+R_load)/LT13, -R_load/LT13],\n",
    "                          [0, -R_load/LT23, -(RT23+R_load)/LT23]])"
   ]
  },
  {
   "cell_type": "code",
   "execution_count": null,
   "id": "fb2ac4fd",
   "metadata": {},
   "outputs": [],
   "source": [
    "A = np.block([[A_source, A_col],\n",
    "              [A_row, A_transitions]])"
   ]
  },
  {
   "cell_type": "code",
   "execution_count": null,
   "id": "557ffed2",
   "metadata": {},
   "outputs": [],
   "source": [
    "B_source1 = np.array([[1/L1, 0],\n",
    "                     [0, 0]])\n",
    "B_source2 = np.array([[0, 1/L2],\n",
    "                     [0, 0]])\n",
    "\n",
    "B_transition = np.zeros((3,2))\n",
    "\n",
    "B = np.block([[B_source1],\n",
    "              [B_source2],\n",
    "              [B_transition]])"
   ]
  },
  {
   "cell_type": "code",
   "execution_count": null,
   "id": "5d8bb259",
   "metadata": {},
   "outputs": [],
   "source": [
    "C = np.ones((1,7))"
   ]
  },
  {
   "cell_type": "code",
   "execution_count": null,
   "id": "136a94c0",
   "metadata": {},
   "outputs": [],
   "source": [
    "D = 0"
   ]
  },
  {
   "cell_type": "code",
   "execution_count": null,
   "id": "cef86b1e",
   "metadata": {},
   "outputs": [],
   "source": [
    "sys = control.ss(A, B, C, D)"
   ]
  },
  {
   "cell_type": "code",
   "execution_count": null,
   "id": "1d32a78f",
   "metadata": {},
   "outputs": [],
   "source": [
    "T, yout, xout = control.forced_response(sys, T=t, U=u, X0=x0, return_x=True, squeeze=True)"
   ]
  },
  {
   "cell_type": "code",
   "execution_count": null,
   "id": "1fbd1ed6",
   "metadata": {},
   "outputs": [],
   "source": [
    "plt.plot(t, xout[1], label='v1')\n",
    "# plt.plot(t,result[:steps,0], label = 'i1')\n",
    "plt.xlabel(r'$t\\,/\\,\\mathrm{s}$')\n",
    "plt.ylabel('$v_{\\mathrm{1}}\\,/\\,\\mathrm{V}$')\n",
    "# plt.title('{}'.format())\n",
    "plt.legend()\n",
    "plt.grid()\n",
    "plt.show()"
   ]
  },
  {
   "cell_type": "code",
   "execution_count": null,
   "id": "28413b3c",
   "metadata": {},
   "outputs": [],
   "source": []
  },
  {
   "cell_type": "markdown",
   "id": "2cd115d8",
   "metadata": {},
   "source": [
    "# Playground"
   ]
  },
  {
   "cell_type": "code",
   "execution_count": null,
   "id": "8c4a709e",
   "metadata": {},
   "outputs": [],
   "source": [
    "num_source = 2 # num of sources\n",
    "num_loads = 1 # num of loads\n",
    "\n",
    "ele_tot = num_source + num_loads # total elements\n",
    "\n",
    "num_lines = ele_tot**2 - ele_tot # upper limit"
   ]
  },
  {
   "cell_type": "code",
   "execution_count": null,
   "id": "3817f300",
   "metadata": {},
   "outputs": [],
   "source": [
    "class NodeConstructor:\n",
    "    def __init__(self, num_source, num_loads, S2S_p=0.1, S2L_p=0.8):\n",
    "        self.num_source = num_source\n",
    "        self.num_loads = num_loads\n",
    "        self.tot_ele = num_source + num_loads\n",
    "        self.S2S_p = S2S_p\n",
    "        self.S2L_p = S2L_p\n",
    "        self.cntr = 0\n",
    "        self.num_connections = 3\n",
    "    \n",
    "    def to2be_or_n2b(self, x, p):\n",
    "        \n",
    "        # To count up the connection, cntr is returned.\n",
    "        # If only one type of cabel is used this is not necessary an can be replaced by 1\n",
    "        \n",
    "        if x < p:\n",
    "            self.cntr += 1  \n",
    "            return self.cntr\n",
    "        else:\n",
    "            x = 0\n",
    "            return x\n",
    "    \n",
    "    def generate_CM(self):\n",
    "        '''\n",
    "        Constructs the CM\n",
    "        '''\n",
    "        \n",
    "        self.cntr = 0\n",
    "\n",
    "        # Get a upper triangular matrix\n",
    "        mask = np.tri(self.tot_ele).T\n",
    "        CM = np.random.rand(self.tot_ele,self.tot_ele) * mask # fill matrix with random entries between [0,1]\n",
    "        CM = CM - np.eye(CM.shape[0]) * np.diag(CM) # delet diagonal bc no connection with itself\n",
    "\n",
    "        # Go throught the matrix\n",
    "        # -1 bc last entrie is 0 anyway\n",
    "        # start at i, bc we need to check only upper triangle\n",
    "\n",
    "        for i in range(self.tot_ele-1): \n",
    "            for j in range(i, self.tot_ele-1): \n",
    "                if j >= self.num_source: # select propability according to column\n",
    "                    CM[i, j+1] = self.to2be_or_n2b(CM[i, j+1], self.S2L_p) \n",
    "                else:\n",
    "                    CM[i, j+1] = self.to2be_or_n2b(CM[i, j+1], self.S2S_p)\n",
    "\n",
    "        CM = CM - CM.T # copy with negative sign to lower triangle\n",
    "        \n",
    "        self.num_connections = self.cntr\n",
    "\n",
    "        return CM\n",
    "    \n",
    "    def get_A_source(self, R, C, L):\n",
    "        # this matrix is always a 2x2 for inverter\n",
    "        A_source = np.zeros((2,2))\n",
    "        A_source[0,0] = -R/L\n",
    "        A_source[0,1] = -1/L\n",
    "        A_source[1,0] =  1/C\n",
    "        return A_source\n",
    "    \n",
    "    def get_A_col(self, source_x, C, CM):\n",
    "        # this matrix is (2 x num_connections)\n",
    "        # for this case C is assumed to be just an int.\n",
    "        # Later C could be an array with the diffrent paramters and would be indexed via C[source_x] \n",
    "        \n",
    "        A_col = np.zeros((2, self.num_connections))\n",
    "        \n",
    "        CM_row = CM[source_x-1]\n",
    "        \n",
    "        indizes = list(CM_row[CM_row != 0]) # get entries unequal 0\n",
    "        signs = np.sign(indizes) # get signs\n",
    "        indizes_ = indizes*signs # delet signs from indices\n",
    "        \n",
    "        for i, (idx, sign) in enumerate(zip(indizes_, signs)):\n",
    "            A_col[1,idx-1] = sign * -C\n",
    "                                        \n",
    "        return A_col\n",
    "    \n",
    "    def get_A_row(self, source_x, LT, CM):\n",
    "        \n",
    "        A_row = np.zeros((2, self.num_connections))\n",
    "        \n",
    "        CM_col = CM[source_x-1]\n",
    "        \n",
    "        indizes = list(CM_col[CM_col != 0]) # get entries unequal 0\n",
    "        signs = np.sign(indizes) # get signs\n",
    "        indizes_ = indizes*signs # delet signs from indices\n",
    "        \n",
    "        for i, (idx, sign) in enumerate(zip(indizes_, signs)):\n",
    "            A_row[1,idx-1] = sign * -LT\n",
    "        \n",
    "        return A_row.T\n",
    "    \n",
    "    def get_A_transitions(self, RT, LT, RL, CM):\n",
    "        A_transitions = np.zeros((self.num_connections, self.num_connections))\n",
    "        for i in range(1,self.num_connections+1):\n",
    "            (row, col) = np.where(CM==i)\n",
    "            (row_idx, col_idx) = (row[0], col[0])\n",
    "            \n",
    "            print(f'(row_idx, col_idx):{row_idx, col_idx}')\n",
    "            \n",
    "            # check if its a S2S connection\n",
    "            if col_idx < self.num_source: # row_idx < self.num_source and \n",
    "                \n",
    "                A_transitions[i-1,i-1] = -RT/LT # RT[i] and LT[i]\n",
    "                \n",
    "            # Then it has to be S2L\n",
    "            else:\n",
    "                # easy diagonal entry\n",
    "                A_transitions[i-1,i-1] = -(RT + RL)/LT # (RT[i] + RL[col_idx])/LT[i] -> RL[col_idx]? not sure\n",
    "                \n",
    "                # search for other connections to this specific load in the colum\n",
    "                CM_col = CM[:,col_idx]\n",
    "                \n",
    "                mask = np.logical_and(CM_col > 0, CM_col != i) # i bc we already cover this case\n",
    "                indizes = list(CM_col[mask])\n",
    "                \n",
    "                # cross entries for the other connections to this load\n",
    "                for j, idx in enumerate(indizes):\n",
    "                    A_transitions[i-1, idx-1] = -RL/LT # LT[i] if LT is an arry with diffrent values and RL[col_idx]?\n",
    "        \n",
    "        return A_transitions\n",
    "    \n",
    "    def generate_A():\n",
    "        A_zeros = np.zeros((2,2))\n",
    "        for i in range(self.num_source):\n",
    "            for j in range(self.num_source):\n",
    "                A[i,j]\n",
    "            \n",
    "        \n",
    "    \n",
    "    def generate_B():\n",
    "        pass\n",
    "    \n",
    "    def generate_C():\n",
    "        return np.ones(1, self.tot_ele)\n",
    "    \n",
    "    def generate_D():\n",
    "        return 0"
   ]
  },
  {
   "cell_type": "code",
   "execution_count": null,
   "id": "29556d41",
   "metadata": {},
   "outputs": [],
   "source": [
    "Node_3S_2L = NodeConstructor(2, 1)"
   ]
  },
  {
   "cell_type": "code",
   "execution_count": null,
   "id": "a3c148ef",
   "metadata": {},
   "outputs": [],
   "source": [
    "CM = np.array([[0,1,2],\n",
    "              [-1, 0, 3],\n",
    "              [-2, -3, 0]])"
   ]
  },
  {
   "cell_type": "code",
   "execution_count": null,
   "id": "7f6b7661",
   "metadata": {},
   "outputs": [],
   "source": [
    "CM = Node_3S_2L.generate_CM()"
   ]
  },
  {
   "cell_type": "code",
   "execution_count": null,
   "id": "82a64c0e",
   "metadata": {},
   "outputs": [],
   "source": [
    "A = Node_3S_2L.get_A_source(10, 10, 10)"
   ]
  },
  {
   "cell_type": "code",
   "execution_count": null,
   "id": "accc75e1",
   "metadata": {},
   "outputs": [],
   "source": [
    "Node_3S_2L.get_A_col(2, 10, CM)"
   ]
  },
  {
   "cell_type": "code",
   "execution_count": null,
   "id": "43b22dfa",
   "metadata": {},
   "outputs": [],
   "source": [
    "Node_3S_2L.get_A_row(2, 10, CM)"
   ]
  },
  {
   "cell_type": "code",
   "execution_count": null,
   "id": "ac0c26bd",
   "metadata": {},
   "outputs": [],
   "source": [
    "Node_3S_2L.get_A_transitions(4, 2, 2, CM)"
   ]
  },
  {
   "cell_type": "code",
   "execution_count": null,
   "id": "afde6b4e",
   "metadata": {},
   "outputs": [],
   "source": []
  },
  {
   "cell_type": "code",
   "execution_count": null,
   "id": "41ec17ec",
   "metadata": {},
   "outputs": [],
   "source": [
    "def generate_source(R, C, L):\n",
    "    A = np.zeros((2,2))\n",
    "    A[0,0] = -R/L\n",
    "    A[0,1] = -1/L\n",
    "    A[1,0] =  1/C\n",
    "    return A"
   ]
  }
 ],
 "metadata": {
  "kernelspec": {
   "display_name": "Python 3 (ipykernel)",
   "language": "python",
   "name": "python3"
  },
  "language_info": {
   "codemirror_mode": {
    "name": "ipython",
    "version": 3
   },
   "file_extension": ".py",
   "mimetype": "text/x-python",
   "name": "python",
   "nbconvert_exporter": "python",
   "pygments_lexer": "ipython3",
   "version": "3.9.4"
  }
 },
 "nbformat": 4,
 "nbformat_minor": 5
}
