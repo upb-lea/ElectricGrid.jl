{
 "cells": [
  {
   "cell_type": "markdown",
   "metadata": {},
   "source": [
    "# Interface investigation - Python\n",
    "\n",
    "Uses an environment based on `nodeconstructor.py` to built a power grid for step vise interaction. \n"
   ]
  },
  {
   "cell_type": "code",
   "execution_count": null,
   "metadata": {
    "pycharm": {
     "name": "#%%\n"
    }
   },
   "outputs": [],
   "source": [
    "import gym\n",
    "import numpy as np\n",
    "import matplotlib.pyplot as plt\n",
    "import pandas as pd\n",
    "\n",
    "from stable_baselines3 import DDPG\n",
    "from stable_baselines3.common.noise import NormalActionNoise, OrnsteinUhlenbeckActionNoise\n",
    "\n",
    "from pre_investigations.python.Interface.env_dare import Env_DARE"
   ]
  },
  {
   "cell_type": "markdown",
   "metadata": {},
   "source": [
    "### Helper plotting function"
   ]
  },
  {
   "cell_type": "code",
   "execution_count": null,
   "metadata": {},
   "outputs": [],
   "source": [
    "def plt_obs(obs_matrix_denorm, title=\"\"):\n",
    "    fig, ax1 = plt.subplots(2, 2, figsize=(7, 5))\n",
    "\n",
    "    ax1[0, 0].step(t, obs_matrix_denorm[:, 1], 'r', label='v1')\n",
    "    # plt.plot(t,result[:steps,0], label = 'i1')\n",
    "    ax1[0, 0].set_xlabel(r'$t\\,/\\,\\mathrm{s}$')\n",
    "    ax1[0, 0].set_ylabel('$v_{\\mathrm{1}}\\,/\\,\\mathrm{V}$')\n",
    "    # plt.title('{}'.format())\n",
    "    ax1[0, 0].legend()\n",
    "    ax1[0, 0].grid()\n",
    "    #plt.title(title)\n",
    "    # ax1[0].set_ylim([0, 340])\n",
    "\n",
    "    ax1[0, 1].step(t, obs_matrix_denorm[:, 0], 'r', label='i1')\n",
    "    ax1[0, 1].step(t, obs_matrix_denorm[:, 4], '--b', label='iT1')\n",
    "    # plt.plot(t,result[:steps,0], label = 'i1')\n",
    "    ax1[0, 1].set_xlabel(r'$t\\,/\\,\\mathrm{s}$')\n",
    "    ax1[0, 1].set_ylabel('$i_{\\mathrm{}}\\,/\\,\\mathrm{A}$')\n",
    "    # plt.title('{}'.format())\n",
    "    ax1[0, 1].legend()\n",
    "    ax1[0, 1].grid()\n",
    "    # ax1[0].set_ylim([0, 340])\n",
    "\n",
    "    ax1[1, 0].step(t, obs_matrix_denorm[:, 3], 'r', label='v2')\n",
    "    # plt.plot(t,result[:steps,0], label = 'i1')\n",
    "    ax1[1, 0].set_xlabel(r'$t\\,/\\,\\mathrm{s}$')\n",
    "    ax1[1, 0].set_ylabel('$v_{\\mathrm{2}}\\,/\\,\\mathrm{V}$')\n",
    "    # plt.title('{}'.format())\n",
    "    ax1[1, 0].legend()\n",
    "    ax1[1, 0].grid()\n",
    "    # ax1[0].set_ylim([0, 340])\n",
    "\n",
    "    ax1[1, 1].step(t, obs_matrix_denorm[:, 2], 'r', label='i2')\n",
    "    ax1[1, 1].step(t, obs_matrix_denorm[:, 5], '--b', label='iT2')\n",
    "    # plt.plot(t,result[:steps,0], label = 'i1')\n",
    "    ax1[1, 1].set_xlabel(r'$t\\,/\\,\\mathrm{s}$')\n",
    "    ax1[1, 1].set_ylabel('$i_{\\mathrm{}}\\,/\\,\\mathrm{A}$')\n",
    "    # plt.title('{}'.format())\n",
    "    ax1[1, 1].legend()\n",
    "    ax1[1, 1].grid()\n",
    "    # ax1[0].set_ylim([0, 340])\n",
    "    fig.suptitle(title, fontsize=14)\n",
    "    plt.show()\n",
    "\n",
    "    P_ref = [ref] * len(t)\n",
    "    P_load = (obs_matrix_denorm[:, 4] + obs_matrix_denorm[:, 5]) * parameter[\"R_load\"]\n",
    "    # plot power via Load\n",
    "    plt.step(t, P_load, 'b', label='P_{load}')\n",
    "    plt.step(t, P_ref, '--', color='gray', label='P_{ref}')\n",
    "    plt.xlabel(r'$t\\,/\\,\\mathrm{s}$')\n",
    "    plt.ylabel('$P_{\\mathrm{}}\\,/\\,\\mathrm{W}$')\n",
    "    # plt.title('{}'.format())\n",
    "    plt.legend()\n",
    "    plt.grid()\n",
    "    plt.title(title)\n",
    "\n",
    "\n",
    "\n",
    "\n",
    "    # ax1[0].set_ylim([0, 340])\n",
    "    plt.show()"
   ]
  },
  {
   "cell_type": "markdown",
   "metadata": {},
   "source": [
    " ### Define Environment\n",
    " "
   ]
  },
  {
   "cell_type": "code",
   "execution_count": null,
   "metadata": {},
   "outputs": [],
   "source": [
    "# define time vector\n",
    "ts = 1e-4\n",
    "t_end = 0.01\n",
    "steps = int(1 / ts)\n",
    "t = np.arange(0, t_end + ts, ts)\n",
    "num_samples = len(t)\n",
    "\n",
    "# network params\n",
    "R = 0.4\n",
    "L = 2.3e-3\n",
    "C = 10e-6\n",
    "LT = 2.3e-3\n",
    "R_load = 14\n",
    "\n",
    "# limits for normalization\n",
    "i_lim = 20\n",
    "v_lim = 600\n",
    "\n",
    "limits = dict()\n",
    "limits['i_lim'] = i_lim\n",
    "limits['v_lim'] = v_lim\n",
    "\n",
    "# x0 = np.array([i10, v10, i20, v20, iT10, iT20])\n",
    "x0 = [0, 0, 0, 0, 0, 0]\n",
    "\n",
    "vi1 = 0.7  # 200\n",
    "vi2 = 0.7  # 200\n",
    "\n",
    "parameter = dict()\n",
    "parameter['R_source'] = R\n",
    "parameter['L_source'] = L\n",
    "parameter['C_source'] = C\n",
    "parameter['L_cabel'] = LT\n",
    "parameter['R_cabel'] = R\n",
    "parameter['R_load'] = R_load\n",
    "parameter['V_dc'] = 300\n",
    "\n",
    "# define CM\n",
    "CM = np.array([[0, 0, 1],\n",
    "               [0, 0, 2],\n",
    "               [-1, -2, 0]])\n",
    "\n",
    "ref = 200  # W\n",
    "\n",
    "env = Env_DARE(CM=CM, ts=ts, parameter=parameter, x0=x0, limits=limits, refs=ref)"
   ]
  },
  {
   "cell_type": "markdown",
   "metadata": {},
   "source": [
    "## Environment\n",
    "- Uses control-toolbox\n",
    "- norms state based on limits\n",
    "- overwrites gym `step()` and `reset()`\n",
    "- actions: modulation indecies for the inverters. Are multiplied with `V_dc` defined in the parameters of the env.\n",
    "\n",
    "Goal: To supply the load with reference power `P*`.\n",
    "\n",
    "-> Reward:\n",
    "\n",
    "![](./images/reward.png)"
   ]
  },
  {
   "cell_type": "markdown",
   "metadata": {},
   "source": [
    "### Interact using constant action\n"
   ]
  },
  {
   "cell_type": "code",
   "execution_count": null,
   "metadata": {},
   "outputs": [],
   "source": [
    "obs = env.reset()\n",
    "obs_matrix = np.array(obs)\n",
    "\n",
    "for i in range(num_samples - 1):\n",
    "    # action, _states = model.predict(obs)\n",
    "    action = np.array([[vi1], [vi2]])\n",
    "    # action = np.array([action.squeeze(),action.squeeze()])#np.array([[vi1], [vi2]])\n",
    "    obs, rewards, dones, info = env.step(action)\n",
    "    obs_matrix = np.vstack((obs_matrix, obs))\n",
    "\n",
    "\n",
    "# denormalize!\n",
    "obs_matrix_denorm = obs_matrix * env.norm_array\n",
    "plt_obs(obs_matrix_denorm, \"Constant action\")"
   ]
  },
  {
   "cell_type": "markdown",
   "metadata": {},
   "source": [
    "# REINFORCE!\n"
   ]
  },
  {
   "cell_type": "code",
   "execution_count": null,
   "metadata": {},
   "outputs": [],
   "source": [
    "# USe SB3 DDPG with standard  parametrization\n",
    "n_actions = env.action_space.shape[-1]\n",
    "action_noise = NormalActionNoise(mean=np.zeros(n_actions), sigma=0.1 * np.ones(n_actions))\n",
    "\n",
    "model = DDPG(\"MlpPolicy\",\n",
    "             env=env,\n",
    "             learning_rate=1e-3,\n",
    "             buffer_size=1_000,  # 1e6\n",
    "             learning_starts=100,\n",
    "             batch_size=10,  # 100\n",
    "             tau=0.005,\n",
    "             gamma=0.99,\n",
    "             train_freq=(1, \"episode\"),\n",
    "             gradient_steps=-1,\n",
    "             action_noise=action_noise,\n",
    "             replay_buffer_class=None,\n",
    "             replay_buffer_kwargs=None,\n",
    "             optimize_memory_usage=False,\n",
    "             tensorboard_log=None,\n",
    "             create_eval_env=False,\n",
    "             policy_kwargs=None,\n",
    "             verbose=0,\n",
    "             seed=None,\n",
    "             device=\"auto\",\n",
    "             _init_setup_model=True,\n",
    "             )"
   ]
  },
  {
   "cell_type": "code",
   "execution_count": null,
   "metadata": {},
   "outputs": [],
   "source": [
    "# test dumm agent\n",
    "obs = env.reset()\n",
    "obs_matrix_dumm_ddpg = np.array(obs)\n",
    "for i in range(num_samples - 1):\n",
    "    action, _states = model.predict(obs)\n",
    "    obs, rewards, dones, info = env.step(action)\n",
    "    obs_matrix_dumm_ddpg = np.vstack((obs_matrix_dumm_ddpg, obs))\n",
    "\n",
    "obs_matrix_dumm_ddpg_denorm = obs_matrix_dumm_ddpg * env.norm_array\n",
    "plt_obs(obs_matrix_dumm_ddpg_denorm, \"untrained agent\")"
   ]
  }
 ],
 "metadata": {
  "kernelspec": {
   "display_name": "Python 3 (ipykernel)",
   "language": "python",
   "name": "python3"
  },
  "language_info": {
   "codemirror_mode": {
    "name": "ipython",
    "version": 3
   },
   "file_extension": ".py",
   "mimetype": "text/x-python",
   "name": "python",
   "nbconvert_exporter": "python",
   "pygments_lexer": "ipython3",
   "version": "3.9.7"
  }
 },
 "nbformat": 4,
 "nbformat_minor": 1
}